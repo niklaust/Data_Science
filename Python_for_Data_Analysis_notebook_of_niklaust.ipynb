{
  "nbformat": 4,
  "nbformat_minor": 0,
  "metadata": {
    "colab": {
      "provenance": [],
      "collapsed_sections": [
        "O4YPvkmva2iL",
        "bZqYxUVucqSZ"
      ],
      "authorship_tag": "ABX9TyP1ILHyYv373yTlXk/HMsBH",
      "include_colab_link": true
    },
    "kernelspec": {
      "name": "python3",
      "display_name": "Python 3"
    },
    "language_info": {
      "name": "python"
    }
  },
  "cells": [
    {
      "cell_type": "markdown",
      "metadata": {
        "id": "view-in-github",
        "colab_type": "text"
      },
      "source": [
        "<a href=\"https://colab.research.google.com/github/niklaust/Data_Science/blob/main/Python_for_Data_Analysis_notebook_of_niklaust.ipynb\" target=\"_parent\"><img src=\"https://colab.research.google.com/assets/colab-badge.svg\" alt=\"Open In Colab\"/></a>"
      ]
    },
    {
      "cell_type": "markdown",
      "source": [
        "# **Reference**\n",
        "Wes McKinney. (2022). *Python for Data Analysis Data Wrangling with pandas, NumPy, and Jupyter, Third Edition*. O'Reilly"
      ],
      "metadata": {
        "id": "ImCmqzleACWR"
      }
    },
    {
      "cell_type": "markdown",
      "source": [
        "github:niklaust"
      ],
      "metadata": {
        "id": "BI_xFfrMBDIN"
      }
    },
    {
      "cell_type": "markdown",
      "source": [
        "start 20230327"
      ],
      "metadata": {
        "id": "0Oyg6UMdBG4O"
      }
    },
    {
      "cell_type": "markdown",
      "source": [
        "<h1><center><b>Data Analysis</b></center></h1>"
      ],
      "metadata": {
        "id": "6tBFGmL_BPOt"
      }
    },
    {
      "cell_type": "markdown",
      "source": [
        "# <center><b>Chapter 1. Preliminaries</b></center>"
      ],
      "metadata": {
        "id": "vP7DlRZQDZ9l"
      }
    },
    {
      "cell_type": "markdown",
      "source": [
        "## **1.1 What we will learn about?**"
      ],
      "metadata": {
        "id": "KPwaKTjoGP5d"
      }
    },
    {
      "cell_type": "markdown",
      "source": [
        "An adequate preparation to enable to move on to a more domain-specific resource.\n",
        "\n",
        "We will learn about:\n",
        "* manipulating\n",
        "* processing\n",
        "* cleaning\n",
        "* crunching data\n",
        "\n",
        "to become an effective data analyst."
      ],
      "metadata": {
        "id": "xecy4JopFxlF"
      }
    },
    {
      "cell_type": "markdown",
      "source": [
        "**What kinds of Data?**"
      ],
      "metadata": {
        "id": "sJ6T7lUXGdb-"
      }
    },
    {
      "cell_type": "markdown",
      "source": [
        "The primary focus is on **structured data**\n",
        "\n",
        "* **Tabular** or **spreadsheet-like data** in which each column maybe a different type (string, numeric, date, or otherwise). This includes most kinds of data commonly stored in relational databases or tab- or comma-delimited text files.\n",
        "* **Multidimensional arrays** (matrics).\n",
        "* Multiple tables of data interrelated by key columns (what would be primary or foreign keys for a **SQL** user).\n",
        "* Evenly or unevenly spaced **time series**."
      ],
      "metadata": {
        "id": "9mrgbeUNGhD1"
      }
    },
    {
      "cell_type": "markdown",
      "source": [
        "## **1.2 Why Python for Data Analysis?**"
      ],
      "metadata": {
        "id": "jWv9_gQRIs_U"
      }
    },
    {
      "cell_type": "markdown",
      "source": [
        "Python has developed a large and active scientific computing and data analysis community.\n",
        "\n",
        "Python become one of the most **important languages** for **data science**, **machine learning**, and general software development in academia and industry.\n"
      ],
      "metadata": {
        "id": "qQni0Iz_Ix90"
      }
    },
    {
      "cell_type": "markdown",
      "source": [
        "**Why Not Python?**"
      ],
      "metadata": {
        "id": "-T-eCSaQKghw"
      }
    },
    {
      "cell_type": "markdown",
      "source": [
        "There ae a number of uses for which Python may be less suitable.\n",
        "\n",
        "As Python is an interpreted programming language, in general most Python **code will run substantially slower** than code written in a compiled language like Java or C++."
      ],
      "metadata": {
        "id": "nbiBT2l4Kj_M"
      }
    },
    {
      "cell_type": "markdown",
      "source": [
        "## **1.3 Essential Python Libraries**"
      ],
      "metadata": {
        "id": "0kWFUvsqLuhM"
      }
    },
    {
      "cell_type": "markdown",
      "source": [
        "### **NumPy**"
      ],
      "metadata": {
        "id": "bidNkdBvLzfF"
      }
    },
    {
      "cell_type": "markdown",
      "source": [
        "NumPy, short for Numerical Python, has long been a cornerstone of **numerical computing** in Python. It provides the data structures, algorithms, and library glue needed for most scientific applications involving numerical data in Python. NumPy contains, among other things:\n",
        "\n",
        "* A fast and efficient multidimensional array object **ndarray**\n",
        "* Functions for performing element-wise **computations with arrays** or **mathematical operations between arrays**\n",
        "* **Tools** for **reading** and **writing** array-based datasets to disk\n",
        "* **Linear algebra operations**, Fourier transform, and random number generation\n",
        "* A **mature C API** to enbable Python **extensions** and native C or C++ code to access NumPy's data structures and computational facilities\n",
        "\n",
        "NumPy arrays are more efficient for storing and manipulating data. NumPy arrays as a primary data structure or else target interoperability with NumPy."
      ],
      "metadata": {
        "id": "issUBoN0MLyM"
      }
    },
    {
      "cell_type": "markdown",
      "source": [
        "### **pandas**"
      ],
      "metadata": {
        "id": "x9Wd9fdxOuuF"
      }
    },
    {
      "cell_type": "markdown",
      "source": [
        "pandas provides **high-level data structures** and **functions designed** to make **working with structured** or **tabular data** intuitive and flexible. \n",
        "\n",
        "The primary objects in pandas that will be focus on are **DataFrame**, a tabular column-oriented data structure with both row and column labels, and the **Series**, a one-dimensional labeled array object.\n",
        "\n",
        "pandas blends the array-computing ideas of NumPy with the kinds of data manipulation capabilities found in spreadsheets and relational databases (such as SQL). It provides convenient indexing functionality to enable you to reshape, slice and  dice, perform aggregations, and select subsets of data. Since **data manipulation**, **preparetion**, and **cleaning** are such important skills in data analysis."
      ],
      "metadata": {
        "id": "Gi_VH_toO0pF"
      }
    },
    {
      "cell_type": "markdown",
      "source": [
        "### **matplotlib**"
      ],
      "metadata": {
        "id": "ECjdsPm_SPAw"
      }
    },
    {
      "cell_type": "markdown",
      "source": [
        "matplotlib is the most popular Python library for **producing plots** and **other two-dimensional data visualizations**. "
      ],
      "metadata": {
        "id": "j_l9qdikSTpU"
      }
    },
    {
      "cell_type": "markdown",
      "source": [
        "### **IPython**"
      ],
      "metadata": {
        "id": "yHG_A1mxUGVA"
      }
    },
    {
      "cell_type": "markdown",
      "source": [
        "IPython is a programming tool designed to facilitate **interactive computing** and **software development work**. The tool is unique in that it encourages an execute-explore workflow rather than the typical edit-compile-run workflow of other programming languages. Additionally, IPython provides access to the operating system's shell and filesystem, which reduces the need for users to switch between a terminal window and a Python session"
      ],
      "metadata": {
        "id": "XxILws4tUJRc"
      }
    },
    {
      "cell_type": "markdown",
      "source": [
        "### **SciPy**"
      ],
      "metadata": {
        "id": "g5ZI5s4qUVIE"
      }
    },
    {
      "cell_type": "markdown",
      "source": [
        "SciPy is a collection of packages **addressing a number of foundational problems** in **scientific computing**. \n",
        "\n",
        "* `scipy.integrate` : Numerical intergration routines and differential equation solvers\n",
        "* `scipy.linalg` : Linear algebra routines and matrix decompositions extending beyound those provided in `numpy.linalg` \n",
        "* `scipy.optimize` : Function optimizers (minimizers) and root finding algorithms\n",
        "* `scipy.signal` : Signal processing tools\n",
        "* `scipy.sparse` : Sparse matrices and sparse linear system solvers \n",
        "* `scipy.special` : Wrapper around SPECFUN, a FORTRAN library implementing many common mathematical functions, such as the `gamma` function\n",
        "* `scipy.stats` : Standard continuous and discrete probability distributions (density functions, samples, continuous distribution functions), various statistical tests, and more descriptive statistics.\n",
        "\n",
        "Together, NumPy and SciPy from a resonably complete and mature computational foundation for many traditional scientific computing applications."
      ],
      "metadata": {
        "id": "sc67jkWPUcRM"
      }
    },
    {
      "cell_type": "markdown",
      "source": [
        "### **scikit-learn**"
      ],
      "metadata": {
        "id": "K9rTWAK8WJQr"
      }
    },
    {
      "cell_type": "markdown",
      "source": [
        "scikit-learn has become the premier general-purpose **machine learning toolkit for Python programmers**. As of this writing, more than two thousand different individuals have contributed code to the project. It includes submodules for such models as:\n",
        "\n",
        "* **Classification**: SVM, nearest neighbors, random forest, logistic regression, etc.\n",
        "* **Regression**: Lasso, ridge regression, etc.\n",
        "* **Clustering**: k-means, spectral clustering, etc.\n",
        "* **Dimensionality** reduction: PCA, feature selection, matrix factorization, etc.\n",
        "* **Model selection**: Grid search, cross-validation, metrics\n",
        "* **Preprocessing**: Feature extraction, normalization"
      ],
      "metadata": {
        "id": "CJqF11DgWO5D"
      }
    },
    {
      "cell_type": "markdown",
      "source": [
        "### **statismodels**"
      ],
      "metadata": {
        "id": "U581bKINXWs0"
      }
    },
    {
      "cell_type": "markdown",
      "source": [
        "Statsmodels is a **statistical analysis package**, which is implemented a number of **regression analysis models** popular in the R programming language.\n",
        "\n",
        "Compared with scikit-learn, statsmodels contains algorithms for classical (primarily frequentist) **statistics** and **econometrics**. This includes such submodules as:\n",
        "\n",
        "* **Regression models**: linear regression, generalized linear models, robust linear models, linear mixed effects models, etc.\n",
        "* **Analysis of variance** (ANOVA)\n",
        "* **Time series analysis**: AR, ARMA, ARIMA, VAR, and other models\n",
        "* **Nonparametric methods**: Kernel denisty estimation, kernel regression\n",
        "* **Visualization of statistical mode**l results\n",
        "\n",
        "statsmodels is more focused on **statistical inference**, providing uncertainty estimates and p-values for parameters. scikit-learn, by contrast, is more prediction focused. \n"
      ],
      "metadata": {
        "id": "U6PXVYXIYgyT"
      }
    },
    {
      "cell_type": "markdown",
      "source": [
        "Guideline for different end goals for their work, the tasks required generally fall into a number of different broad groups:\n",
        "\n",
        "* **Interacting with the outside world** - Reading and writing with a variety of file format and data stores\n",
        "* **Preparation** - Cleaning, munging, combining, normalizing, reshaping, slicing and dicting, and transforming data for analysis\n",
        "* **Transformation** - Applying mathematical and statistical operations to groups datasets to derive new datasets (e.g., aggregating a large table by group variables)\n",
        "* **Modeling and computation**  - Connneting your data to statistical models, machine learning algorithms, or other computational tools\n",
        "* **Presentation** - Creating interactive or static graphical visualizations or textual summaries"
      ],
      "metadata": {
        "id": "RC0Grot3kuib"
      }
    },
    {
      "cell_type": "markdown",
      "source": [
        "# <center><b>Chapter 2. Python Language Basics, IPython and Jupyter Notebooks </b></center>"
      ],
      "metadata": {
        "id": "Y9k9MLzjc2uM"
      }
    },
    {
      "cell_type": "markdown",
      "source": [
        "An introductory text in working with data in Python.\n",
        "\n",
        "Mostly, focuses on:\n",
        "* Table-based analytics\n",
        "* Data preparation tools for working with data sets\n",
        "\n",
        "Sometime, we do some wrangling to arrange messy data into a more nicely tabular (or structured) form."
      ],
      "metadata": {
        "id": "TLvfdy21Zqnk"
      }
    },
    {
      "cell_type": "markdown",
      "source": [
        "## **2.1 The Python Interpreter**"
      ],
      "metadata": {
        "id": "O4YPvkmva2iL"
      }
    },
    {
      "cell_type": "markdown",
      "source": [
        "Python is an **interpreted language**. The Python interpreter **runs a program by executing one statement at a time**."
      ],
      "metadata": {
        "id": "_tMn0xPobYxp"
      }
    },
    {
      "cell_type": "markdown",
      "source": [
        "Some do data analysis or scientific computing make use of **IPython**, an enhanced Python interpreter, or **Jupyter notebooks**, Web-based code notebooks originally created within the IPython project."
      ],
      "metadata": {
        "id": "vNt54ycbcIQF"
      }
    },
    {
      "cell_type": "markdown",
      "source": [
        "## **2.2 IPython Basics**"
      ],
      "metadata": {
        "id": "bZqYxUVucqSZ"
      }
    },
    {
      "cell_type": "markdown",
      "source": [
        "IPython provides facilities to execute arbitrary blocks of code (via a somewhat glorified copy-and-paste approach) and whole Python scripts. "
      ],
      "metadata": {
        "id": "38SHdv71dtXL"
      }
    },
    {
      "cell_type": "code",
      "source": [
        "a = 5\n",
        "a"
      ],
      "metadata": {
        "colab": {
          "base_uri": "https://localhost:8080/"
        },
        "id": "4ri9NC7JdFpS",
        "outputId": "4dbe32da-35ae-4d74-cb1a-9231cd87c7f0"
      },
      "execution_count": 6,
      "outputs": [
        {
          "output_type": "execute_result",
          "data": {
            "text/plain": [
              "5"
            ]
          },
          "metadata": {},
          "execution_count": 6
        }
      ]
    },
    {
      "cell_type": "code",
      "source": [
        "import numpy as np\n",
        "\n",
        "data = [np.random.standard_normal() for i in range(7)]\n",
        "data"
      ],
      "metadata": {
        "colab": {
          "base_uri": "https://localhost:8080/"
        },
        "id": "zQWqycF6dMhx",
        "outputId": "ef53b713-c776-41ad-84dd-0ac84b102b19"
      },
      "execution_count": 5,
      "outputs": [
        {
          "output_type": "execute_result",
          "data": {
            "text/plain": [
              "[-0.0897850222318582,\n",
              " 1.7311433792888753,\n",
              " 1.4131745614923839,\n",
              " -0.151770027838262,\n",
              " 1.3853420237700667,\n",
              " -0.3713195143206432,\n",
              " 0.35114147658826644]"
            ]
          },
          "metadata": {},
          "execution_count": 5
        }
      ]
    },
    {
      "cell_type": "markdown",
      "source": [
        "**Jupyter Notebook**\n",
        "\n"
      ],
      "metadata": {
        "id": "6rdzmI47esWQ"
      }
    },
    {
      "cell_type": "markdown",
      "source": [
        "One of the major components of the Jupyter project is the **notebook**, a type of **interactive document for code**, text (including Markdown), data visualizations, and other output."
      ],
      "metadata": {
        "id": "l3b2X_Akeyto"
      }
    },
    {
      "cell_type": "markdown",
      "source": [
        "**Introspection**"
      ],
      "metadata": {
        "id": "Ovp3RE8XhxYJ"
      }
    },
    {
      "cell_type": "markdown",
      "source": [
        "Using a question mark (?) before or after a variable will display some general information about the object:"
      ],
      "metadata": {
        "id": "gH2Y-F55h0px"
      }
    },
    {
      "cell_type": "code",
      "source": [
        "b = [1, 2, 3]"
      ],
      "metadata": {
        "id": "MO-oFWlxh8FR"
      },
      "execution_count": 10,
      "outputs": []
    },
    {
      "cell_type": "code",
      "source": [
        "b?"
      ],
      "metadata": {
        "id": "EGNaJXosh-Xo"
      },
      "execution_count": 12,
      "outputs": []
    },
    {
      "cell_type": "code",
      "source": [
        "print?"
      ],
      "metadata": {
        "id": "Ku-MYfydiHK5"
      },
      "execution_count": 13,
      "outputs": []
    },
    {
      "cell_type": "code",
      "source": [
        "def add_numbers(a, b):\n",
        "  \"\"\"\n",
        "  Add two numbers together\n",
        "  \n",
        "  Returns \n",
        "  --------\n",
        "  the_sum : type of arguments\n",
        "  \"\"\"\n",
        "  return a + b"
      ],
      "metadata": {
        "id": "NyL2uBw1iNWZ"
      },
      "execution_count": 14,
      "outputs": []
    },
    {
      "cell_type": "code",
      "source": [
        "add_numbers?"
      ],
      "metadata": {
        "id": "nLotYGLhiepI"
      },
      "execution_count": 15,
      "outputs": []
    },
    {
      "cell_type": "markdown",
      "source": [
        "? has a final usage, which is for searching the IPython namespace in a manner similar to the standard Unix or Windows command line. A number of characters combined with the wildcard (\\*) will show all names matching the wildcard expression. For example, we could get a list of all functions in the top-level NumPy namespace containing `load:`"
      ],
      "metadata": {
        "id": "wNnngCugiyJh"
      }
    },
    {
      "cell_type": "code",
      "source": [
        "import numpy as np "
      ],
      "metadata": {
        "id": "M93PNLDFimo5"
      },
      "execution_count": 16,
      "outputs": []
    },
    {
      "cell_type": "code",
      "source": [
        "np.*load*?"
      ],
      "metadata": {
        "id": "JxaEAdNDiqEo"
      },
      "execution_count": 17,
      "outputs": []
    },
    {
      "cell_type": "markdown",
      "source": [
        "## **2.3 Python Language Basics**"
      ],
      "metadata": {
        "id": "6lxGdibWjNeA"
      }
    },
    {
      "cell_type": "markdown",
      "source": [
        "**Language Semantics**"
      ],
      "metadata": {
        "id": "twmVKdhAjZ04"
      }
    },
    {
      "cell_type": "markdown",
      "source": [
        "The Python language design is distinguished by its **emphasis on readability**, **simplicity**, and **explicitness**. Some people go so far as to liken it to \"executable pseudocode.\""
      ],
      "metadata": {
        "id": "-BpkjzzGjcPw"
      }
    },
    {
      "cell_type": "markdown",
      "source": [
        "Python uses **whitespace** (tabs or spaces) to structure code instead of using braces as in many other languages\n",
        "\n",
        "A **colon** denotes the **start of an indented code block** after which all of the code must be indented by the same amount until the end of the block.\n",
        "\n",
        "**Semicolons** can be used to **separate multiple statements** on a single line, Howeve, Putting multiple statements on one line is generally discouraged in Python as it can make code less readable.\n"
      ],
      "metadata": {
        "id": "Ae3qKbJ8lM7w"
      }
    },
    {
      "cell_type": "markdown",
      "source": [
        "**Comments** any text preceded by the hash make (pound sign) `#` is ignored by the Python interpreter. this is often used to add comments to code."
      ],
      "metadata": {
        "id": "GWcZ1qfdl7Yw"
      }
    },
    {
      "cell_type": "markdown",
      "source": [
        "**Variables and argument passing**"
      ],
      "metadata": {
        "id": "iy2zfyPGmTaw"
      }
    },
    {
      "cell_type": "markdown",
      "source": [
        "When **assigning a variable** (or name) in Python, you are **creating a reference to the object** shown on the righthand side of the equals sign. In practical terms, consider a list of integers:\n"
      ],
      "metadata": {
        "id": "KWrP9fQjmeTv"
      }
    },
    {
      "cell_type": "code",
      "source": [
        "a = [1, 2, 3]"
      ],
      "metadata": {
        "id": "YDYK5GDkmsN3"
      },
      "execution_count": 18,
      "outputs": []
    },
    {
      "cell_type": "code",
      "source": [
        "b = a "
      ],
      "metadata": {
        "id": "xHy9p9eImyTO"
      },
      "execution_count": 19,
      "outputs": []
    },
    {
      "cell_type": "code",
      "source": [
        "b"
      ],
      "metadata": {
        "colab": {
          "base_uri": "https://localhost:8080/"
        },
        "id": "GP6-_l2am0GJ",
        "outputId": "7a697ac7-fdca-4b27-aace-a16394d818c6"
      },
      "execution_count": 20,
      "outputs": [
        {
          "output_type": "execute_result",
          "data": {
            "text/plain": [
              "[1, 2, 3]"
            ]
          },
          "metadata": {},
          "execution_count": 20
        }
      ]
    },
    {
      "cell_type": "markdown",
      "source": [
        "In some languages, the assignment if `b` will casue the `data[1, 2, 3]` to be **copied.** \n",
        "\n",
        "In **Python**, `a` and `b` actually **now refer to the same object**, the original list `[1,2,3]`"
      ],
      "metadata": {
        "id": "8XmQNVi5nCrC"
      }
    },
    {
      "cell_type": "code",
      "source": [
        "a.append(4)"
      ],
      "metadata": {
        "id": "ATlvs6H0nfGp"
      },
      "execution_count": 21,
      "outputs": []
    },
    {
      "cell_type": "code",
      "source": [
        "b"
      ],
      "metadata": {
        "colab": {
          "base_uri": "https://localhost:8080/"
        },
        "id": "Qv80puXrnhQI",
        "outputId": "468b967b-3283-4ee7-e484-d7315dcba9d3"
      },
      "execution_count": 22,
      "outputs": [
        {
          "output_type": "execute_result",
          "data": {
            "text/plain": [
              "[1, 2, 3, 4]"
            ]
          },
          "metadata": {},
          "execution_count": 22
        }
      ]
    },
    {
      "cell_type": "markdown",
      "source": [
        "When you pass objects as arguments to a **function**, new **local variables are created** referencing the original objects without any copying. If you bind a new object to a variable inside a function, that will not overwrite a variable of the same name in the \"scope\" outside of the function (the \"parent scope\"). It is therefore possible to alter the internals of a mutable argument. "
      ],
      "metadata": {
        "id": "x3B9ugj_nvrI"
      }
    },
    {
      "cell_type": "code",
      "source": [
        "def append_element(some_list, element):\n",
        "  some_list.append(element)"
      ],
      "metadata": {
        "id": "X_nq2qKDoebY"
      },
      "execution_count": 23,
      "outputs": []
    },
    {
      "cell_type": "code",
      "source": [
        "data = [1, 2, 3]\n",
        "append_element(data, 4)"
      ],
      "metadata": {
        "id": "MEsqdcpFokpw"
      },
      "execution_count": 25,
      "outputs": []
    },
    {
      "cell_type": "code",
      "source": [
        "data"
      ],
      "metadata": {
        "colab": {
          "base_uri": "https://localhost:8080/"
        },
        "id": "Bs8boXrxomzo",
        "outputId": "7f45644f-fcdf-4ce4-d956-07e432fae290"
      },
      "execution_count": 26,
      "outputs": [
        {
          "output_type": "execute_result",
          "data": {
            "text/plain": [
              "[1, 2, 3, 4]"
            ]
          },
          "metadata": {},
          "execution_count": 26
        }
      ]
    },
    {
      "cell_type": "markdown",
      "source": [
        "**Dynamic references, strong types**"
      ],
      "metadata": {
        "id": "SSutfF1QpEoh"
      }
    },
    {
      "cell_type": "markdown",
      "source": [
        "Variables in Python have **no inherent type** associated with them; a variable can refer to a different type of object simply by doing an assignment. "
      ],
      "metadata": {
        "id": "zSrBEgWrpOlP"
      }
    },
    {
      "cell_type": "code",
      "source": [
        "a = 5"
      ],
      "metadata": {
        "id": "vPYZ0fXMpfVp"
      },
      "execution_count": 27,
      "outputs": []
    },
    {
      "cell_type": "code",
      "source": [
        "type(a)"
      ],
      "metadata": {
        "colab": {
          "base_uri": "https://localhost:8080/"
        },
        "id": "8IB1UWlMpg4A",
        "outputId": "a9fb2542-f8cf-480b-96e2-44a737ba2c22"
      },
      "execution_count": 28,
      "outputs": [
        {
          "output_type": "execute_result",
          "data": {
            "text/plain": [
              "int"
            ]
          },
          "metadata": {},
          "execution_count": 28
        }
      ]
    },
    {
      "cell_type": "code",
      "source": [
        "a = \"foo\""
      ],
      "metadata": {
        "id": "1ZlB0iSKpiQp"
      },
      "execution_count": 29,
      "outputs": []
    },
    {
      "cell_type": "code",
      "source": [
        "type(a)"
      ],
      "metadata": {
        "colab": {
          "base_uri": "https://localhost:8080/"
        },
        "id": "_cuDdY1apkKY",
        "outputId": "b18c6f86-ae8e-4b5d-9e34-3b08ec781458"
      },
      "execution_count": 30,
      "outputs": [
        {
          "output_type": "execute_result",
          "data": {
            "text/plain": [
              "str"
            ]
          },
          "metadata": {},
          "execution_count": 30
        }
      ]
    },
    {
      "cell_type": "markdown",
      "source": [
        "Python is a **strongly type language**, which means that **every object has a specific type (or class),** and implicit conversions will occur only in certain permitted circumstances."
      ],
      "metadata": {
        "id": "5Des3Aggp35a"
      }
    },
    {
      "cell_type": "code",
      "source": [
        "a = 4.5\n",
        "b = 2"
      ],
      "metadata": {
        "id": "6C5XgIf8qJaT"
      },
      "execution_count": 32,
      "outputs": []
    },
    {
      "cell_type": "code",
      "source": [
        "# String formatting, to be visited later\n",
        "print(f\"a is {type(a)}, b is {type(b)}\")"
      ],
      "metadata": {
        "colab": {
          "base_uri": "https://localhost:8080/"
        },
        "id": "90mqyd9PqRl3",
        "outputId": "f22bbcaa-38d8-403f-f5d7-7b22a12eaa0a"
      },
      "execution_count": 33,
      "outputs": [
        {
          "output_type": "stream",
          "name": "stdout",
          "text": [
            "a is <class 'float'>, b is <class 'int'>\n"
          ]
        }
      ]
    },
    {
      "cell_type": "code",
      "source": [
        "a / b"
      ],
      "metadata": {
        "colab": {
          "base_uri": "https://localhost:8080/"
        },
        "id": "n-wqFDaAqf8g",
        "outputId": "8b6bf621-39fd-49f4-bac2-29c1bb058186"
      },
      "execution_count": 34,
      "outputs": [
        {
          "output_type": "execute_result",
          "data": {
            "text/plain": [
              "2.25"
            ]
          },
          "metadata": {},
          "execution_count": 34
        }
      ]
    },
    {
      "cell_type": "markdown",
      "source": [
        "**Knowing the type of an object is important**, and it's useful ot be able to write functions that can handle many different kinds of input. You can check that an objectis an instance of a particular type using the `isinstance` function:"
      ],
      "metadata": {
        "id": "nHJM_C-iqnlo"
      }
    },
    {
      "cell_type": "code",
      "source": [
        "a = 5\n",
        "\n",
        "isinstance(a, int)"
      ],
      "metadata": {
        "colab": {
          "base_uri": "https://localhost:8080/"
        },
        "id": "eNkpLSVXq54A",
        "outputId": "b4ddedde-8752-4c1d-985d-9a8c5cae333b"
      },
      "execution_count": 35,
      "outputs": [
        {
          "output_type": "execute_result",
          "data": {
            "text/plain": [
              "True"
            ]
          },
          "metadata": {},
          "execution_count": 35
        }
      ]
    },
    {
      "cell_type": "markdown",
      "source": [
        "`isinstance` can accept a tuple of types if you want to check that an objct's type is among those present in the tuple:"
      ],
      "metadata": {
        "id": "90Tjn1MurDK1"
      }
    },
    {
      "cell_type": "code",
      "source": [
        "a = 5\n",
        "b = 4.5"
      ],
      "metadata": {
        "id": "8RRtz0HMrCh1"
      },
      "execution_count": 40,
      "outputs": []
    },
    {
      "cell_type": "code",
      "source": [
        "isinstance(a, (int, float))"
      ],
      "metadata": {
        "colab": {
          "base_uri": "https://localhost:8080/"
        },
        "id": "VP_dkpl1rRbg",
        "outputId": "b9b19a23-0eea-495e-b60f-2872b88da402"
      },
      "execution_count": 37,
      "outputs": [
        {
          "output_type": "execute_result",
          "data": {
            "text/plain": [
              "True"
            ]
          },
          "metadata": {},
          "execution_count": 37
        }
      ]
    },
    {
      "cell_type": "code",
      "source": [
        "isinstance(b, (int, float))"
      ],
      "metadata": {
        "colab": {
          "base_uri": "https://localhost:8080/"
        },
        "id": "D0ryyqwcrUtf",
        "outputId": "7df5001d-2996-444d-eb55-90edc0f66165"
      },
      "execution_count": 42,
      "outputs": [
        {
          "output_type": "execute_result",
          "data": {
            "text/plain": [
              "True"
            ]
          },
          "metadata": {},
          "execution_count": 42
        }
      ]
    },
    {
      "cell_type": "markdown",
      "source": [
        "**Attributes and methods**"
      ],
      "metadata": {
        "id": "fOmyr9M3ruDA"
      }
    },
    {
      "cell_type": "markdown",
      "source": [
        "Objects in Python typically have both: \n",
        "\n",
        "* **attributes** (other Python objects stored \"inside\" the object) \n",
        "* **methods** (functions associated with an object that can have access to the object's internal data). \n",
        "\n",
        "Both of them are accessed via the syntax `obj.attribute_name:`"
      ],
      "metadata": {
        "id": "RKbM57J_rxcA"
      }
    },
    {
      "cell_type": "code",
      "source": [
        "a = \"foo\""
      ],
      "metadata": {
        "id": "OR9HpqCgsLjI"
      },
      "execution_count": 43,
      "outputs": []
    },
    {
      "cell_type": "code",
      "source": [
        "getattr(a, \"split\")"
      ],
      "metadata": {
        "colab": {
          "base_uri": "https://localhost:8080/"
        },
        "id": "jOctpEhasc7h",
        "outputId": "42f49c91-df8e-4dfa-d927-da69b444847d"
      },
      "execution_count": 44,
      "outputs": [
        {
          "output_type": "execute_result",
          "data": {
            "text/plain": [
              "<function str.split(sep=None, maxsplit=-1)>"
            ]
          },
          "metadata": {},
          "execution_count": 44
        }
      ]
    },
    {
      "cell_type": "markdown",
      "source": [
        "**Duck typing**"
      ],
      "metadata": {
        "id": "VznldWayspCX"
      }
    },
    {
      "cell_type": "markdown",
      "source": [
        "Often you may **not care about the type of an object** but rather only whether it has **certain methods or behavior**. This is sometimes called duck typing,"
      ],
      "metadata": {
        "id": "0wq0uF5WsyXH"
      }
    },
    {
      "cell_type": "code",
      "source": [
        "def isiterable(obj):\n",
        "  try:\n",
        "    iter(obj)\n",
        "    return True\n",
        "  except TypeError: # not iterable\n",
        "    return False"
      ],
      "metadata": {
        "id": "rf8XjgKQtZLQ"
      },
      "execution_count": 45,
      "outputs": []
    },
    {
      "cell_type": "code",
      "source": [
        "isiterable(\"a string\")"
      ],
      "metadata": {
        "colab": {
          "base_uri": "https://localhost:8080/"
        },
        "id": "AcpS10pNtije",
        "outputId": "da8731c6-66fa-4bee-920b-4befa6c7b576"
      },
      "execution_count": 46,
      "outputs": [
        {
          "output_type": "execute_result",
          "data": {
            "text/plain": [
              "True"
            ]
          },
          "metadata": {},
          "execution_count": 46
        }
      ]
    },
    {
      "cell_type": "code",
      "source": [
        "isiterable([1, 2, 3])"
      ],
      "metadata": {
        "colab": {
          "base_uri": "https://localhost:8080/"
        },
        "id": "i-FZ5opztlhf",
        "outputId": "6622214b-0f63-4658-8109-a2d35dbfe877"
      },
      "execution_count": 47,
      "outputs": [
        {
          "output_type": "execute_result",
          "data": {
            "text/plain": [
              "True"
            ]
          },
          "metadata": {},
          "execution_count": 47
        }
      ]
    },
    {
      "cell_type": "code",
      "source": [
        "isiterable(5)"
      ],
      "metadata": {
        "colab": {
          "base_uri": "https://localhost:8080/"
        },
        "id": "t1DlfpxAtpoQ",
        "outputId": "94716d8d-e4c1-4c4e-9774-0f2b8e32bf8b"
      },
      "execution_count": 48,
      "outputs": [
        {
          "output_type": "execute_result",
          "data": {
            "text/plain": [
              "False"
            ]
          },
          "metadata": {},
          "execution_count": 48
        }
      ]
    },
    {
      "cell_type": "markdown",
      "source": [
        "**Imports**"
      ],
      "metadata": {
        "id": "s-QU-3CFtsmG"
      }
    },
    {
      "cell_type": "markdown",
      "source": [
        "In Python, a module is simply a file with the `.py` extension containing Python code. Suppose we had the following module:"
      ],
      "metadata": {
        "id": "bVvT0Edet4Bn"
      }
    },
    {
      "cell_type": "code",
      "source": [
        "# some_module.py\n",
        "PI = 3.14159\n",
        "\n",
        "def f(x):\n",
        "  return x + 2\n",
        "\n",
        "def g(a, b):\n",
        "  return a + b"
      ],
      "metadata": {
        "id": "8ecrQkjxuIUE"
      },
      "execution_count": 53,
      "outputs": []
    },
    {
      "cell_type": "markdown",
      "source": [
        "If we wanted to access the variables and functions defined in `some_module.py`, from another file in the same directory we could do:"
      ],
      "metadata": {
        "id": "LJV1zDaku5lQ"
      }
    },
    {
      "cell_type": "code",
      "source": [
        "import some_module\n",
        "\n",
        "result = some_module.f(5)\n",
        "pi = some_module.PI"
      ],
      "metadata": {
        "id": "08_haBObuU_g"
      },
      "execution_count": 54,
      "outputs": []
    },
    {
      "cell_type": "code",
      "source": [
        "from some_module import g, PI\n",
        "\n",
        "result = g(5, PI)"
      ],
      "metadata": {
        "id": "l0dM0Aqxu3KL"
      },
      "execution_count": 55,
      "outputs": []
    },
    {
      "cell_type": "code",
      "source": [
        "import some_module as sm\n",
        "from some_module import PI as pi, g as gf \n",
        "\n",
        "r1 = sm.f(pi)\n",
        "r2 = gf(6, pi)"
      ],
      "metadata": {
        "id": "m7wGw-zDvMJf"
      },
      "execution_count": 56,
      "outputs": []
    },
    {
      "cell_type": "markdown",
      "source": [
        "**Binary operators and comparisions**"
      ],
      "metadata": {
        "id": "utgR6OfXvYUf"
      }
    },
    {
      "cell_type": "code",
      "source": [
        "5 - 7"
      ],
      "metadata": {
        "colab": {
          "base_uri": "https://localhost:8080/"
        },
        "id": "X4NJm5HUvdhn",
        "outputId": "89b78602-af93-47c8-bfc0-1d19bde03e57"
      },
      "execution_count": 57,
      "outputs": [
        {
          "output_type": "execute_result",
          "data": {
            "text/plain": [
              "-2"
            ]
          },
          "metadata": {},
          "execution_count": 57
        }
      ]
    },
    {
      "cell_type": "code",
      "source": [
        "12 + 21.5"
      ],
      "metadata": {
        "colab": {
          "base_uri": "https://localhost:8080/"
        },
        "id": "R5UR6oPOvfLH",
        "outputId": "b4dd1c80-a0e2-4bfe-bd61-e16adb85b16a"
      },
      "execution_count": 58,
      "outputs": [
        {
          "output_type": "execute_result",
          "data": {
            "text/plain": [
              "33.5"
            ]
          },
          "metadata": {},
          "execution_count": 58
        }
      ]
    },
    {
      "cell_type": "code",
      "source": [
        "5 <= 2"
      ],
      "metadata": {
        "colab": {
          "base_uri": "https://localhost:8080/"
        },
        "id": "b-pW-EC8vg0H",
        "outputId": "b71feb4c-8558-41c9-fe8b-a3e898889320"
      },
      "execution_count": 59,
      "outputs": [
        {
          "output_type": "execute_result",
          "data": {
            "text/plain": [
              "False"
            ]
          },
          "metadata": {},
          "execution_count": 59
        }
      ]
    },
    {
      "cell_type": "markdown",
      "source": [
        "<table>\n",
        "  <tr>\n",
        "    <th colspan=\"2\"><h4><b>Binary Operators</b></h4></th>\n",
        "  </tr>\n",
        "  <tr>\n",
        "    <th>Operation</th>\n",
        "    <th>Description</th>\n",
        "  </tr>\n",
        "  <tr>\n",
        "    <td>a + b</td>\n",
        "    <td>Add a and b\n",
        "</td>\n",
        "  </tr>\n",
        "  <tr>\n",
        "    <td>a - b</td>\n",
        "    <td>Subtract b from a</td>\n",
        "  </tr>\n",
        "  <tr>\n",
        "    <td>a * b</td>\n",
        "    <td>Multiply a by b</td>\n",
        "  </tr>\n",
        "  <tr>\n",
        "    <td>a / b</td>\n",
        "    <td>Divide a by b</td>\n",
        "  </tr>\n",
        "  <tr>\n",
        "    <td>a // b</td>\n",
        "    <td>Floor-divide a by b, dropping any fractional remainder</td>\n",
        "  </tr>\n",
        "  <tr>\n",
        "    <td>a ** b </td>\n",
        "    <td>Raise a to the b power</td>\n",
        "  </tr>\n",
        "  <tr>\n",
        "    <td>a & b</td>\n",
        "    <td>True if both a and b are True; for integers, take the bitwise AND</td>\n",
        "  </tr>\n",
        "  <tr>\n",
        "    <td>a | b</td>\n",
        "    <td>True if either a or b is True; for integers, take the bitwise OR</td>\n",
        "  </tr>\n",
        "  <tr>\n",
        "    <td>a ^ b</td>\n",
        "    <td>For Booleans, True if a or b is True, but not both; for integers, take the bitwise EXCLUSIVE-OR</td>\n",
        "  </tr>\n",
        "  <tr>\n",
        "    <td>a == b</td>\n",
        "    <td>True if a equals b</td>\n",
        "  </tr>\n",
        "  <tr>\n",
        "    <td>a != b</td>\n",
        "    <td>True if a is not equal to b</td>\n",
        "  </tr>\n",
        "  <tr>\n",
        "    <td>a < b, a <= b</td>\n",
        "    <td>True if a is less than (less than or equal to) b</td>\n",
        "  </tr>\n",
        "  <tr>\n",
        "    <td>a > b, a >= b</td>\n",
        "    <td>True if a is greater than (greater than or equal to) b</td>\n",
        "  </tr>\n",
        "  <tr>\n",
        "    <td>a is b </td>\n",
        "    <td>True if a and b reference the same Python objec</td>\n",
        "  </tr>\n",
        "  <tr>\n",
        "    <td>a is not b</td>\n",
        "    <td>True if a and b reference different Python object</td>\n",
        "  </tr>\n",
        "</table>"
      ],
      "metadata": {
        "id": "3EL9Swd7vlM3"
      }
    },
    {
      "cell_type": "markdown",
      "source": [
        "`is not` to check that two objects are not the same:"
      ],
      "metadata": {
        "id": "mb1l-vgLxKEA"
      }
    },
    {
      "cell_type": "code",
      "source": [
        "a = [1, 2, 3]\n",
        "b = a \n",
        "c = list(a)"
      ],
      "metadata": {
        "id": "t6cdHXG4w4YQ"
      },
      "execution_count": 60,
      "outputs": []
    },
    {
      "cell_type": "code",
      "source": [
        "a is b"
      ],
      "metadata": {
        "colab": {
          "base_uri": "https://localhost:8080/"
        },
        "id": "-WycMgNYw_Iv",
        "outputId": "32c142ad-5755-4c7d-8471-55d20f78c9b7"
      },
      "execution_count": 61,
      "outputs": [
        {
          "output_type": "execute_result",
          "data": {
            "text/plain": [
              "True"
            ]
          },
          "metadata": {},
          "execution_count": 61
        }
      ]
    },
    {
      "cell_type": "code",
      "source": [
        "a is not c"
      ],
      "metadata": {
        "colab": {
          "base_uri": "https://localhost:8080/"
        },
        "id": "Q1HZPJzoxAKg",
        "outputId": "9ccd098d-691a-4d41-e9dc-9032efe1b2f1"
      },
      "execution_count": 62,
      "outputs": [
        {
          "output_type": "execute_result",
          "data": {
            "text/plain": [
              "True"
            ]
          },
          "metadata": {},
          "execution_count": 62
        }
      ]
    },
    {
      "cell_type": "markdown",
      "source": [
        "`list` fuction always create a new Python list (i.e., a copy), we can be sure that `c` is distinct from `a`. Comparing with `is` is not the same as the `==` operator."
      ],
      "metadata": {
        "id": "CIka3rRjxZJ3"
      }
    },
    {
      "cell_type": "code",
      "source": [
        "a == c"
      ],
      "metadata": {
        "colab": {
          "base_uri": "https://localhost:8080/"
        },
        "id": "fv41Qc3WxYgp",
        "outputId": "4976a432-aec0-4707-8971-22b2021dcc49"
      },
      "execution_count": 63,
      "outputs": [
        {
          "output_type": "execute_result",
          "data": {
            "text/plain": [
              "True"
            ]
          },
          "metadata": {},
          "execution_count": 63
        }
      ]
    },
    {
      "cell_type": "markdown",
      "source": [
        "A common use of `is` and `is not` is to check if a variable is `None`, since there is only one instance of `None`:"
      ],
      "metadata": {
        "id": "0PavcUTbx8J5"
      }
    },
    {
      "cell_type": "code",
      "source": [
        "a = None"
      ],
      "metadata": {
        "id": "2yOwf67lyFK_"
      },
      "execution_count": 64,
      "outputs": []
    },
    {
      "cell_type": "code",
      "source": [
        "a is None"
      ],
      "metadata": {
        "colab": {
          "base_uri": "https://localhost:8080/"
        },
        "id": "doWOJfiQyHQf",
        "outputId": "355347e7-6cfc-4669-a9a9-ed84ed016211"
      },
      "execution_count": 65,
      "outputs": [
        {
          "output_type": "execute_result",
          "data": {
            "text/plain": [
              "True"
            ]
          },
          "metadata": {},
          "execution_count": 65
        }
      ]
    },
    {
      "cell_type": "markdown",
      "source": [
        "**Mutable and immutable objects**"
      ],
      "metadata": {
        "id": "PZxMxrMVyJgQ"
      }
    },
    {
      "cell_type": "markdown",
      "source": [
        "* mutable object or values that they contain **can be modified** such as list, dictionaies, NumPy arrays, and most user-defined types (classes)\n",
        "\n",
        "* immutable their internal data **cannot be changed** such as tuple"
      ],
      "metadata": {
        "id": "xupw1WY58wB_"
      }
    },
    {
      "cell_type": "code",
      "source": [
        "a_list = [\"fool\", 2, [4, 5]]\n",
        "a_list[2] = (3, 4)\n",
        "a_list"
      ],
      "metadata": {
        "colab": {
          "base_uri": "https://localhost:8080/"
        },
        "id": "rTCtBjHF9MB_",
        "outputId": "e3369ba4-a9ec-43ec-8254-0a2d72eb23f6"
      },
      "execution_count": 66,
      "outputs": [
        {
          "output_type": "execute_result",
          "data": {
            "text/plain": [
              "['fool', 2, (3, 4)]"
            ]
          },
          "metadata": {},
          "execution_count": 66
        }
      ]
    },
    {
      "cell_type": "code",
      "source": [
        "a_tupe = (3, 5, (4, 5))\n",
        "\n",
        "try:\n",
        "  a_tuple[1] = \"four\"\n",
        "except:\n",
        "  print(\"error\")"
      ],
      "metadata": {
        "colab": {
          "base_uri": "https://localhost:8080/"
        },
        "id": "GRGVQMxS9UXg",
        "outputId": "85aaf57a-92b1-4138-8547-6bb84dda341f"
      },
      "execution_count": 67,
      "outputs": [
        {
          "output_type": "stream",
          "name": "stdout",
          "text": [
            "error\n"
          ]
        }
      ]
    },
    {
      "cell_type": "markdown",
      "source": [
        "**Scalar Types**"
      ],
      "metadata": {
        "id": "2jS4Ays09gU4"
      }
    },
    {
      "cell_type": "markdown",
      "source": [
        "Python has a small set of built-in types for handling numerical data, strings, Boolean (True or False) values, and dates and time. These \"single value\" types are sometimes called scalar types, and we refer to them scalars."
      ],
      "metadata": {
        "id": "UKI5-7BJ9uAe"
      }
    },
    {
      "cell_type": "markdown",
      "source": [
        "<table>\n",
        "  <tr>\n",
        "    <th colspan=\"2\"><h4><b>Standard Python scalar types</b></h4></th>\n",
        "  </tr>\n",
        "  <tr>\n",
        "    <th>Type</th>\n",
        "    <th>Description</th>\n",
        "  </tr>\n",
        "  <tr>\n",
        "    <td>None</td>\n",
        "    <td>The Python “null” value (only one instance of the None object exists)</td>\n",
        "  </tr>\n",
        "  <tr>\n",
        "    <td>str</td>\n",
        "    <td>String type; holds Unicode strings\n",
        "</td>\n",
        "  </tr>\n",
        "  <tr>\n",
        "    <td>bytes</td>\n",
        "    <td>Raw binary data\n",
        "</td>\n",
        "  </tr>\n",
        "  <tr>\n",
        "    <td>float</td>\n",
        "    <td>Double-precision floating-point number (note there is no separate double type)\n",
        "</td>\n",
        "  </tr>\n",
        "  <tr>\n",
        "    <td>bool</td>\n",
        "    <td>A Boolean True or False value</td>\n",
        "  </tr>\n",
        "  <tr>\n",
        "    <td>int</td>\n",
        "    <td>Arbitrary precision integer</td>\n",
        "  </tr>\n",
        "</table>"
      ],
      "metadata": {
        "id": "KwuDMDm2-CJm"
      }
    },
    {
      "cell_type": "markdown",
      "source": [
        "**Numeric types**"
      ],
      "metadata": {
        "id": "HGzdp0Kg-13a"
      }
    },
    {
      "cell_type": "markdown",
      "source": [
        "The primary Python types for numbers are `int` and `float`. \n",
        "\n",
        "* `int` can store arbitararily larger numbers\n",
        "* `float` number with a double-precision value."
      ],
      "metadata": {
        "id": "CkYc8uF7-5M2"
      }
    },
    {
      "cell_type": "code",
      "source": [
        "ival = 123456\n",
        "ival ** 6"
      ],
      "metadata": {
        "colab": {
          "base_uri": "https://localhost:8080/"
        },
        "id": "_RGABZjn-vcp",
        "outputId": "9112c8eb-f51d-4bd7-cc31-9aec3c0c4813"
      },
      "execution_count": 68,
      "outputs": [
        {
          "output_type": "execute_result",
          "data": {
            "text/plain": [
              "3540570200530940541182574329856"
            ]
          },
          "metadata": {},
          "execution_count": 68
        }
      ]
    },
    {
      "cell_type": "code",
      "source": [
        "fval = 7.25\n",
        "fval2 = 6.78e-5"
      ],
      "metadata": {
        "id": "BjD_tDu8_Zet"
      },
      "execution_count": 69,
      "outputs": []
    },
    {
      "cell_type": "code",
      "source": [
        "3/2"
      ],
      "metadata": {
        "colab": {
          "base_uri": "https://localhost:8080/"
        },
        "id": "40F3ikFe_fsG",
        "outputId": "c589261b-88a4-444f-e699-7b02ef4bb994"
      },
      "execution_count": 70,
      "outputs": [
        {
          "output_type": "execute_result",
          "data": {
            "text/plain": [
              "1.5"
            ]
          },
          "metadata": {},
          "execution_count": 70
        }
      ]
    },
    {
      "cell_type": "code",
      "source": [
        "9//2"
      ],
      "metadata": {
        "colab": {
          "base_uri": "https://localhost:8080/"
        },
        "id": "KUCDoeis_hGu",
        "outputId": "496ccfea-8747-4636-c086-f9ab37096ee3"
      },
      "execution_count": 72,
      "outputs": [
        {
          "output_type": "execute_result",
          "data": {
            "text/plain": [
              "4"
            ]
          },
          "metadata": {},
          "execution_count": 72
        }
      ]
    },
    {
      "cell_type": "markdown",
      "source": [
        "**Strings**"
      ],
      "metadata": {
        "id": "SMNO7LS4_mCO"
      }
    },
    {
      "cell_type": "markdown",
      "source": [
        "You can write string literals using either single quotes `'` or double quotes  `\"` (double quotes are generally favored)"
      ],
      "metadata": {
        "id": "os3MxZsI_rJe"
      }
    },
    {
      "cell_type": "code",
      "source": [
        "a = 'one way of writing a string'\n",
        "b = \"another way\""
      ],
      "metadata": {
        "id": "xWiiFLqI_qwO"
      },
      "execution_count": 73,
      "outputs": []
    },
    {
      "cell_type": "markdown",
      "source": [
        "For multi-line  strings with line breaks, you can use triple quotes, `'''` or `\"\"\"`:"
      ],
      "metadata": {
        "id": "VhRT0gCrAN2g"
      }
    },
    {
      "cell_type": "code",
      "source": [
        "c = \"\"\"\n",
        "This is a longer string that \n",
        "spans multiple lines\n",
        "\"\"\""
      ],
      "metadata": {
        "id": "Cm7cg2DTALe-"
      },
      "execution_count": 74,
      "outputs": []
    },
    {
      "cell_type": "code",
      "source": [
        "c.count(\"\\n\")"
      ],
      "metadata": {
        "colab": {
          "base_uri": "https://localhost:8080/"
        },
        "id": "yEIzZaM7Afvd",
        "outputId": "b4f32cf2-e0ae-46df-b6b5-675999dea697"
      },
      "execution_count": 75,
      "outputs": [
        {
          "output_type": "execute_result",
          "data": {
            "text/plain": [
              "3"
            ]
          },
          "metadata": {},
          "execution_count": 75
        }
      ]
    },
    {
      "cell_type": "markdown",
      "source": [
        "Python strings are immutable, you cannot modify a string:"
      ],
      "metadata": {
        "id": "BSji9rdLAqWh"
      }
    },
    {
      "cell_type": "code",
      "source": [
        "a = \"this is a string\"\n",
        "\n",
        "try: \n",
        "  a[10] = \"f\"\n",
        "except:\n",
        "  print(\"error\")"
      ],
      "metadata": {
        "colab": {
          "base_uri": "https://localhost:8080/"
        },
        "id": "JOGU5w5PAiJF",
        "outputId": "2129303f-da7a-4fa1-f01b-0364691c88ba"
      },
      "execution_count": 76,
      "outputs": [
        {
          "output_type": "stream",
          "name": "stdout",
          "text": [
            "error\n"
          ]
        }
      ]
    },
    {
      "cell_type": "code",
      "source": [
        "b = a.replace(\"string\", \"longer string\")\n",
        "b "
      ],
      "metadata": {
        "colab": {
          "base_uri": "https://localhost:8080/",
          "height": 35
        },
        "id": "L9pQj5beA2U-",
        "outputId": "bcbc8bb3-2760-4534-9c1e-1f13827ac52f"
      },
      "execution_count": 77,
      "outputs": [
        {
          "output_type": "execute_result",
          "data": {
            "text/plain": [
              "'this is a longer string'"
            ],
            "application/vnd.google.colaboratory.intrinsic+json": {
              "type": "string"
            }
          },
          "metadata": {},
          "execution_count": 77
        }
      ]
    },
    {
      "cell_type": "code",
      "source": [
        "a "
      ],
      "metadata": {
        "colab": {
          "base_uri": "https://localhost:8080/",
          "height": 35
        },
        "id": "aes0WMJiBA6G",
        "outputId": "71dfc2d9-da42-4458-ca38-596ddc151fe2"
      },
      "execution_count": 78,
      "outputs": [
        {
          "output_type": "execute_result",
          "data": {
            "text/plain": [
              "'this is a string'"
            ],
            "application/vnd.google.colaboratory.intrinsic+json": {
              "type": "string"
            }
          },
          "metadata": {},
          "execution_count": 78
        }
      ]
    },
    {
      "cell_type": "code",
      "source": [
        "a = 5.6\n",
        "\n",
        "s = str(a)\n",
        "print(s, type(s))"
      ],
      "metadata": {
        "colab": {
          "base_uri": "https://localhost:8080/"
        },
        "id": "SczNJX_NBGl_",
        "outputId": "f519e836-1d95-4f80-c7f6-81c32b283f5e"
      },
      "execution_count": 80,
      "outputs": [
        {
          "output_type": "stream",
          "name": "stdout",
          "text": [
            "5.6 <class 'str'>\n"
          ]
        }
      ]
    },
    {
      "cell_type": "code",
      "source": [
        "s = \"python\"\n",
        "\n",
        "list(s)"
      ],
      "metadata": {
        "colab": {
          "base_uri": "https://localhost:8080/"
        },
        "id": "KKfyle68BRGm",
        "outputId": "d6f796dc-5a53-412b-f528-82598896071c"
      },
      "execution_count": 81,
      "outputs": [
        {
          "output_type": "execute_result",
          "data": {
            "text/plain": [
              "['p', 'y', 't', 'h', 'o', 'n']"
            ]
          },
          "metadata": {},
          "execution_count": 81
        }
      ]
    },
    {
      "cell_type": "code",
      "source": [
        "s[:3]"
      ],
      "metadata": {
        "colab": {
          "base_uri": "https://localhost:8080/",
          "height": 35
        },
        "id": "dyXkFQGmBYte",
        "outputId": "fac00a05-8902-443b-9b32-1ca0ecdbaa39"
      },
      "execution_count": 82,
      "outputs": [
        {
          "output_type": "execute_result",
          "data": {
            "text/plain": [
              "'pyt'"
            ],
            "application/vnd.google.colaboratory.intrinsic+json": {
              "type": "string"
            }
          },
          "metadata": {},
          "execution_count": 82
        }
      ]
    },
    {
      "cell_type": "code",
      "source": [
        "s = \"12\\\\34\"\n",
        "\n",
        "print(s)"
      ],
      "metadata": {
        "colab": {
          "base_uri": "https://localhost:8080/"
        },
        "id": "t7v_qiYlBhcg",
        "outputId": "949e688b-b311-4c36-efe2-8925c8cb2d66"
      },
      "execution_count": 83,
      "outputs": [
        {
          "output_type": "stream",
          "name": "stdout",
          "text": [
            "12\\34\n"
          ]
        }
      ]
    },
    {
      "cell_type": "code",
      "source": [
        "# r: raw string\n",
        "s = r\"this\\has\\no\\special\\characters\"\n",
        "\n",
        "s"
      ],
      "metadata": {
        "colab": {
          "base_uri": "https://localhost:8080/",
          "height": 35
        },
        "id": "Ryk7-tDpBmFn",
        "outputId": "676d0c83-90f6-46d6-c4c7-0d4108aa97c3"
      },
      "execution_count": 84,
      "outputs": [
        {
          "output_type": "execute_result",
          "data": {
            "text/plain": [
              "'this\\\\has\\\\no\\\\special\\\\characters'"
            ],
            "application/vnd.google.colaboratory.intrinsic+json": {
              "type": "string"
            }
          },
          "metadata": {},
          "execution_count": 84
        }
      ]
    },
    {
      "cell_type": "code",
      "source": [
        "# concatenates two strings\n",
        "a = \"this is the first half\"\n",
        "b = \"and this is the second half\"\n",
        "\n",
        "a + b "
      ],
      "metadata": {
        "colab": {
          "base_uri": "https://localhost:8080/",
          "height": 35
        },
        "id": "1OtkJIoSB7kI",
        "outputId": "649bba47-68d4-4119-86ca-b644659eeeb3"
      },
      "execution_count": 85,
      "outputs": [
        {
          "output_type": "execute_result",
          "data": {
            "text/plain": [
              "'this is the first halfand this is the second half'"
            ],
            "application/vnd.google.colaboratory.intrinsic+json": {
              "type": "string"
            }
          },
          "metadata": {},
          "execution_count": 85
        }
      ]
    },
    {
      "cell_type": "code",
      "source": [
        "template = \"{0:.2f} {1:s} are worth US${2:d}\"\n",
        "\n",
        "# {0:.2f} means to format the first argument as a floating-point number with two decimal places\n",
        "# {1:s} means to format the second argument as a string.\n",
        "# {2:d} means to format the thrid argument as an exact integer\n",
        "\n",
        "template.format(88.46, \"Argentine Pesos\", 1)"
      ],
      "metadata": {
        "colab": {
          "base_uri": "https://localhost:8080/",
          "height": 35
        },
        "id": "Nn2ht2J7CG9d",
        "outputId": "823eba99-54c3-4eea-b35a-61ea28d45de2"
      },
      "execution_count": 89,
      "outputs": [
        {
          "output_type": "execute_result",
          "data": {
            "text/plain": [
              "'88.46 Argentine Pesos are worth US$1'"
            ],
            "application/vnd.google.colaboratory.intrinsic+json": {
              "type": "string"
            }
          },
          "metadata": {},
          "execution_count": 89
        }
      ]
    },
    {
      "cell_type": "code",
      "source": [
        "amount = 10\n",
        "rate = 88.46\n",
        "currency = \"Pesos\"\n",
        "\n",
        "result = f\"{amount} {currency} is worth US${amount / rate}\"\n",
        "result"
      ],
      "metadata": {
        "colab": {
          "base_uri": "https://localhost:8080/",
          "height": 35
        },
        "id": "kM1hwa_pC6Zm",
        "outputId": "cf7bd8b0-3b26-4218-b299-7c791e54dabd"
      },
      "execution_count": 90,
      "outputs": [
        {
          "output_type": "execute_result",
          "data": {
            "text/plain": [
              "'10 Pesos is worth US$0.11304544426859599'"
            ],
            "application/vnd.google.colaboratory.intrinsic+json": {
              "type": "string"
            }
          },
          "metadata": {},
          "execution_count": 90
        }
      ]
    },
    {
      "cell_type": "code",
      "source": [
        "f\"{amount} {currency} is worth US${amount/ rate:.2f}\""
      ],
      "metadata": {
        "colab": {
          "base_uri": "https://localhost:8080/",
          "height": 35
        },
        "id": "7Ee5Zl0bDKm_",
        "outputId": "3c6bbea9-1f5f-485e-e9be-296e4f66779c"
      },
      "execution_count": 91,
      "outputs": [
        {
          "output_type": "execute_result",
          "data": {
            "text/plain": [
              "'10 Pesos is worth US$0.11'"
            ],
            "application/vnd.google.colaboratory.intrinsic+json": {
              "type": "string"
            }
          },
          "metadata": {},
          "execution_count": 91
        }
      ]
    },
    {
      "cell_type": "markdown",
      "source": [
        "**Bytes and Unicode**"
      ],
      "metadata": {
        "id": "Ay9GRViFDXji"
      }
    },
    {
      "cell_type": "code",
      "source": [
        "val = \"español\"\n",
        "\n",
        "val "
      ],
      "metadata": {
        "colab": {
          "base_uri": "https://localhost:8080/",
          "height": 35
        },
        "id": "C4neu2FcDdEG",
        "outputId": "7a3c7ca9-e87d-4730-b13c-26a61927cec6"
      },
      "execution_count": 92,
      "outputs": [
        {
          "output_type": "execute_result",
          "data": {
            "text/plain": [
              "'español'"
            ],
            "application/vnd.google.colaboratory.intrinsic+json": {
              "type": "string"
            }
          },
          "metadata": {},
          "execution_count": 92
        }
      ]
    },
    {
      "cell_type": "code",
      "source": [
        "val_utf8 = val.encode(\"utf-8\")\n",
        "\n",
        "val_utf8"
      ],
      "metadata": {
        "colab": {
          "base_uri": "https://localhost:8080/"
        },
        "id": "oT1dW77vDjBG",
        "outputId": "754a9d42-a809-402c-ff89-e854d77edeaf"
      },
      "execution_count": 94,
      "outputs": [
        {
          "output_type": "execute_result",
          "data": {
            "text/plain": [
              "b'espa\\xc3\\xb1ol'"
            ]
          },
          "metadata": {},
          "execution_count": 94
        }
      ]
    },
    {
      "cell_type": "code",
      "source": [
        "type(val_utf8)"
      ],
      "metadata": {
        "colab": {
          "base_uri": "https://localhost:8080/"
        },
        "id": "OQO-MqLrDtz-",
        "outputId": "dedf345e-e1f0-4bfd-f12b-5bf7d54f8870"
      },
      "execution_count": 95,
      "outputs": [
        {
          "output_type": "execute_result",
          "data": {
            "text/plain": [
              "bytes"
            ]
          },
          "metadata": {},
          "execution_count": 95
        }
      ]
    },
    {
      "cell_type": "code",
      "source": [
        "val_utf8.decode(\"utf-8\")"
      ],
      "metadata": {
        "colab": {
          "base_uri": "https://localhost:8080/",
          "height": 35
        },
        "id": "U9lMboYnDzdO",
        "outputId": "a44e6591-c08e-415d-c646-630eda4a2b09"
      },
      "execution_count": 96,
      "outputs": [
        {
          "output_type": "execute_result",
          "data": {
            "text/plain": [
              "'español'"
            ],
            "application/vnd.google.colaboratory.intrinsic+json": {
              "type": "string"
            }
          },
          "metadata": {},
          "execution_count": 96
        }
      ]
    },
    {
      "cell_type": "markdown",
      "source": [
        "While it is now preferable to use UTF-8 for any encoding, for historical reasons you may encounter data in any number of different encodings:"
      ],
      "metadata": {
        "id": "0HzSOr3TEAaw"
      }
    },
    {
      "cell_type": "code",
      "source": [
        "val.encode(\"latin1\")"
      ],
      "metadata": {
        "colab": {
          "base_uri": "https://localhost:8080/"
        },
        "id": "AD_CLYS2D70e",
        "outputId": "6a628c65-f255-41d9-dd07-21c268cbb9eb"
      },
      "execution_count": 97,
      "outputs": [
        {
          "output_type": "execute_result",
          "data": {
            "text/plain": [
              "b'espa\\xf1ol'"
            ]
          },
          "metadata": {},
          "execution_count": 97
        }
      ]
    },
    {
      "cell_type": "code",
      "source": [
        "val.encode(\"utf-16\")"
      ],
      "metadata": {
        "colab": {
          "base_uri": "https://localhost:8080/"
        },
        "id": "VcPBa_ajEMpm",
        "outputId": "afeb076e-be9a-4cdd-bc3a-4218d800dbd6"
      },
      "execution_count": 98,
      "outputs": [
        {
          "output_type": "execute_result",
          "data": {
            "text/plain": [
              "b'\\xff\\xfee\\x00s\\x00p\\x00a\\x00\\xf1\\x00o\\x00l\\x00'"
            ]
          },
          "metadata": {},
          "execution_count": 98
        }
      ]
    },
    {
      "cell_type": "code",
      "source": [
        "val.encode(\"utf-16le\")"
      ],
      "metadata": {
        "colab": {
          "base_uri": "https://localhost:8080/"
        },
        "id": "7K-vfcZVEP9X",
        "outputId": "25a88e4d-51a2-43b0-f6db-2a2ea7b3dd6e"
      },
      "execution_count": 99,
      "outputs": [
        {
          "output_type": "execute_result",
          "data": {
            "text/plain": [
              "b'e\\x00s\\x00p\\x00a\\x00\\xf1\\x00o\\x00l\\x00'"
            ]
          },
          "metadata": {},
          "execution_count": 99
        }
      ]
    },
    {
      "cell_type": "markdown",
      "source": [
        "**Booleans**"
      ],
      "metadata": {
        "id": "tmZ_2JsuEThO"
      }
    },
    {
      "cell_type": "markdown",
      "source": [
        "The two Boolean values in Python are written as `True` and `False`. Comparisions and other conditional expressions evaluate to either `True` or `False`. Boolean values are combined with the `and` and `or` keywords:"
      ],
      "metadata": {
        "id": "qcx1I3ytEYH3"
      }
    },
    {
      "cell_type": "code",
      "source": [
        "True and True"
      ],
      "metadata": {
        "colab": {
          "base_uri": "https://localhost:8080/"
        },
        "id": "FdoXysXjEw8G",
        "outputId": "81c0373b-5e5f-479e-fc70-4e5fdd666599"
      },
      "execution_count": 100,
      "outputs": [
        {
          "output_type": "execute_result",
          "data": {
            "text/plain": [
              "True"
            ]
          },
          "metadata": {},
          "execution_count": 100
        }
      ]
    },
    {
      "cell_type": "code",
      "source": [
        "False or True"
      ],
      "metadata": {
        "colab": {
          "base_uri": "https://localhost:8080/"
        },
        "id": "goDx4woYEzW3",
        "outputId": "4273401e-ab88-4d0c-ef46-eed7428aee3c"
      },
      "execution_count": 101,
      "outputs": [
        {
          "output_type": "execute_result",
          "data": {
            "text/plain": [
              "True"
            ]
          },
          "metadata": {},
          "execution_count": 101
        }
      ]
    },
    {
      "cell_type": "code",
      "source": [
        "int(False)"
      ],
      "metadata": {
        "colab": {
          "base_uri": "https://localhost:8080/"
        },
        "id": "jWRndiYRE1Y9",
        "outputId": "e61c75c6-158a-45c8-f2c1-25f33d92a447"
      },
      "execution_count": 102,
      "outputs": [
        {
          "output_type": "execute_result",
          "data": {
            "text/plain": [
              "0"
            ]
          },
          "metadata": {},
          "execution_count": 102
        }
      ]
    },
    {
      "cell_type": "code",
      "source": [
        "int(True)"
      ],
      "metadata": {
        "colab": {
          "base_uri": "https://localhost:8080/"
        },
        "id": "_OgrkxJuE3HG",
        "outputId": "e73fbff4-3d9d-4f28-f902-4ac0e7f095bf"
      },
      "execution_count": 103,
      "outputs": [
        {
          "output_type": "execute_result",
          "data": {
            "text/plain": [
              "1"
            ]
          },
          "metadata": {},
          "execution_count": 103
        }
      ]
    },
    {
      "cell_type": "code",
      "source": [
        "a = True \n",
        "b = False"
      ],
      "metadata": {
        "id": "UYq9IzGUE4jG"
      },
      "execution_count": 104,
      "outputs": []
    },
    {
      "cell_type": "code",
      "source": [
        "not a "
      ],
      "metadata": {
        "colab": {
          "base_uri": "https://localhost:8080/"
        },
        "id": "kAgaX7lTE8kG",
        "outputId": "e23818b2-c3b1-4269-9e74-4dc5cbeb788a"
      },
      "execution_count": 105,
      "outputs": [
        {
          "output_type": "execute_result",
          "data": {
            "text/plain": [
              "False"
            ]
          },
          "metadata": {},
          "execution_count": 105
        }
      ]
    },
    {
      "cell_type": "code",
      "source": [
        "not b"
      ],
      "metadata": {
        "colab": {
          "base_uri": "https://localhost:8080/"
        },
        "id": "de5LEhmuE9xm",
        "outputId": "f54b01cf-d740-4e9e-8e5a-6d0652ce9fa7"
      },
      "execution_count": 106,
      "outputs": [
        {
          "output_type": "execute_result",
          "data": {
            "text/plain": [
              "True"
            ]
          },
          "metadata": {},
          "execution_count": 106
        }
      ]
    },
    {
      "cell_type": "markdown",
      "source": [
        "**Type casting**"
      ],
      "metadata": {
        "id": "PS_wemcNE_EO"
      }
    },
    {
      "cell_type": "markdown",
      "source": [
        "The `str`, `bool`, `int` and `float` types are also functions that can be used to cast values to those types:\n"
      ],
      "metadata": {
        "id": "EEA1z7DYFBmn"
      }
    },
    {
      "cell_type": "code",
      "source": [
        "s = \"3.141459\"\n",
        "\n",
        "fval = float(s)\n",
        "type(fval)"
      ],
      "metadata": {
        "colab": {
          "base_uri": "https://localhost:8080/"
        },
        "id": "-uDcmGYJFKKe",
        "outputId": "f1dc3fc4-53c3-433f-e1c9-52ecec4851a8"
      },
      "execution_count": 107,
      "outputs": [
        {
          "output_type": "execute_result",
          "data": {
            "text/plain": [
              "float"
            ]
          },
          "metadata": {},
          "execution_count": 107
        }
      ]
    },
    {
      "cell_type": "code",
      "source": [
        "int(fval)"
      ],
      "metadata": {
        "colab": {
          "base_uri": "https://localhost:8080/"
        },
        "id": "x2_AFMVlFQmG",
        "outputId": "17b4d19a-955e-4f94-d59a-a06c87343492"
      },
      "execution_count": 108,
      "outputs": [
        {
          "output_type": "execute_result",
          "data": {
            "text/plain": [
              "3"
            ]
          },
          "metadata": {},
          "execution_count": 108
        }
      ]
    },
    {
      "cell_type": "code",
      "source": [
        "bool(fval)"
      ],
      "metadata": {
        "colab": {
          "base_uri": "https://localhost:8080/"
        },
        "id": "ucasNBHvFSju",
        "outputId": "9399e720-637b-4668-f3ca-3eddd0e26399"
      },
      "execution_count": 109,
      "outputs": [
        {
          "output_type": "execute_result",
          "data": {
            "text/plain": [
              "True"
            ]
          },
          "metadata": {},
          "execution_count": 109
        }
      ]
    },
    {
      "cell_type": "code",
      "source": [
        "bool(0)"
      ],
      "metadata": {
        "colab": {
          "base_uri": "https://localhost:8080/"
        },
        "id": "WY52xHG_FVI9",
        "outputId": "7aea41be-e382-42a6-b967-84568d4416ab"
      },
      "execution_count": 110,
      "outputs": [
        {
          "output_type": "execute_result",
          "data": {
            "text/plain": [
              "False"
            ]
          },
          "metadata": {},
          "execution_count": 110
        }
      ]
    },
    {
      "cell_type": "markdown",
      "source": [
        "**None**"
      ],
      "metadata": {
        "id": "CxGHPs5jFXBu"
      }
    },
    {
      "cell_type": "markdown",
      "source": [
        "`None` is the Python null value type:"
      ],
      "metadata": {
        "id": "GqJ8TJr7FYt_"
      }
    },
    {
      "cell_type": "code",
      "source": [
        "a = None\n",
        "\n",
        "a is None"
      ],
      "metadata": {
        "colab": {
          "base_uri": "https://localhost:8080/"
        },
        "id": "NtyR5B7sFd9u",
        "outputId": "e79f27a9-7ff7-4ea7-dfb4-e3b6e70063a4"
      },
      "execution_count": 111,
      "outputs": [
        {
          "output_type": "execute_result",
          "data": {
            "text/plain": [
              "True"
            ]
          },
          "metadata": {},
          "execution_count": 111
        }
      ]
    },
    {
      "cell_type": "code",
      "source": [
        "b = 5\n",
        "\n",
        "b is not None"
      ],
      "metadata": {
        "colab": {
          "base_uri": "https://localhost:8080/"
        },
        "id": "zKUqlCgCFh9t",
        "outputId": "e8715329-3afa-42a1-c79a-5ae6951574c9"
      },
      "execution_count": 112,
      "outputs": [
        {
          "output_type": "execute_result",
          "data": {
            "text/plain": [
              "True"
            ]
          },
          "metadata": {},
          "execution_count": 112
        }
      ]
    },
    {
      "cell_type": "code",
      "source": [
        "def add_and_maybe_multiply(a, b, c=None):\n",
        "  result = a + b\n",
        "\n",
        "  if c is not None:\n",
        "    result = result * c \n",
        "  \n",
        "  return result"
      ],
      "metadata": {
        "id": "m5VcdTdPFkwG"
      },
      "execution_count": 113,
      "outputs": []
    },
    {
      "cell_type": "markdown",
      "source": [
        "**Dates and times**"
      ],
      "metadata": {
        "id": "sNwLu6kzFz-O"
      }
    },
    {
      "cell_type": "markdown",
      "source": [
        "The built-in Python `datetime` module provides `datetime`, `date`, and `time` types. The `datetime` type combines the information stored in `date` and `time` and is the most commonly used:"
      ],
      "metadata": {
        "id": "_vuTKJr3F2eQ"
      }
    },
    {
      "cell_type": "code",
      "source": [
        "from datetime import datetime, date, time\n",
        "\n",
        "dt = datetime(2023, 3, 8, 19, 59, 30) # year, month, day, hour, minute, second"
      ],
      "metadata": {
        "id": "MPx6GadsGH6O"
      },
      "execution_count": 117,
      "outputs": []
    },
    {
      "cell_type": "code",
      "source": [
        "dt.month"
      ],
      "metadata": {
        "colab": {
          "base_uri": "https://localhost:8080/"
        },
        "id": "x6Magms5Gf8H",
        "outputId": "b5024548-d10c-4734-aac8-9012817e51bf"
      },
      "execution_count": 116,
      "outputs": [
        {
          "output_type": "execute_result",
          "data": {
            "text/plain": [
              "3"
            ]
          },
          "metadata": {},
          "execution_count": 116
        }
      ]
    },
    {
      "cell_type": "code",
      "source": [
        "dt.second"
      ],
      "metadata": {
        "colab": {
          "base_uri": "https://localhost:8080/"
        },
        "id": "b5K8zemwGxBN",
        "outputId": "53929802-d561-43b3-d66d-41f0e28ba063"
      },
      "execution_count": 118,
      "outputs": [
        {
          "output_type": "execute_result",
          "data": {
            "text/plain": [
              "30"
            ]
          },
          "metadata": {},
          "execution_count": 118
        }
      ]
    },
    {
      "cell_type": "code",
      "source": [
        "dt.date()"
      ],
      "metadata": {
        "colab": {
          "base_uri": "https://localhost:8080/"
        },
        "id": "F2u27Z_tGzhV",
        "outputId": "016c7829-1697-4496-8676-fb82f3566735"
      },
      "execution_count": 120,
      "outputs": [
        {
          "output_type": "execute_result",
          "data": {
            "text/plain": [
              "datetime.date(2023, 3, 8)"
            ]
          },
          "metadata": {},
          "execution_count": 120
        }
      ]
    },
    {
      "cell_type": "code",
      "source": [
        "dt.time()"
      ],
      "metadata": {
        "colab": {
          "base_uri": "https://localhost:8080/"
        },
        "id": "b0Nrn9f9HFTm",
        "outputId": "ad7b37ad-4abf-475d-9be7-cef131f199eb"
      },
      "execution_count": 121,
      "outputs": [
        {
          "output_type": "execute_result",
          "data": {
            "text/plain": [
              "datetime.time(19, 59, 30)"
            ]
          },
          "metadata": {},
          "execution_count": 121
        }
      ]
    },
    {
      "cell_type": "code",
      "source": [
        "dt.strftime(\"%Y-%m-%d %H:%M\")"
      ],
      "metadata": {
        "colab": {
          "base_uri": "https://localhost:8080/",
          "height": 35
        },
        "id": "rmiD_2V0HHCv",
        "outputId": "bdd05937-f173-42a0-bef6-7e0ca634f5a5"
      },
      "execution_count": 123,
      "outputs": [
        {
          "output_type": "execute_result",
          "data": {
            "text/plain": [
              "'2023-03-08 19:59'"
            ],
            "application/vnd.google.colaboratory.intrinsic+json": {
              "type": "string"
            }
          },
          "metadata": {},
          "execution_count": 123
        }
      ]
    },
    {
      "cell_type": "code",
      "source": [
        "dt_hour = dt.replace(minute=0, second=0)\n",
        "\n",
        "dt_hour"
      ],
      "metadata": {
        "colab": {
          "base_uri": "https://localhost:8080/"
        },
        "id": "jEnhxSP8HTC7",
        "outputId": "5c09d0b5-3e5c-4770-87d7-35cc17517f45"
      },
      "execution_count": 124,
      "outputs": [
        {
          "output_type": "execute_result",
          "data": {
            "text/plain": [
              "datetime.datetime(2023, 3, 8, 19, 0)"
            ]
          },
          "metadata": {},
          "execution_count": 124
        }
      ]
    },
    {
      "cell_type": "code",
      "source": [
        "dt"
      ],
      "metadata": {
        "colab": {
          "base_uri": "https://localhost:8080/"
        },
        "id": "f442SSt3Hhd-",
        "outputId": "b6e7b92f-1eea-410a-8408-e5df511ce9fa"
      },
      "execution_count": 125,
      "outputs": [
        {
          "output_type": "execute_result",
          "data": {
            "text/plain": [
              "datetime.datetime(2023, 3, 8, 19, 59, 30)"
            ]
          },
          "metadata": {},
          "execution_count": 125
        }
      ]
    },
    {
      "cell_type": "code",
      "source": [
        "dt2 = datetime(2023, 4, 15, 19, 59, 30)\n",
        "\n",
        "delta = dt2 - dt\n",
        "delta"
      ],
      "metadata": {
        "colab": {
          "base_uri": "https://localhost:8080/"
        },
        "id": "Rt5Dv1p0Hk5n",
        "outputId": "7744b54b-935a-4310-c4e8-a2377d042653"
      },
      "execution_count": 126,
      "outputs": [
        {
          "output_type": "execute_result",
          "data": {
            "text/plain": [
              "datetime.timedelta(days=38)"
            ]
          },
          "metadata": {},
          "execution_count": 126
        }
      ]
    },
    {
      "cell_type": "code",
      "source": [
        "type(delta)"
      ],
      "metadata": {
        "colab": {
          "base_uri": "https://localhost:8080/"
        },
        "id": "iXIUwoTCH1gH",
        "outputId": "42e0c9c6-803e-42f3-d6e2-9fe071b0f701"
      },
      "execution_count": 127,
      "outputs": [
        {
          "output_type": "execute_result",
          "data": {
            "text/plain": [
              "datetime.timedelta"
            ]
          },
          "metadata": {},
          "execution_count": 127
        }
      ]
    },
    {
      "cell_type": "code",
      "source": [
        "dt "
      ],
      "metadata": {
        "colab": {
          "base_uri": "https://localhost:8080/"
        },
        "id": "YVujzkmiH4wF",
        "outputId": "4a39a0ed-f19e-4aac-c0fb-0180913b0943"
      },
      "execution_count": 128,
      "outputs": [
        {
          "output_type": "execute_result",
          "data": {
            "text/plain": [
              "datetime.datetime(2023, 3, 8, 19, 59, 30)"
            ]
          },
          "metadata": {},
          "execution_count": 128
        }
      ]
    },
    {
      "cell_type": "code",
      "source": [
        "dt + delta"
      ],
      "metadata": {
        "colab": {
          "base_uri": "https://localhost:8080/"
        },
        "id": "mW5eP0qCH8Yu",
        "outputId": "4ca17c83-a0fe-4761-8ae1-0a5008be2528"
      },
      "execution_count": 129,
      "outputs": [
        {
          "output_type": "execute_result",
          "data": {
            "text/plain": [
              "datetime.datetime(2023, 4, 15, 19, 59, 30)"
            ]
          },
          "metadata": {},
          "execution_count": 129
        }
      ]
    },
    {
      "cell_type": "markdown",
      "source": [
        "**Control Flow**"
      ],
      "metadata": {
        "id": "rNSi9NwwIB85"
      }
    },
    {
      "cell_type": "markdown",
      "source": [
        "Python has several built-in keywords for **conditional logic**, **loops**, and **other standard control flow concepts** found in other programming languages."
      ],
      "metadata": {
        "id": "LB17SQcEIEpx"
      }
    },
    {
      "cell_type": "markdown",
      "source": [
        "**if, elif, and else**"
      ],
      "metadata": {
        "id": "2rEfObIIIVa2"
      }
    },
    {
      "cell_type": "code",
      "source": [
        "x = -5 \n",
        "\n",
        "if x < 0:\n",
        "  print(\"It's negative\")"
      ],
      "metadata": {
        "colab": {
          "base_uri": "https://localhost:8080/"
        },
        "id": "rjKLQl_GIYSV",
        "outputId": "d986f6fa-ecab-4ce9-be97-81eb6254f100"
      },
      "execution_count": 130,
      "outputs": [
        {
          "output_type": "stream",
          "name": "stdout",
          "text": [
            "It's negative\n"
          ]
        }
      ]
    },
    {
      "cell_type": "code",
      "source": [
        "if x < 0:\n",
        "  print(\"It's negative\")\n",
        "elif x == 0:\n",
        "  print(\"Equal to zero\")\n",
        "elif 0 < x < 5:\n",
        "  print(\"Positive but smaller than 5\")\n",
        "else:\n",
        "  print(\"Positive and larger than or equal to 5\")"
      ],
      "metadata": {
        "colab": {
          "base_uri": "https://localhost:8080/"
        },
        "id": "Gq0XZevmId2l",
        "outputId": "b0c45378-fce2-4250-d01c-692bf333c399"
      },
      "execution_count": 131,
      "outputs": [
        {
          "output_type": "stream",
          "name": "stdout",
          "text": [
            "It's negative\n"
          ]
        }
      ]
    },
    {
      "cell_type": "code",
      "source": [
        "a = 5; b = 7\n",
        "c = 8; d = 4\n",
        "\n",
        "if a < b or c > d:\n",
        "  print(\"Made it\")"
      ],
      "metadata": {
        "colab": {
          "base_uri": "https://localhost:8080/"
        },
        "id": "3UGQoD4yIwgW",
        "outputId": "4ec8704a-40fe-4d18-ab80-38102a73bdd8"
      },
      "execution_count": 132,
      "outputs": [
        {
          "output_type": "stream",
          "name": "stdout",
          "text": [
            "Made it\n"
          ]
        }
      ]
    },
    {
      "cell_type": "markdown",
      "source": [
        "**for loops**"
      ],
      "metadata": {
        "id": "vONIVxUjI5EO"
      }
    },
    {
      "cell_type": "markdown",
      "source": [
        "`for` loops are for iterating over a collection (like a list or tuple) or an iterater. "
      ],
      "metadata": {
        "id": "N0Njn-TXJ5c9"
      }
    },
    {
      "cell_type": "code",
      "source": [
        "sequence = [1, 2, None, 4, None, 5]\n",
        "total = 0\n",
        "\n",
        "for value in sequence:\n",
        "  if value is None:\n",
        "    continue\n",
        "  total += value\n",
        "\n",
        "print(total)"
      ],
      "metadata": {
        "colab": {
          "base_uri": "https://localhost:8080/"
        },
        "id": "RM9DObCzI4eX",
        "outputId": "d555847b-da3e-4492-ec5b-4ddc666db259"
      },
      "execution_count": 136,
      "outputs": [
        {
          "output_type": "stream",
          "name": "stdout",
          "text": [
            "12\n"
          ]
        }
      ]
    },
    {
      "cell_type": "code",
      "source": [
        "sequence = [1, 2, 0, 4, 6, 5, 2, 1]\n",
        "total_until_5 = 0\n",
        "\n",
        "for value in sequence:\n",
        "  if value == 5:\n",
        "    break \n",
        "  total_until_5 += value\n",
        "\n",
        "print(total_until_5)"
      ],
      "metadata": {
        "colab": {
          "base_uri": "https://localhost:8080/"
        },
        "id": "g-42jNuQJbD3",
        "outputId": "4e499ef1-a565-48a0-ac2e-36e477085b44"
      },
      "execution_count": 137,
      "outputs": [
        {
          "output_type": "stream",
          "name": "stdout",
          "text": [
            "13\n"
          ]
        }
      ]
    },
    {
      "cell_type": "code",
      "source": [
        "for i in range(4):\n",
        "  for j in range(4):\n",
        "    if j > i:\n",
        "      break\n",
        "    print((i, j))"
      ],
      "metadata": {
        "colab": {
          "base_uri": "https://localhost:8080/"
        },
        "id": "E5qWRj45Jszt",
        "outputId": "0c4e4cd4-afaa-48e6-d995-62b5491c4a3a"
      },
      "execution_count": 138,
      "outputs": [
        {
          "output_type": "stream",
          "name": "stdout",
          "text": [
            "(0, 0)\n",
            "(1, 0)\n",
            "(1, 1)\n",
            "(2, 0)\n",
            "(2, 1)\n",
            "(2, 2)\n",
            "(3, 0)\n",
            "(3, 1)\n",
            "(3, 2)\n",
            "(3, 3)\n"
          ]
        }
      ]
    },
    {
      "cell_type": "markdown",
      "source": [
        "**while loops**"
      ],
      "metadata": {
        "id": "mG3C8kqWJ1GI"
      }
    },
    {
      "cell_type": "markdown",
      "source": [
        "A `while` loop specifies a condition and a block of code that is to be executed until the condition evaluates to `False` or the loop is explicitly ended with `break`"
      ],
      "metadata": {
        "id": "TMNiJDX3KJVW"
      }
    },
    {
      "cell_type": "code",
      "source": [
        "256"
      ],
      "metadata": {
        "id": "jI8xd8KYK3MO"
      },
      "execution_count": null,
      "outputs": []
    },
    {
      "cell_type": "code",
      "source": [
        "x = 256\n",
        "total = 0\n",
        "\n",
        "while x > 0:\n",
        "  if total > 500:\n",
        "    break\n",
        "  total += x\n",
        "  x = x // 2\n",
        "  print(total, x)\n"
      ],
      "metadata": {
        "colab": {
          "base_uri": "https://localhost:8080/"
        },
        "id": "33wJWjTkKbGu",
        "outputId": "196bf1e2-188d-4579-f634-c086588ddb66"
      },
      "execution_count": 142,
      "outputs": [
        {
          "output_type": "stream",
          "name": "stdout",
          "text": [
            "256 128\n",
            "384 64\n",
            "448 32\n",
            "480 16\n",
            "496 8\n",
            "504 4\n"
          ]
        }
      ]
    },
    {
      "cell_type": "markdown",
      "source": [
        "**pass**"
      ],
      "metadata": {
        "id": "4-HtwW8hLDtf"
      }
    },
    {
      "cell_type": "markdown",
      "source": [
        "`pass` is the **\"no-op\" (or \"do nothing\") statement** in Python. It can be used in blocks where no action is to be taken (or as a placeholder for code not yet implemented); it is required only because Python used whitespace to delimit blocks:\n"
      ],
      "metadata": {
        "id": "qi8CkNW7LFKF"
      }
    },
    {
      "cell_type": "code",
      "source": [
        "if x < 0:\n",
        "  print(\"negative!\")\n",
        "elif x == 0:\n",
        "  # TODO: put something smart here\n",
        "  pass\n",
        "else:\n",
        "  print(\"positive!\")"
      ],
      "metadata": {
        "colab": {
          "base_uri": "https://localhost:8080/"
        },
        "id": "sMXI991rLCrl",
        "outputId": "c764d1fd-dce3-49f2-a0cc-da632d2a793a"
      },
      "execution_count": 143,
      "outputs": [
        {
          "output_type": "stream",
          "name": "stdout",
          "text": [
            "positive!\n"
          ]
        }
      ]
    },
    {
      "cell_type": "markdown",
      "source": [
        "**range**"
      ],
      "metadata": {
        "id": "3nuWfwTrLpYP"
      }
    },
    {
      "cell_type": "markdown",
      "source": [
        "The `range` function generates a sequence of evenly spaced integers:"
      ],
      "metadata": {
        "id": "HZfV1GsnLrVt"
      }
    },
    {
      "cell_type": "code",
      "source": [
        "range(10)"
      ],
      "metadata": {
        "colab": {
          "base_uri": "https://localhost:8080/"
        },
        "id": "ICvuygblLoxV",
        "outputId": "373fb210-7536-41a1-8513-1c1b1e235988"
      },
      "execution_count": 144,
      "outputs": [
        {
          "output_type": "execute_result",
          "data": {
            "text/plain": [
              "range(0, 10)"
            ]
          },
          "metadata": {},
          "execution_count": 144
        }
      ]
    },
    {
      "cell_type": "code",
      "source": [
        "list(range(10))"
      ],
      "metadata": {
        "colab": {
          "base_uri": "https://localhost:8080/"
        },
        "id": "3ujPnrpsLy9W",
        "outputId": "5decb7e7-b7fc-419e-9a57-d2b85f934ed5"
      },
      "execution_count": 145,
      "outputs": [
        {
          "output_type": "execute_result",
          "data": {
            "text/plain": [
              "[0, 1, 2, 3, 4, 5, 6, 7, 8, 9]"
            ]
          },
          "metadata": {},
          "execution_count": 145
        }
      ]
    },
    {
      "cell_type": "code",
      "source": [
        "list(range(0, 20, 2))      # start, stop, step"
      ],
      "metadata": {
        "colab": {
          "base_uri": "https://localhost:8080/"
        },
        "id": "DYzewQ2aL0nu",
        "outputId": "2c3395b3-0162-4c9d-ab4a-980774880f0a"
      },
      "execution_count": 146,
      "outputs": [
        {
          "output_type": "execute_result",
          "data": {
            "text/plain": [
              "[0, 2, 4, 6, 8, 10, 12, 14, 16, 18]"
            ]
          },
          "metadata": {},
          "execution_count": 146
        }
      ]
    },
    {
      "cell_type": "code",
      "source": [
        "list(range(5, 0, -1))"
      ],
      "metadata": {
        "colab": {
          "base_uri": "https://localhost:8080/"
        },
        "id": "4GOapl3LL3XO",
        "outputId": "8ff314d1-afce-48c7-f472-a4c7b95e0117"
      },
      "execution_count": 147,
      "outputs": [
        {
          "output_type": "execute_result",
          "data": {
            "text/plain": [
              "[5, 4, 3, 2, 1]"
            ]
          },
          "metadata": {},
          "execution_count": 147
        }
      ]
    },
    {
      "cell_type": "code",
      "source": [
        "seq = [1, 2, 3, 4]\n",
        "\n",
        "for i in range(len(seq)):\n",
        "  print(f\"element {i}: {seq[i]}\")"
      ],
      "metadata": {
        "colab": {
          "base_uri": "https://localhost:8080/"
        },
        "id": "gq-RwvKLL8Hm",
        "outputId": "08f77b75-297a-4d3d-8837-85ed76789e5a"
      },
      "execution_count": 148,
      "outputs": [
        {
          "output_type": "stream",
          "name": "stdout",
          "text": [
            "element 0: 1\n",
            "element 1: 2\n",
            "element 2: 3\n",
            "element 3: 4\n"
          ]
        }
      ]
    },
    {
      "cell_type": "code",
      "source": [
        "total = 0\n",
        "\n",
        "for i in range(100_000):\n",
        "  # % is the modulo operator\n",
        "  if i % 3 == 0 or i % 5 == 0:   # accumulate all the number that can divide by 3 or 5  \n",
        "    total += i\n",
        "\n",
        "print(total)"
      ],
      "metadata": {
        "colab": {
          "base_uri": "https://localhost:8080/"
        },
        "id": "1jhex5zpMN39",
        "outputId": "d1028007-9b7f-477e-e8fc-4ec82dbb6bd7"
      },
      "execution_count": 149,
      "outputs": [
        {
          "output_type": "stream",
          "name": "stdout",
          "text": [
            "2333316668\n"
          ]
        }
      ]
    }
  ]
}