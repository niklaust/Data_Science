{
  "nbformat": 4,
  "nbformat_minor": 0,
  "metadata": {
    "colab": {
      "provenance": [],
      "authorship_tag": "ABX9TyMNru/4PzXjRoAxGyEJbi4a",
      "include_colab_link": true
    },
    "kernelspec": {
      "name": "python3",
      "display_name": "Python 3"
    },
    "language_info": {
      "name": "python"
    }
  },
  "cells": [
    {
      "cell_type": "markdown",
      "metadata": {
        "id": "view-in-github",
        "colab_type": "text"
      },
      "source": [
        "<a href=\"https://colab.research.google.com/github/niklaust/Data_Science/blob/main/Python_for_Data_Analysis_notebook_of_niklaust.ipynb\" target=\"_parent\"><img src=\"https://colab.research.google.com/assets/colab-badge.svg\" alt=\"Open In Colab\"/></a>"
      ]
    },
    {
      "cell_type": "markdown",
      "source": [
        "# **Reference**\n",
        "Wes McKinney. (2022). *Python for Data Analysis Data Wrangling with pandas, NumPy, and Jupyter, Third Edition*. O'Reilly"
      ],
      "metadata": {
        "id": "ImCmqzleACWR"
      }
    },
    {
      "cell_type": "markdown",
      "source": [
        "github:niklaust"
      ],
      "metadata": {
        "id": "BI_xFfrMBDIN"
      }
    },
    {
      "cell_type": "markdown",
      "source": [
        "start 20230327"
      ],
      "metadata": {
        "id": "0Oyg6UMdBG4O"
      }
    },
    {
      "cell_type": "markdown",
      "source": [
        "<h1><center><b>Python for Data Analysis</b></center></h1>"
      ],
      "metadata": {
        "id": "6tBFGmL_BPOt"
      }
    },
    {
      "cell_type": "markdown",
      "source": [
        "# <center><b>Chapter 1. Preliminaries</b></center>"
      ],
      "metadata": {
        "id": "vP7DlRZQDZ9l"
      }
    },
    {
      "cell_type": "markdown",
      "source": [
        "## **1.1 What we will learn about?**"
      ],
      "metadata": {
        "id": "KPwaKTjoGP5d"
      }
    },
    {
      "cell_type": "markdown",
      "source": [
        "An adequate preparation to enable to move on to a more domain-specific resource.\n",
        "\n",
        "We will learn about:\n",
        "* manipulating\n",
        "* processing\n",
        "* cleaning\n",
        "* crunching data\n",
        "\n",
        "to become an effective data analyst."
      ],
      "metadata": {
        "id": "xecy4JopFxlF"
      }
    },
    {
      "cell_type": "markdown",
      "source": [
        "**What kinds of Data?**"
      ],
      "metadata": {
        "id": "sJ6T7lUXGdb-"
      }
    },
    {
      "cell_type": "markdown",
      "source": [
        "The primary focus is on **structured data**\n",
        "\n",
        "* **Tabular** or **spreadsheet-like data** in which each column maybe a different type (string, numeric, date, or otherwise). This includes most kinds of data commonly stored in relational databases or tab- or comma-delimited text files.\n",
        "* **Multidimensional arrays** (matrics).\n",
        "* Multiple tables of data interrelated by key columns (what would be primary or foreign keys for a **SQL** user).\n",
        "* Evenly or unevenly spaced **time series**."
      ],
      "metadata": {
        "id": "9mrgbeUNGhD1"
      }
    },
    {
      "cell_type": "markdown",
      "source": [
        "## **1.2 Why Python for Data Analysis?**"
      ],
      "metadata": {
        "id": "jWv9_gQRIs_U"
      }
    },
    {
      "cell_type": "markdown",
      "source": [
        "Python has developed a large and active scientific computing and data analysis community.\n",
        "\n",
        "Python become one of the most **important languages** for **data science**, **machine learning**, and general software development in academia and industry.\n"
      ],
      "metadata": {
        "id": "qQni0Iz_Ix90"
      }
    },
    {
      "cell_type": "markdown",
      "source": [
        "**Why Not Python?**"
      ],
      "metadata": {
        "id": "-T-eCSaQKghw"
      }
    },
    {
      "cell_type": "markdown",
      "source": [
        "There ae a number of uses for which Python may be less suitable.\n",
        "\n",
        "As Python is an interpreted programming language, in general most Python **code will run substantially slower** than code written in a compiled language like Java or C++."
      ],
      "metadata": {
        "id": "nbiBT2l4Kj_M"
      }
    },
    {
      "cell_type": "markdown",
      "source": [
        "## **1.3 Essential Python Libraries**"
      ],
      "metadata": {
        "id": "0kWFUvsqLuhM"
      }
    },
    {
      "cell_type": "markdown",
      "source": [
        "### **NumPy**"
      ],
      "metadata": {
        "id": "bidNkdBvLzfF"
      }
    },
    {
      "cell_type": "markdown",
      "source": [
        "NumPy, short for Numerical Python, has long been a cornerstone of **numerical computing** in Python. It provides the data structures, algorithms, and library glue needed for most scientific applications involving numerical data in Python. NumPy contains, among other things:\n",
        "\n",
        "* A fast and efficient multidimensional array object **ndarray**\n",
        "* Functions for performing element-wise **computations with arrays** or **mathematical operations between arrays**\n",
        "* **Tools** for **reading** and **writing** array-based datasets to disk\n",
        "* **Linear algebra operations**, Fourier transform, and random number generation\n",
        "* A **mature C API** to enbable Python **extensions** and native C or C++ code to access NumPy's data structures and computational facilities\n",
        "\n",
        "NumPy arrays are more efficient for storing and manipulating data. NumPy arrays as a primary data structure or else target interoperability with NumPy."
      ],
      "metadata": {
        "id": "issUBoN0MLyM"
      }
    },
    {
      "cell_type": "markdown",
      "source": [
        "### **pandas**"
      ],
      "metadata": {
        "id": "x9Wd9fdxOuuF"
      }
    },
    {
      "cell_type": "markdown",
      "source": [
        "pandas provides **high-level data structures** and **functions designed** to make **working with structured** or **tabular data** intuitive and flexible. \n",
        "\n",
        "The primary objects in pandas that will be focus on are **DataFrame**, a tabular column-oriented data structure with both row and column labels, and the **Series**, a one-dimensional labeled array object.\n",
        "\n",
        "pandas blends the array-computing ideas of NumPy with the kinds of data manipulation capabilities found in spreadsheets and relational databases (such as SQL). It provides convenient indexing functionality to enable you to reshape, slice and  dice, perform aggregations, and select subsets of data. Since **data manipulation**, **preparetion**, and **cleaning** are such important skills in data analysis."
      ],
      "metadata": {
        "id": "Gi_VH_toO0pF"
      }
    },
    {
      "cell_type": "markdown",
      "source": [
        "### **matplotlib**"
      ],
      "metadata": {
        "id": "ECjdsPm_SPAw"
      }
    },
    {
      "cell_type": "markdown",
      "source": [
        "matplotlib is the most popular Python library for **producing plots** and **other two-dimensional data visualizations**. "
      ],
      "metadata": {
        "id": "j_l9qdikSTpU"
      }
    },
    {
      "cell_type": "markdown",
      "source": [
        "### **IPython**"
      ],
      "metadata": {
        "id": "yHG_A1mxUGVA"
      }
    },
    {
      "cell_type": "markdown",
      "source": [
        "IPython is a programming tool designed to facilitate **interactive computing** and **software development work**. The tool is unique in that it encourages an execute-explore workflow rather than the typical edit-compile-run workflow of other programming languages. Additionally, IPython provides access to the operating system's shell and filesystem, which reduces the need for users to switch between a terminal window and a Python session"
      ],
      "metadata": {
        "id": "XxILws4tUJRc"
      }
    },
    {
      "cell_type": "markdown",
      "source": [
        "### **SciPy**"
      ],
      "metadata": {
        "id": "g5ZI5s4qUVIE"
      }
    },
    {
      "cell_type": "markdown",
      "source": [
        "SciPy is a collection of packages **addressing a number of foundational problems** in **scientific computing**. \n",
        "\n",
        "* `scipy.integrate` : Numerical intergration routines and differential equation solvers\n",
        "* `scipy.linalg` : Linear algebra routines and matrix decompositions extending beyound those provided in `numpy.linalg` \n",
        "* `scipy.optimize` : Function optimizers (minimizers) and root finding algorithms\n",
        "* `scipy.signal` : Signal processing tools\n",
        "* `scipy.sparse` : Sparse matrices and sparse linear system solvers \n",
        "* `scipy.special` : Wrapper around SPECFUN, a FORTRAN library implementing many common mathematical functions, such as the `gamma` function\n",
        "* `scipy.stats` : Standard continuous and discrete probability distributions (density functions, samples, continuous distribution functions), various statistical tests, and more descriptive statistics.\n",
        "\n",
        "Together, NumPy and SciPy from a resonably complete and mature computational foundation for many traditional scientific computing applications."
      ],
      "metadata": {
        "id": "sc67jkWPUcRM"
      }
    },
    {
      "cell_type": "markdown",
      "source": [
        "### **scikit-learn**"
      ],
      "metadata": {
        "id": "K9rTWAK8WJQr"
      }
    },
    {
      "cell_type": "markdown",
      "source": [
        "scikit-learn has become the premier general-purpose **machine learning toolkit for Python programmers**. As of this writing, more than two thousand different individuals have contributed code to the project. It includes submodules for such models as:\n",
        "\n",
        "* **Classification**: SVM, nearest neighbors, random forest, logistic regression, etc.\n",
        "* **Regression**: Lasso, ridge regression, etc.\n",
        "* **Clustering**: k-means, spectral clustering, etc.\n",
        "* **Dimensionality** reduction: PCA, feature selection, matrix factorization, etc.\n",
        "* **Model selection**: Grid search, cross-validation, metrics\n",
        "* **Preprocessing**: Feature extraction, normalization"
      ],
      "metadata": {
        "id": "CJqF11DgWO5D"
      }
    },
    {
      "cell_type": "markdown",
      "source": [
        "### **statismodels**"
      ],
      "metadata": {
        "id": "U581bKINXWs0"
      }
    },
    {
      "cell_type": "markdown",
      "source": [
        "Statsmodels is a **statistical analysis package**, which is implemented a number of **regression analysis models** popular in the R programming language.\n",
        "\n",
        "Compared with scikit-learn, statsmodels contains algorithms for classical (primarily frequentist) **statistics** and **econometrics**. This includes such submodules as:\n",
        "\n",
        "* **Regression models**: linear regression, generalized linear models, robust linear models, linear mixed effects models, etc.\n",
        "* **Analysis of variance** (ANOVA)\n",
        "* **Time series analysis**: AR, ARMA, ARIMA, VAR, and other models\n",
        "* **Nonparametric methods**: Kernel denisty estimation, kernel regression\n",
        "* **Visualization of statistical mode**l results\n",
        "\n",
        "statsmodels is more focused on **statistical inference**, providing uncertainty estimates and p-values for parameters. scikit-learn, by contrast, is more prediction focused. \n"
      ],
      "metadata": {
        "id": "U6PXVYXIYgyT"
      }
    },
    {
      "cell_type": "markdown",
      "source": [
        "Guideline for different end goals for their work, the tasks required generally fall into a number of different broad groups:\n",
        "\n",
        "* **Interacting with the outside world** - Reading and writing with a variety of file format and data stores\n",
        "* **Preparation** - Cleaning, munging, combining, normalizing, reshaping, slicing and dicting, and transforming data for analysis\n",
        "* **Transformation** - Applying mathematical and statistical operations to groups datasets to derive new datasets (e.g., aggregating a large table by group variables)\n",
        "* **Modeling and computation**  - Connneting your data to statistical models, machine learning algorithms, or other computational tools\n",
        "* **Presentation** - Creating interactive or static graphical visualizations or textual summaries"
      ],
      "metadata": {
        "id": "RC0Grot3kuib"
      }
    },
    {
      "cell_type": "markdown",
      "source": [
        "# <center><b>Chapter 2. </b></center>"
      ],
      "metadata": {
        "id": "Y9k9MLzjc2uM"
      }
    }
  ]
}