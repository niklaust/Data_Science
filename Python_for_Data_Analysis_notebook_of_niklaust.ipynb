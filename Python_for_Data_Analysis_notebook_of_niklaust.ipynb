{
  "nbformat": 4,
  "nbformat_minor": 0,
  "metadata": {
    "colab": {
      "provenance": [],
      "collapsed_sections": [
        "vP7DlRZQDZ9l",
        "O4YPvkmva2iL",
        "bZqYxUVucqSZ",
        "6lxGdibWjNeA",
        "1QfOwtKOd4k9",
        "Q_uMNXtcd9dF",
        "U5ui_J9QjLB8",
        "jCvJtYB5rTqk",
        "86VtlfSMy3L0"
      ],
      "authorship_tag": "ABX9TyONaAT4jv7iDKAenvV4b+iP",
      "include_colab_link": true
    },
    "kernelspec": {
      "name": "python3",
      "display_name": "Python 3"
    },
    "language_info": {
      "name": "python"
    }
  },
  "cells": [
    {
      "cell_type": "markdown",
      "metadata": {
        "id": "view-in-github",
        "colab_type": "text"
      },
      "source": [
        "<a href=\"https://colab.research.google.com/github/niklaust/Data_Science/blob/main/Python_for_Data_Analysis_notebook_of_niklaust.ipynb\" target=\"_parent\"><img src=\"https://colab.research.google.com/assets/colab-badge.svg\" alt=\"Open In Colab\"/></a>"
      ]
    },
    {
      "cell_type": "markdown",
      "source": [
        "# **Reference**\n",
        "Wes McKinney. (2022). *Python for Data Analysis Data Wrangling with pandas, NumPy, and Jupyter, Third Edition*. O'Reilly"
      ],
      "metadata": {
        "id": "ImCmqzleACWR"
      }
    },
    {
      "cell_type": "markdown",
      "source": [
        "github:niklaust"
      ],
      "metadata": {
        "id": "BI_xFfrMBDIN"
      }
    },
    {
      "cell_type": "markdown",
      "source": [
        "start 20230327"
      ],
      "metadata": {
        "id": "0Oyg6UMdBG4O"
      }
    },
    {
      "cell_type": "markdown",
      "source": [
        "<h1><center><b>Data Analysis</b></center></h1>"
      ],
      "metadata": {
        "id": "6tBFGmL_BPOt"
      }
    },
    {
      "cell_type": "markdown",
      "source": [
        "# <center><b>Chapter 1. Preliminaries</b></center>"
      ],
      "metadata": {
        "id": "vP7DlRZQDZ9l"
      }
    },
    {
      "cell_type": "markdown",
      "source": [
        "## **1.1 What we will learn about?**"
      ],
      "metadata": {
        "id": "KPwaKTjoGP5d"
      }
    },
    {
      "cell_type": "markdown",
      "source": [
        "An adequate preparation to enable to move on to a more domain-specific resource.\n",
        "\n",
        "We will learn about:\n",
        "* manipulating\n",
        "* processing\n",
        "* cleaning\n",
        "* crunching data\n",
        "\n",
        "to become an effective data analyst."
      ],
      "metadata": {
        "id": "xecy4JopFxlF"
      }
    },
    {
      "cell_type": "markdown",
      "source": [
        "**What kinds of Data?**"
      ],
      "metadata": {
        "id": "sJ6T7lUXGdb-"
      }
    },
    {
      "cell_type": "markdown",
      "source": [
        "The primary focus is on **structured data**\n",
        "\n",
        "* **Tabular** or **spreadsheet-like data** in which each column maybe a different type (string, numeric, date, or otherwise). This includes most kinds of data commonly stored in relational databases or tab- or comma-delimited text files.\n",
        "* **Multidimensional arrays** (matrics).\n",
        "* Multiple tables of data interrelated by key columns (what would be primary or foreign keys for a **SQL** user).\n",
        "* Evenly or unevenly spaced **time series**."
      ],
      "metadata": {
        "id": "9mrgbeUNGhD1"
      }
    },
    {
      "cell_type": "markdown",
      "source": [
        "## **1.2 Why Python for Data Analysis?**"
      ],
      "metadata": {
        "id": "jWv9_gQRIs_U"
      }
    },
    {
      "cell_type": "markdown",
      "source": [
        "Python has developed a large and active scientific computing and data analysis community.\n",
        "\n",
        "Python become one of the most **important languages** for **data science**, **machine learning**, and general software development in academia and industry.\n"
      ],
      "metadata": {
        "id": "qQni0Iz_Ix90"
      }
    },
    {
      "cell_type": "markdown",
      "source": [
        "**Why Not Python?**"
      ],
      "metadata": {
        "id": "-T-eCSaQKghw"
      }
    },
    {
      "cell_type": "markdown",
      "source": [
        "There ae a number of uses for which Python may be less suitable.\n",
        "\n",
        "As Python is an interpreted programming language, in general most Python **code will run substantially slower** than code written in a compiled language like Java or C++."
      ],
      "metadata": {
        "id": "nbiBT2l4Kj_M"
      }
    },
    {
      "cell_type": "markdown",
      "source": [
        "## **1.3 Essential Python Libraries**"
      ],
      "metadata": {
        "id": "0kWFUvsqLuhM"
      }
    },
    {
      "cell_type": "markdown",
      "source": [
        "### **NumPy**"
      ],
      "metadata": {
        "id": "bidNkdBvLzfF"
      }
    },
    {
      "cell_type": "markdown",
      "source": [
        "NumPy, short for Numerical Python, has long been a cornerstone of **numerical computing** in Python. It provides the data structures, algorithms, and library glue needed for most scientific applications involving numerical data in Python. NumPy contains, among other things:\n",
        "\n",
        "* A fast and efficient multidimensional array object **ndarray**\n",
        "* Functions for performing element-wise **computations with arrays** or **mathematical operations between arrays**\n",
        "* **Tools** for **reading** and **writing** array-based datasets to disk\n",
        "* **Linear algebra operations**, Fourier transform, and random number generation\n",
        "* A **mature C API** to enbable Python **extensions** and native C or C++ code to access NumPy's data structures and computational facilities\n",
        "\n",
        "NumPy arrays are more efficient for storing and manipulating data. NumPy arrays as a primary data structure or else target interoperability with NumPy."
      ],
      "metadata": {
        "id": "issUBoN0MLyM"
      }
    },
    {
      "cell_type": "markdown",
      "source": [
        "### **pandas**"
      ],
      "metadata": {
        "id": "x9Wd9fdxOuuF"
      }
    },
    {
      "cell_type": "markdown",
      "source": [
        "pandas provides **high-level data structures** and **functions designed** to make **working with structured** or **tabular data** intuitive and flexible. \n",
        "\n",
        "The primary objects in pandas that will be focus on are **DataFrame**, a tabular column-oriented data structure with both row and column labels, and the **Series**, a one-dimensional labeled array object.\n",
        "\n",
        "pandas blends the array-computing ideas of NumPy with the kinds of data manipulation capabilities found in spreadsheets and relational databases (such as SQL). It provides convenient indexing functionality to enable you to reshape, slice and  dice, perform aggregations, and select subsets of data. Since **data manipulation**, **preparetion**, and **cleaning** are such important skills in data analysis."
      ],
      "metadata": {
        "id": "Gi_VH_toO0pF"
      }
    },
    {
      "cell_type": "markdown",
      "source": [
        "### **matplotlib**"
      ],
      "metadata": {
        "id": "ECjdsPm_SPAw"
      }
    },
    {
      "cell_type": "markdown",
      "source": [
        "matplotlib is the most popular Python library for **producing plots** and **other two-dimensional data visualizations**. "
      ],
      "metadata": {
        "id": "j_l9qdikSTpU"
      }
    },
    {
      "cell_type": "markdown",
      "source": [
        "### **IPython**"
      ],
      "metadata": {
        "id": "yHG_A1mxUGVA"
      }
    },
    {
      "cell_type": "markdown",
      "source": [
        "IPython is a programming tool designed to facilitate **interactive computing** and **software development work**. The tool is unique in that it encourages an execute-explore workflow rather than the typical edit-compile-run workflow of other programming languages. Additionally, IPython provides access to the operating system's shell and filesystem, which reduces the need for users to switch between a terminal window and a Python session"
      ],
      "metadata": {
        "id": "XxILws4tUJRc"
      }
    },
    {
      "cell_type": "markdown",
      "source": [
        "### **SciPy**"
      ],
      "metadata": {
        "id": "g5ZI5s4qUVIE"
      }
    },
    {
      "cell_type": "markdown",
      "source": [
        "SciPy is a collection of packages **addressing a number of foundational problems** in **scientific computing**. \n",
        "\n",
        "* `scipy.integrate` : Numerical intergration routines and differential equation solvers\n",
        "* `scipy.linalg` : Linear algebra routines and matrix decompositions extending beyound those provided in `numpy.linalg` \n",
        "* `scipy.optimize` : Function optimizers (minimizers) and root finding algorithms\n",
        "* `scipy.signal` : Signal processing tools\n",
        "* `scipy.sparse` : Sparse matrices and sparse linear system solvers \n",
        "* `scipy.special` : Wrapper around SPECFUN, a FORTRAN library implementing many common mathematical functions, such as the `gamma` function\n",
        "* `scipy.stats` : Standard continuous and discrete probability distributions (density functions, samples, continuous distribution functions), various statistical tests, and more descriptive statistics.\n",
        "\n",
        "Together, NumPy and SciPy from a resonably complete and mature computational foundation for many traditional scientific computing applications."
      ],
      "metadata": {
        "id": "sc67jkWPUcRM"
      }
    },
    {
      "cell_type": "markdown",
      "source": [
        "### **scikit-learn**"
      ],
      "metadata": {
        "id": "K9rTWAK8WJQr"
      }
    },
    {
      "cell_type": "markdown",
      "source": [
        "scikit-learn has become the premier general-purpose **machine learning toolkit for Python programmers**. As of this writing, more than two thousand different individuals have contributed code to the project. It includes submodules for such models as:\n",
        "\n",
        "* **Classification**: SVM, nearest neighbors, random forest, logistic regression, etc.\n",
        "* **Regression**: Lasso, ridge regression, etc.\n",
        "* **Clustering**: k-means, spectral clustering, etc.\n",
        "* **Dimensionality** reduction: PCA, feature selection, matrix factorization, etc.\n",
        "* **Model selection**: Grid search, cross-validation, metrics\n",
        "* **Preprocessing**: Feature extraction, normalization"
      ],
      "metadata": {
        "id": "CJqF11DgWO5D"
      }
    },
    {
      "cell_type": "markdown",
      "source": [
        "### **statismodels**"
      ],
      "metadata": {
        "id": "U581bKINXWs0"
      }
    },
    {
      "cell_type": "markdown",
      "source": [
        "Statsmodels is a **statistical analysis package**, which is implemented a number of **regression analysis models** popular in the R programming language.\n",
        "\n",
        "Compared with scikit-learn, statsmodels contains algorithms for classical (primarily frequentist) **statistics** and **econometrics**. This includes such submodules as:\n",
        "\n",
        "* **Regression models**: linear regression, generalized linear models, robust linear models, linear mixed effects models, etc.\n",
        "* **Analysis of variance** (ANOVA)\n",
        "* **Time series analysis**: AR, ARMA, ARIMA, VAR, and other models\n",
        "* **Nonparametric methods**: Kernel denisty estimation, kernel regression\n",
        "* **Visualization of statistical mode**l results\n",
        "\n",
        "statsmodels is more focused on **statistical inference**, providing uncertainty estimates and p-values for parameters. scikit-learn, by contrast, is more prediction focused. \n"
      ],
      "metadata": {
        "id": "U6PXVYXIYgyT"
      }
    },
    {
      "cell_type": "markdown",
      "source": [
        "Guideline for different end goals for their work, the tasks required generally fall into a number of different broad groups:\n",
        "\n",
        "* **Interacting with the outside world** - Reading and writing with a variety of file format and data stores\n",
        "* **Preparation** - Cleaning, munging, combining, normalizing, reshaping, slicing and dicting, and transforming data for analysis\n",
        "* **Transformation** - Applying mathematical and statistical operations to groups datasets to derive new datasets (e.g., aggregating a large table by group variables)\n",
        "* **Modeling and computation**  - Connneting your data to statistical models, machine learning algorithms, or other computational tools\n",
        "* **Presentation** - Creating interactive or static graphical visualizations or textual summaries"
      ],
      "metadata": {
        "id": "RC0Grot3kuib"
      }
    },
    {
      "cell_type": "markdown",
      "source": [
        "# <center><b>Chapter 2. Python Language Basics, IPython and Jupyter Notebooks </b></center>"
      ],
      "metadata": {
        "id": "Y9k9MLzjc2uM"
      }
    },
    {
      "cell_type": "markdown",
      "source": [
        "An introductory text in working with data in Python.\n",
        "\n",
        "Mostly, focuses on:\n",
        "* Table-based analytics\n",
        "* Data preparation tools for working with data sets\n",
        "\n",
        "Sometime, we do some wrangling to arrange messy data into a more nicely tabular (or structured) form."
      ],
      "metadata": {
        "id": "TLvfdy21Zqnk"
      }
    },
    {
      "cell_type": "markdown",
      "source": [
        "## **2.1 The Python Interpreter**"
      ],
      "metadata": {
        "id": "O4YPvkmva2iL"
      }
    },
    {
      "cell_type": "markdown",
      "source": [
        "Python is an **interpreted language**. The Python interpreter **runs a program by executing one statement at a time**."
      ],
      "metadata": {
        "id": "_tMn0xPobYxp"
      }
    },
    {
      "cell_type": "markdown",
      "source": [
        "Some do data analysis or scientific computing make use of **IPython**, an enhanced Python interpreter, or **Jupyter notebooks**, Web-based code notebooks originally created within the IPython project."
      ],
      "metadata": {
        "id": "vNt54ycbcIQF"
      }
    },
    {
      "cell_type": "markdown",
      "source": [
        "## **2.2 IPython Basics**"
      ],
      "metadata": {
        "id": "bZqYxUVucqSZ"
      }
    },
    {
      "cell_type": "markdown",
      "source": [
        "IPython provides facilities to execute arbitrary blocks of code (via a somewhat glorified copy-and-paste approach) and whole Python scripts. "
      ],
      "metadata": {
        "id": "38SHdv71dtXL"
      }
    },
    {
      "cell_type": "code",
      "source": [
        "a = 5\n",
        "a"
      ],
      "metadata": {
        "colab": {
          "base_uri": "https://localhost:8080/"
        },
        "id": "4ri9NC7JdFpS",
        "outputId": "4dbe32da-35ae-4d74-cb1a-9231cd87c7f0"
      },
      "execution_count": null,
      "outputs": [
        {
          "output_type": "execute_result",
          "data": {
            "text/plain": [
              "5"
            ]
          },
          "metadata": {},
          "execution_count": 6
        }
      ]
    },
    {
      "cell_type": "code",
      "source": [
        "import numpy as np\n",
        "\n",
        "data = [np.random.standard_normal() for i in range(7)]\n",
        "data"
      ],
      "metadata": {
        "colab": {
          "base_uri": "https://localhost:8080/"
        },
        "id": "zQWqycF6dMhx",
        "outputId": "ef53b713-c776-41ad-84dd-0ac84b102b19"
      },
      "execution_count": null,
      "outputs": [
        {
          "output_type": "execute_result",
          "data": {
            "text/plain": [
              "[-0.0897850222318582,\n",
              " 1.7311433792888753,\n",
              " 1.4131745614923839,\n",
              " -0.151770027838262,\n",
              " 1.3853420237700667,\n",
              " -0.3713195143206432,\n",
              " 0.35114147658826644]"
            ]
          },
          "metadata": {},
          "execution_count": 5
        }
      ]
    },
    {
      "cell_type": "markdown",
      "source": [
        "**Jupyter Notebook**\n",
        "\n"
      ],
      "metadata": {
        "id": "6rdzmI47esWQ"
      }
    },
    {
      "cell_type": "markdown",
      "source": [
        "One of the major components of the Jupyter project is the **notebook**, a type of **interactive document for code**, text (including Markdown), data visualizations, and other output."
      ],
      "metadata": {
        "id": "l3b2X_Akeyto"
      }
    },
    {
      "cell_type": "markdown",
      "source": [
        "**Introspection**"
      ],
      "metadata": {
        "id": "Ovp3RE8XhxYJ"
      }
    },
    {
      "cell_type": "markdown",
      "source": [
        "Using a question mark (?) before or after a variable will display some general information about the object:"
      ],
      "metadata": {
        "id": "gH2Y-F55h0px"
      }
    },
    {
      "cell_type": "code",
      "source": [
        "b = [1, 2, 3]"
      ],
      "metadata": {
        "id": "MO-oFWlxh8FR"
      },
      "execution_count": null,
      "outputs": []
    },
    {
      "cell_type": "code",
      "source": [
        "b?"
      ],
      "metadata": {
        "id": "EGNaJXosh-Xo"
      },
      "execution_count": null,
      "outputs": []
    },
    {
      "cell_type": "code",
      "source": [
        "print?"
      ],
      "metadata": {
        "id": "Ku-MYfydiHK5"
      },
      "execution_count": null,
      "outputs": []
    },
    {
      "cell_type": "code",
      "source": [
        "def add_numbers(a, b):\n",
        "  \"\"\"\n",
        "  Add two numbers together\n",
        "  \n",
        "  Returns \n",
        "  --------\n",
        "  the_sum : type of arguments\n",
        "  \"\"\"\n",
        "  return a + b"
      ],
      "metadata": {
        "id": "NyL2uBw1iNWZ"
      },
      "execution_count": null,
      "outputs": []
    },
    {
      "cell_type": "code",
      "source": [
        "add_numbers?"
      ],
      "metadata": {
        "id": "nLotYGLhiepI"
      },
      "execution_count": null,
      "outputs": []
    },
    {
      "cell_type": "markdown",
      "source": [
        "? has a final usage, which is for searching the IPython namespace in a manner similar to the standard Unix or Windows command line. A number of characters combined with the wildcard (\\*) will show all names matching the wildcard expression. For example, we could get a list of all functions in the top-level NumPy namespace containing `load:`"
      ],
      "metadata": {
        "id": "wNnngCugiyJh"
      }
    },
    {
      "cell_type": "code",
      "source": [
        "import numpy as np "
      ],
      "metadata": {
        "id": "M93PNLDFimo5"
      },
      "execution_count": null,
      "outputs": []
    },
    {
      "cell_type": "code",
      "source": [
        "np.*load*?"
      ],
      "metadata": {
        "id": "JxaEAdNDiqEo"
      },
      "execution_count": null,
      "outputs": []
    },
    {
      "cell_type": "markdown",
      "source": [
        "## **2.3 Python Language Basics**"
      ],
      "metadata": {
        "id": "6lxGdibWjNeA"
      }
    },
    {
      "cell_type": "markdown",
      "source": [
        "**Language Semantics**"
      ],
      "metadata": {
        "id": "twmVKdhAjZ04"
      }
    },
    {
      "cell_type": "markdown",
      "source": [
        "The Python language design is distinguished by its **emphasis on readability**, **simplicity**, and **explicitness**. Some people go so far as to liken it to \"executable pseudocode.\""
      ],
      "metadata": {
        "id": "-BpkjzzGjcPw"
      }
    },
    {
      "cell_type": "markdown",
      "source": [
        "Python uses **whitespace** (tabs or spaces) to structure code instead of using braces as in many other languages\n",
        "\n",
        "A **colon** denotes the **start of an indented code block** after which all of the code must be indented by the same amount until the end of the block.\n",
        "\n",
        "**Semicolons** can be used to **separate multiple statements** on a single line, Howeve, Putting multiple statements on one line is generally discouraged in Python as it can make code less readable.\n"
      ],
      "metadata": {
        "id": "Ae3qKbJ8lM7w"
      }
    },
    {
      "cell_type": "markdown",
      "source": [
        "**Comments** any text preceded by the hash make (pound sign) `#` is ignored by the Python interpreter. this is often used to add comments to code."
      ],
      "metadata": {
        "id": "GWcZ1qfdl7Yw"
      }
    },
    {
      "cell_type": "markdown",
      "source": [
        "**Variables and argument passing**"
      ],
      "metadata": {
        "id": "iy2zfyPGmTaw"
      }
    },
    {
      "cell_type": "markdown",
      "source": [
        "When **assigning a variable** (or name) in Python, you are **creating a reference to the object** shown on the righthand side of the equals sign. In practical terms, consider a list of integers:\n"
      ],
      "metadata": {
        "id": "KWrP9fQjmeTv"
      }
    },
    {
      "cell_type": "code",
      "source": [
        "a = [1, 2, 3]"
      ],
      "metadata": {
        "id": "YDYK5GDkmsN3"
      },
      "execution_count": null,
      "outputs": []
    },
    {
      "cell_type": "code",
      "source": [
        "b = a "
      ],
      "metadata": {
        "id": "xHy9p9eImyTO"
      },
      "execution_count": null,
      "outputs": []
    },
    {
      "cell_type": "code",
      "source": [
        "b"
      ],
      "metadata": {
        "colab": {
          "base_uri": "https://localhost:8080/"
        },
        "id": "GP6-_l2am0GJ",
        "outputId": "7a697ac7-fdca-4b27-aace-a16394d818c6"
      },
      "execution_count": null,
      "outputs": [
        {
          "output_type": "execute_result",
          "data": {
            "text/plain": [
              "[1, 2, 3]"
            ]
          },
          "metadata": {},
          "execution_count": 20
        }
      ]
    },
    {
      "cell_type": "markdown",
      "source": [
        "In some languages, the assignment if `b` will casue the `data[1, 2, 3]` to be **copied.** \n",
        "\n",
        "In **Python**, `a` and `b` actually **now refer to the same object**, the original list `[1,2,3]`"
      ],
      "metadata": {
        "id": "8XmQNVi5nCrC"
      }
    },
    {
      "cell_type": "code",
      "source": [
        "a.append(4)"
      ],
      "metadata": {
        "id": "ATlvs6H0nfGp"
      },
      "execution_count": null,
      "outputs": []
    },
    {
      "cell_type": "code",
      "source": [
        "b"
      ],
      "metadata": {
        "colab": {
          "base_uri": "https://localhost:8080/"
        },
        "id": "Qv80puXrnhQI",
        "outputId": "468b967b-3283-4ee7-e484-d7315dcba9d3"
      },
      "execution_count": null,
      "outputs": [
        {
          "output_type": "execute_result",
          "data": {
            "text/plain": [
              "[1, 2, 3, 4]"
            ]
          },
          "metadata": {},
          "execution_count": 22
        }
      ]
    },
    {
      "cell_type": "markdown",
      "source": [
        "When you pass objects as arguments to a **function**, new **local variables are created** referencing the original objects without any copying. If you bind a new object to a variable inside a function, that will not overwrite a variable of the same name in the \"scope\" outside of the function (the \"parent scope\"). It is therefore possible to alter the internals of a mutable argument. "
      ],
      "metadata": {
        "id": "x3B9ugj_nvrI"
      }
    },
    {
      "cell_type": "code",
      "source": [
        "def append_element(some_list, element):\n",
        "  some_list.append(element)"
      ],
      "metadata": {
        "id": "X_nq2qKDoebY"
      },
      "execution_count": null,
      "outputs": []
    },
    {
      "cell_type": "code",
      "source": [
        "data = [1, 2, 3]\n",
        "append_element(data, 4)"
      ],
      "metadata": {
        "id": "MEsqdcpFokpw"
      },
      "execution_count": null,
      "outputs": []
    },
    {
      "cell_type": "code",
      "source": [
        "data"
      ],
      "metadata": {
        "colab": {
          "base_uri": "https://localhost:8080/"
        },
        "id": "Bs8boXrxomzo",
        "outputId": "7f45644f-fcdf-4ce4-d956-07e432fae290"
      },
      "execution_count": null,
      "outputs": [
        {
          "output_type": "execute_result",
          "data": {
            "text/plain": [
              "[1, 2, 3, 4]"
            ]
          },
          "metadata": {},
          "execution_count": 26
        }
      ]
    },
    {
      "cell_type": "markdown",
      "source": [
        "**Dynamic references, strong types**"
      ],
      "metadata": {
        "id": "SSutfF1QpEoh"
      }
    },
    {
      "cell_type": "markdown",
      "source": [
        "Variables in Python have **no inherent type** associated with them; a variable can refer to a different type of object simply by doing an assignment. "
      ],
      "metadata": {
        "id": "zSrBEgWrpOlP"
      }
    },
    {
      "cell_type": "code",
      "source": [
        "a = 5"
      ],
      "metadata": {
        "id": "vPYZ0fXMpfVp"
      },
      "execution_count": null,
      "outputs": []
    },
    {
      "cell_type": "code",
      "source": [
        "type(a)"
      ],
      "metadata": {
        "colab": {
          "base_uri": "https://localhost:8080/"
        },
        "id": "8IB1UWlMpg4A",
        "outputId": "a9fb2542-f8cf-480b-96e2-44a737ba2c22"
      },
      "execution_count": null,
      "outputs": [
        {
          "output_type": "execute_result",
          "data": {
            "text/plain": [
              "int"
            ]
          },
          "metadata": {},
          "execution_count": 28
        }
      ]
    },
    {
      "cell_type": "code",
      "source": [
        "a = \"foo\""
      ],
      "metadata": {
        "id": "1ZlB0iSKpiQp"
      },
      "execution_count": null,
      "outputs": []
    },
    {
      "cell_type": "code",
      "source": [
        "type(a)"
      ],
      "metadata": {
        "colab": {
          "base_uri": "https://localhost:8080/"
        },
        "id": "_cuDdY1apkKY",
        "outputId": "b18c6f86-ae8e-4b5d-9e34-3b08ec781458"
      },
      "execution_count": null,
      "outputs": [
        {
          "output_type": "execute_result",
          "data": {
            "text/plain": [
              "str"
            ]
          },
          "metadata": {},
          "execution_count": 30
        }
      ]
    },
    {
      "cell_type": "markdown",
      "source": [
        "Python is a **strongly type language**, which means that **every object has a specific type (or class),** and implicit conversions will occur only in certain permitted circumstances."
      ],
      "metadata": {
        "id": "5Des3Aggp35a"
      }
    },
    {
      "cell_type": "code",
      "source": [
        "a = 4.5\n",
        "b = 2"
      ],
      "metadata": {
        "id": "6C5XgIf8qJaT"
      },
      "execution_count": null,
      "outputs": []
    },
    {
      "cell_type": "code",
      "source": [
        "# String formatting, to be visited later\n",
        "print(f\"a is {type(a)}, b is {type(b)}\")"
      ],
      "metadata": {
        "colab": {
          "base_uri": "https://localhost:8080/"
        },
        "id": "90mqyd9PqRl3",
        "outputId": "f22bbcaa-38d8-403f-f5d7-7b22a12eaa0a"
      },
      "execution_count": null,
      "outputs": [
        {
          "output_type": "stream",
          "name": "stdout",
          "text": [
            "a is <class 'float'>, b is <class 'int'>\n"
          ]
        }
      ]
    },
    {
      "cell_type": "code",
      "source": [
        "a / b"
      ],
      "metadata": {
        "colab": {
          "base_uri": "https://localhost:8080/"
        },
        "id": "n-wqFDaAqf8g",
        "outputId": "8b6bf621-39fd-49f4-bac2-29c1bb058186"
      },
      "execution_count": null,
      "outputs": [
        {
          "output_type": "execute_result",
          "data": {
            "text/plain": [
              "2.25"
            ]
          },
          "metadata": {},
          "execution_count": 34
        }
      ]
    },
    {
      "cell_type": "markdown",
      "source": [
        "**Knowing the type of an object is important**, and it's useful ot be able to write functions that can handle many different kinds of input. You can check that an objectis an instance of a particular type using the `isinstance` function:"
      ],
      "metadata": {
        "id": "nHJM_C-iqnlo"
      }
    },
    {
      "cell_type": "code",
      "source": [
        "a = 5\n",
        "\n",
        "isinstance(a, int)"
      ],
      "metadata": {
        "colab": {
          "base_uri": "https://localhost:8080/"
        },
        "id": "eNkpLSVXq54A",
        "outputId": "b4ddedde-8752-4c1d-985d-9a8c5cae333b"
      },
      "execution_count": null,
      "outputs": [
        {
          "output_type": "execute_result",
          "data": {
            "text/plain": [
              "True"
            ]
          },
          "metadata": {},
          "execution_count": 35
        }
      ]
    },
    {
      "cell_type": "markdown",
      "source": [
        "`isinstance` can accept a tuple of types if you want to check that an objct's type is among those present in the tuple:"
      ],
      "metadata": {
        "id": "90Tjn1MurDK1"
      }
    },
    {
      "cell_type": "code",
      "source": [
        "a = 5\n",
        "b = 4.5"
      ],
      "metadata": {
        "id": "8RRtz0HMrCh1"
      },
      "execution_count": null,
      "outputs": []
    },
    {
      "cell_type": "code",
      "source": [
        "isinstance(a, (int, float))"
      ],
      "metadata": {
        "colab": {
          "base_uri": "https://localhost:8080/"
        },
        "id": "VP_dkpl1rRbg",
        "outputId": "b9b19a23-0eea-495e-b60f-2872b88da402"
      },
      "execution_count": null,
      "outputs": [
        {
          "output_type": "execute_result",
          "data": {
            "text/plain": [
              "True"
            ]
          },
          "metadata": {},
          "execution_count": 37
        }
      ]
    },
    {
      "cell_type": "code",
      "source": [
        "isinstance(b, (int, float))"
      ],
      "metadata": {
        "colab": {
          "base_uri": "https://localhost:8080/"
        },
        "id": "D0ryyqwcrUtf",
        "outputId": "7df5001d-2996-444d-eb55-90edc0f66165"
      },
      "execution_count": null,
      "outputs": [
        {
          "output_type": "execute_result",
          "data": {
            "text/plain": [
              "True"
            ]
          },
          "metadata": {},
          "execution_count": 42
        }
      ]
    },
    {
      "cell_type": "markdown",
      "source": [
        "**Attributes and methods**"
      ],
      "metadata": {
        "id": "fOmyr9M3ruDA"
      }
    },
    {
      "cell_type": "markdown",
      "source": [
        "Objects in Python typically have both: \n",
        "\n",
        "* **attributes** (other Python objects stored \"inside\" the object) \n",
        "* **methods** (functions associated with an object that can have access to the object's internal data). \n",
        "\n",
        "Both of them are accessed via the syntax `obj.attribute_name:`"
      ],
      "metadata": {
        "id": "RKbM57J_rxcA"
      }
    },
    {
      "cell_type": "code",
      "source": [
        "a = \"foo\""
      ],
      "metadata": {
        "id": "OR9HpqCgsLjI"
      },
      "execution_count": null,
      "outputs": []
    },
    {
      "cell_type": "code",
      "source": [
        "getattr(a, \"split\")"
      ],
      "metadata": {
        "colab": {
          "base_uri": "https://localhost:8080/"
        },
        "id": "jOctpEhasc7h",
        "outputId": "42f49c91-df8e-4dfa-d927-da69b444847d"
      },
      "execution_count": null,
      "outputs": [
        {
          "output_type": "execute_result",
          "data": {
            "text/plain": [
              "<function str.split(sep=None, maxsplit=-1)>"
            ]
          },
          "metadata": {},
          "execution_count": 44
        }
      ]
    },
    {
      "cell_type": "markdown",
      "source": [
        "**Duck typing**"
      ],
      "metadata": {
        "id": "VznldWayspCX"
      }
    },
    {
      "cell_type": "markdown",
      "source": [
        "Often you may **not care about the type of an object** but rather only whether it has **certain methods or behavior**. This is sometimes called duck typing,"
      ],
      "metadata": {
        "id": "0wq0uF5WsyXH"
      }
    },
    {
      "cell_type": "code",
      "source": [
        "def isiterable(obj):\n",
        "  try:\n",
        "    iter(obj)\n",
        "    return True\n",
        "  except TypeError: # not iterable\n",
        "    return False"
      ],
      "metadata": {
        "id": "rf8XjgKQtZLQ"
      },
      "execution_count": null,
      "outputs": []
    },
    {
      "cell_type": "code",
      "source": [
        "isiterable(\"a string\")"
      ],
      "metadata": {
        "colab": {
          "base_uri": "https://localhost:8080/"
        },
        "id": "AcpS10pNtije",
        "outputId": "da8731c6-66fa-4bee-920b-4befa6c7b576"
      },
      "execution_count": null,
      "outputs": [
        {
          "output_type": "execute_result",
          "data": {
            "text/plain": [
              "True"
            ]
          },
          "metadata": {},
          "execution_count": 46
        }
      ]
    },
    {
      "cell_type": "code",
      "source": [
        "isiterable([1, 2, 3])"
      ],
      "metadata": {
        "colab": {
          "base_uri": "https://localhost:8080/"
        },
        "id": "i-FZ5opztlhf",
        "outputId": "6622214b-0f63-4658-8109-a2d35dbfe877"
      },
      "execution_count": null,
      "outputs": [
        {
          "output_type": "execute_result",
          "data": {
            "text/plain": [
              "True"
            ]
          },
          "metadata": {},
          "execution_count": 47
        }
      ]
    },
    {
      "cell_type": "code",
      "source": [
        "isiterable(5)"
      ],
      "metadata": {
        "colab": {
          "base_uri": "https://localhost:8080/"
        },
        "id": "t1DlfpxAtpoQ",
        "outputId": "94716d8d-e4c1-4c4e-9774-0f2b8e32bf8b"
      },
      "execution_count": null,
      "outputs": [
        {
          "output_type": "execute_result",
          "data": {
            "text/plain": [
              "False"
            ]
          },
          "metadata": {},
          "execution_count": 48
        }
      ]
    },
    {
      "cell_type": "markdown",
      "source": [
        "**Imports**"
      ],
      "metadata": {
        "id": "s-QU-3CFtsmG"
      }
    },
    {
      "cell_type": "markdown",
      "source": [
        "In Python, a module is simply a file with the `.py` extension containing Python code. Suppose we had the following module:"
      ],
      "metadata": {
        "id": "bVvT0Edet4Bn"
      }
    },
    {
      "cell_type": "code",
      "source": [
        "# some_module.py\n",
        "PI = 3.14159\n",
        "\n",
        "def f(x):\n",
        "  return x + 2\n",
        "\n",
        "def g(a, b):\n",
        "  return a + b"
      ],
      "metadata": {
        "id": "8ecrQkjxuIUE"
      },
      "execution_count": null,
      "outputs": []
    },
    {
      "cell_type": "markdown",
      "source": [
        "If we wanted to access the variables and functions defined in `some_module.py`, from another file in the same directory we could do:"
      ],
      "metadata": {
        "id": "LJV1zDaku5lQ"
      }
    },
    {
      "cell_type": "code",
      "source": [
        "import some_module\n",
        "\n",
        "result = some_module.f(5)\n",
        "pi = some_module.PI"
      ],
      "metadata": {
        "id": "08_haBObuU_g"
      },
      "execution_count": null,
      "outputs": []
    },
    {
      "cell_type": "code",
      "source": [
        "from some_module import g, PI\n",
        "\n",
        "result = g(5, PI)"
      ],
      "metadata": {
        "id": "l0dM0Aqxu3KL"
      },
      "execution_count": null,
      "outputs": []
    },
    {
      "cell_type": "code",
      "source": [
        "import some_module as sm\n",
        "from some_module import PI as pi, g as gf \n",
        "\n",
        "r1 = sm.f(pi)\n",
        "r2 = gf(6, pi)"
      ],
      "metadata": {
        "id": "m7wGw-zDvMJf"
      },
      "execution_count": null,
      "outputs": []
    },
    {
      "cell_type": "markdown",
      "source": [
        "**Binary operators and comparisions**"
      ],
      "metadata": {
        "id": "utgR6OfXvYUf"
      }
    },
    {
      "cell_type": "code",
      "source": [
        "5 - 7"
      ],
      "metadata": {
        "colab": {
          "base_uri": "https://localhost:8080/"
        },
        "id": "X4NJm5HUvdhn",
        "outputId": "89b78602-af93-47c8-bfc0-1d19bde03e57"
      },
      "execution_count": null,
      "outputs": [
        {
          "output_type": "execute_result",
          "data": {
            "text/plain": [
              "-2"
            ]
          },
          "metadata": {},
          "execution_count": 57
        }
      ]
    },
    {
      "cell_type": "code",
      "source": [
        "12 + 21.5"
      ],
      "metadata": {
        "colab": {
          "base_uri": "https://localhost:8080/"
        },
        "id": "R5UR6oPOvfLH",
        "outputId": "b4dd1c80-a0e2-4bfe-bd61-e16adb85b16a"
      },
      "execution_count": null,
      "outputs": [
        {
          "output_type": "execute_result",
          "data": {
            "text/plain": [
              "33.5"
            ]
          },
          "metadata": {},
          "execution_count": 58
        }
      ]
    },
    {
      "cell_type": "code",
      "source": [
        "5 <= 2"
      ],
      "metadata": {
        "colab": {
          "base_uri": "https://localhost:8080/"
        },
        "id": "b-pW-EC8vg0H",
        "outputId": "b71feb4c-8558-41c9-fe8b-a3e898889320"
      },
      "execution_count": null,
      "outputs": [
        {
          "output_type": "execute_result",
          "data": {
            "text/plain": [
              "False"
            ]
          },
          "metadata": {},
          "execution_count": 59
        }
      ]
    },
    {
      "cell_type": "markdown",
      "source": [
        "<table>\n",
        "  <tr>\n",
        "    <th colspan=\"2\"><h4><b>Binary Operators</b></h4></th>\n",
        "  </tr>\n",
        "  <tr>\n",
        "    <th>Operation</th>\n",
        "    <th>Description</th>\n",
        "  </tr>\n",
        "  <tr>\n",
        "    <td>a + b</td>\n",
        "    <td>Add a and b\n",
        "</td>\n",
        "  </tr>\n",
        "  <tr>\n",
        "    <td>a - b</td>\n",
        "    <td>Subtract b from a</td>\n",
        "  </tr>\n",
        "  <tr>\n",
        "    <td>a * b</td>\n",
        "    <td>Multiply a by b</td>\n",
        "  </tr>\n",
        "  <tr>\n",
        "    <td>a / b</td>\n",
        "    <td>Divide a by b</td>\n",
        "  </tr>\n",
        "  <tr>\n",
        "    <td>a // b</td>\n",
        "    <td>Floor-divide a by b, dropping any fractional remainder</td>\n",
        "  </tr>\n",
        "  <tr>\n",
        "    <td>a ** b </td>\n",
        "    <td>Raise a to the b power</td>\n",
        "  </tr>\n",
        "  <tr>\n",
        "    <td>a & b</td>\n",
        "    <td>True if both a and b are True; for integers, take the bitwise AND</td>\n",
        "  </tr>\n",
        "  <tr>\n",
        "    <td>a | b</td>\n",
        "    <td>True if either a or b is True; for integers, take the bitwise OR</td>\n",
        "  </tr>\n",
        "  <tr>\n",
        "    <td>a ^ b</td>\n",
        "    <td>For Booleans, True if a or b is True, but not both; for integers, take the bitwise EXCLUSIVE-OR</td>\n",
        "  </tr>\n",
        "  <tr>\n",
        "    <td>a == b</td>\n",
        "    <td>True if a equals b</td>\n",
        "  </tr>\n",
        "  <tr>\n",
        "    <td>a != b</td>\n",
        "    <td>True if a is not equal to b</td>\n",
        "  </tr>\n",
        "  <tr>\n",
        "    <td>a < b, a <= b</td>\n",
        "    <td>True if a is less than (less than or equal to) b</td>\n",
        "  </tr>\n",
        "  <tr>\n",
        "    <td>a > b, a >= b</td>\n",
        "    <td>True if a is greater than (greater than or equal to) b</td>\n",
        "  </tr>\n",
        "  <tr>\n",
        "    <td>a is b </td>\n",
        "    <td>True if a and b reference the same Python objec</td>\n",
        "  </tr>\n",
        "  <tr>\n",
        "    <td>a is not b</td>\n",
        "    <td>True if a and b reference different Python object</td>\n",
        "  </tr>\n",
        "</table>"
      ],
      "metadata": {
        "id": "3EL9Swd7vlM3"
      }
    },
    {
      "cell_type": "markdown",
      "source": [
        "`is not` to check that two objects are not the same:"
      ],
      "metadata": {
        "id": "mb1l-vgLxKEA"
      }
    },
    {
      "cell_type": "code",
      "source": [
        "a = [1, 2, 3]\n",
        "b = a \n",
        "c = list(a)"
      ],
      "metadata": {
        "id": "t6cdHXG4w4YQ"
      },
      "execution_count": null,
      "outputs": []
    },
    {
      "cell_type": "code",
      "source": [
        "a is b"
      ],
      "metadata": {
        "colab": {
          "base_uri": "https://localhost:8080/"
        },
        "id": "-WycMgNYw_Iv",
        "outputId": "32c142ad-5755-4c7d-8471-55d20f78c9b7"
      },
      "execution_count": null,
      "outputs": [
        {
          "output_type": "execute_result",
          "data": {
            "text/plain": [
              "True"
            ]
          },
          "metadata": {},
          "execution_count": 61
        }
      ]
    },
    {
      "cell_type": "code",
      "source": [
        "a is not c"
      ],
      "metadata": {
        "colab": {
          "base_uri": "https://localhost:8080/"
        },
        "id": "Q1HZPJzoxAKg",
        "outputId": "9ccd098d-691a-4d41-e9dc-9032efe1b2f1"
      },
      "execution_count": null,
      "outputs": [
        {
          "output_type": "execute_result",
          "data": {
            "text/plain": [
              "True"
            ]
          },
          "metadata": {},
          "execution_count": 62
        }
      ]
    },
    {
      "cell_type": "markdown",
      "source": [
        "`list` fuction always create a new Python list (i.e., a copy), we can be sure that `c` is distinct from `a`. Comparing with `is` is not the same as the `==` operator."
      ],
      "metadata": {
        "id": "CIka3rRjxZJ3"
      }
    },
    {
      "cell_type": "code",
      "source": [
        "a == c"
      ],
      "metadata": {
        "colab": {
          "base_uri": "https://localhost:8080/"
        },
        "id": "fv41Qc3WxYgp",
        "outputId": "4976a432-aec0-4707-8971-22b2021dcc49"
      },
      "execution_count": null,
      "outputs": [
        {
          "output_type": "execute_result",
          "data": {
            "text/plain": [
              "True"
            ]
          },
          "metadata": {},
          "execution_count": 63
        }
      ]
    },
    {
      "cell_type": "markdown",
      "source": [
        "A common use of `is` and `is not` is to check if a variable is `None`, since there is only one instance of `None`:"
      ],
      "metadata": {
        "id": "0PavcUTbx8J5"
      }
    },
    {
      "cell_type": "code",
      "source": [
        "a = None"
      ],
      "metadata": {
        "id": "2yOwf67lyFK_"
      },
      "execution_count": null,
      "outputs": []
    },
    {
      "cell_type": "code",
      "source": [
        "a is None"
      ],
      "metadata": {
        "colab": {
          "base_uri": "https://localhost:8080/"
        },
        "id": "doWOJfiQyHQf",
        "outputId": "355347e7-6cfc-4669-a9a9-ed84ed016211"
      },
      "execution_count": null,
      "outputs": [
        {
          "output_type": "execute_result",
          "data": {
            "text/plain": [
              "True"
            ]
          },
          "metadata": {},
          "execution_count": 65
        }
      ]
    },
    {
      "cell_type": "markdown",
      "source": [
        "**Mutable and immutable objects**"
      ],
      "metadata": {
        "id": "PZxMxrMVyJgQ"
      }
    },
    {
      "cell_type": "markdown",
      "source": [
        "* mutable object or values that they contain **can be modified** such as list, dictionaies, NumPy arrays, and most user-defined types (classes)\n",
        "\n",
        "* immutable their internal data **cannot be changed** such as tuple"
      ],
      "metadata": {
        "id": "xupw1WY58wB_"
      }
    },
    {
      "cell_type": "code",
      "source": [
        "a_list = [\"fool\", 2, [4, 5]]\n",
        "a_list[2] = (3, 4)\n",
        "a_list"
      ],
      "metadata": {
        "colab": {
          "base_uri": "https://localhost:8080/"
        },
        "id": "rTCtBjHF9MB_",
        "outputId": "e3369ba4-a9ec-43ec-8254-0a2d72eb23f6"
      },
      "execution_count": null,
      "outputs": [
        {
          "output_type": "execute_result",
          "data": {
            "text/plain": [
              "['fool', 2, (3, 4)]"
            ]
          },
          "metadata": {},
          "execution_count": 66
        }
      ]
    },
    {
      "cell_type": "code",
      "source": [
        "a_tupe = (3, 5, (4, 5))\n",
        "\n",
        "try:\n",
        "  a_tuple[1] = \"four\"\n",
        "except:\n",
        "  print(\"error\")"
      ],
      "metadata": {
        "colab": {
          "base_uri": "https://localhost:8080/"
        },
        "id": "GRGVQMxS9UXg",
        "outputId": "85aaf57a-92b1-4138-8547-6bb84dda341f"
      },
      "execution_count": null,
      "outputs": [
        {
          "output_type": "stream",
          "name": "stdout",
          "text": [
            "error\n"
          ]
        }
      ]
    },
    {
      "cell_type": "markdown",
      "source": [
        "**Scalar Types**"
      ],
      "metadata": {
        "id": "2jS4Ays09gU4"
      }
    },
    {
      "cell_type": "markdown",
      "source": [
        "Python has a small set of built-in types for handling numerical data, strings, Boolean (True or False) values, and dates and time. These \"single value\" types are sometimes called scalar types, and we refer to them scalars."
      ],
      "metadata": {
        "id": "UKI5-7BJ9uAe"
      }
    },
    {
      "cell_type": "markdown",
      "source": [
        "<table>\n",
        "  <tr>\n",
        "    <th colspan=\"2\"><h4><b>Standard Python scalar types</b></h4></th>\n",
        "  </tr>\n",
        "  <tr>\n",
        "    <th>Type</th>\n",
        "    <th>Description</th>\n",
        "  </tr>\n",
        "  <tr>\n",
        "    <td>None</td>\n",
        "    <td>The Python “null” value (only one instance of the None object exists)</td>\n",
        "  </tr>\n",
        "  <tr>\n",
        "    <td>str</td>\n",
        "    <td>String type; holds Unicode strings\n",
        "</td>\n",
        "  </tr>\n",
        "  <tr>\n",
        "    <td>bytes</td>\n",
        "    <td>Raw binary data\n",
        "</td>\n",
        "  </tr>\n",
        "  <tr>\n",
        "    <td>float</td>\n",
        "    <td>Double-precision floating-point number (note there is no separate double type)\n",
        "</td>\n",
        "  </tr>\n",
        "  <tr>\n",
        "    <td>bool</td>\n",
        "    <td>A Boolean True or False value</td>\n",
        "  </tr>\n",
        "  <tr>\n",
        "    <td>int</td>\n",
        "    <td>Arbitrary precision integer</td>\n",
        "  </tr>\n",
        "</table>"
      ],
      "metadata": {
        "id": "KwuDMDm2-CJm"
      }
    },
    {
      "cell_type": "markdown",
      "source": [
        "**Numeric types**"
      ],
      "metadata": {
        "id": "HGzdp0Kg-13a"
      }
    },
    {
      "cell_type": "markdown",
      "source": [
        "The primary Python types for numbers are `int` and `float`. \n",
        "\n",
        "* `int` can store arbitararily larger numbers\n",
        "* `float` number with a double-precision value."
      ],
      "metadata": {
        "id": "CkYc8uF7-5M2"
      }
    },
    {
      "cell_type": "code",
      "source": [
        "ival = 123456\n",
        "ival ** 6"
      ],
      "metadata": {
        "colab": {
          "base_uri": "https://localhost:8080/"
        },
        "id": "_RGABZjn-vcp",
        "outputId": "9112c8eb-f51d-4bd7-cc31-9aec3c0c4813"
      },
      "execution_count": null,
      "outputs": [
        {
          "output_type": "execute_result",
          "data": {
            "text/plain": [
              "3540570200530940541182574329856"
            ]
          },
          "metadata": {},
          "execution_count": 68
        }
      ]
    },
    {
      "cell_type": "code",
      "source": [
        "fval = 7.25\n",
        "fval2 = 6.78e-5"
      ],
      "metadata": {
        "id": "BjD_tDu8_Zet"
      },
      "execution_count": null,
      "outputs": []
    },
    {
      "cell_type": "code",
      "source": [
        "3/2"
      ],
      "metadata": {
        "colab": {
          "base_uri": "https://localhost:8080/"
        },
        "id": "40F3ikFe_fsG",
        "outputId": "c589261b-88a4-444f-e699-7b02ef4bb994"
      },
      "execution_count": null,
      "outputs": [
        {
          "output_type": "execute_result",
          "data": {
            "text/plain": [
              "1.5"
            ]
          },
          "metadata": {},
          "execution_count": 70
        }
      ]
    },
    {
      "cell_type": "code",
      "source": [
        "9//2"
      ],
      "metadata": {
        "colab": {
          "base_uri": "https://localhost:8080/"
        },
        "id": "KUCDoeis_hGu",
        "outputId": "496ccfea-8747-4636-c086-f9ab37096ee3"
      },
      "execution_count": null,
      "outputs": [
        {
          "output_type": "execute_result",
          "data": {
            "text/plain": [
              "4"
            ]
          },
          "metadata": {},
          "execution_count": 72
        }
      ]
    },
    {
      "cell_type": "markdown",
      "source": [
        "**Strings**"
      ],
      "metadata": {
        "id": "SMNO7LS4_mCO"
      }
    },
    {
      "cell_type": "markdown",
      "source": [
        "You can write string literals using either single quotes `'` or double quotes  `\"` (double quotes are generally favored)"
      ],
      "metadata": {
        "id": "os3MxZsI_rJe"
      }
    },
    {
      "cell_type": "code",
      "source": [
        "a = 'one way of writing a string'\n",
        "b = \"another way\""
      ],
      "metadata": {
        "id": "xWiiFLqI_qwO"
      },
      "execution_count": null,
      "outputs": []
    },
    {
      "cell_type": "markdown",
      "source": [
        "For multi-line  strings with line breaks, you can use triple quotes, `'''` or `\"\"\"`:"
      ],
      "metadata": {
        "id": "VhRT0gCrAN2g"
      }
    },
    {
      "cell_type": "code",
      "source": [
        "c = \"\"\"\n",
        "This is a longer string that \n",
        "spans multiple lines\n",
        "\"\"\""
      ],
      "metadata": {
        "id": "Cm7cg2DTALe-"
      },
      "execution_count": null,
      "outputs": []
    },
    {
      "cell_type": "code",
      "source": [
        "c.count(\"\\n\")"
      ],
      "metadata": {
        "colab": {
          "base_uri": "https://localhost:8080/"
        },
        "id": "yEIzZaM7Afvd",
        "outputId": "b4f32cf2-e0ae-46df-b6b5-675999dea697"
      },
      "execution_count": null,
      "outputs": [
        {
          "output_type": "execute_result",
          "data": {
            "text/plain": [
              "3"
            ]
          },
          "metadata": {},
          "execution_count": 75
        }
      ]
    },
    {
      "cell_type": "markdown",
      "source": [
        "Python strings are immutable, you cannot modify a string:"
      ],
      "metadata": {
        "id": "BSji9rdLAqWh"
      }
    },
    {
      "cell_type": "code",
      "source": [
        "a = \"this is a string\"\n",
        "\n",
        "try: \n",
        "  a[10] = \"f\"\n",
        "except:\n",
        "  print(\"error\")"
      ],
      "metadata": {
        "colab": {
          "base_uri": "https://localhost:8080/"
        },
        "id": "JOGU5w5PAiJF",
        "outputId": "2129303f-da7a-4fa1-f01b-0364691c88ba"
      },
      "execution_count": null,
      "outputs": [
        {
          "output_type": "stream",
          "name": "stdout",
          "text": [
            "error\n"
          ]
        }
      ]
    },
    {
      "cell_type": "code",
      "source": [
        "b = a.replace(\"string\", \"longer string\")\n",
        "b "
      ],
      "metadata": {
        "colab": {
          "base_uri": "https://localhost:8080/",
          "height": 35
        },
        "id": "L9pQj5beA2U-",
        "outputId": "bcbc8bb3-2760-4534-9c1e-1f13827ac52f"
      },
      "execution_count": null,
      "outputs": [
        {
          "output_type": "execute_result",
          "data": {
            "text/plain": [
              "'this is a longer string'"
            ],
            "application/vnd.google.colaboratory.intrinsic+json": {
              "type": "string"
            }
          },
          "metadata": {},
          "execution_count": 77
        }
      ]
    },
    {
      "cell_type": "code",
      "source": [
        "a "
      ],
      "metadata": {
        "colab": {
          "base_uri": "https://localhost:8080/",
          "height": 35
        },
        "id": "aes0WMJiBA6G",
        "outputId": "71dfc2d9-da42-4458-ca38-596ddc151fe2"
      },
      "execution_count": null,
      "outputs": [
        {
          "output_type": "execute_result",
          "data": {
            "text/plain": [
              "'this is a string'"
            ],
            "application/vnd.google.colaboratory.intrinsic+json": {
              "type": "string"
            }
          },
          "metadata": {},
          "execution_count": 78
        }
      ]
    },
    {
      "cell_type": "code",
      "source": [
        "a = 5.6\n",
        "\n",
        "s = str(a)\n",
        "print(s, type(s))"
      ],
      "metadata": {
        "colab": {
          "base_uri": "https://localhost:8080/"
        },
        "id": "SczNJX_NBGl_",
        "outputId": "f519e836-1d95-4f80-c7f6-81c32b283f5e"
      },
      "execution_count": null,
      "outputs": [
        {
          "output_type": "stream",
          "name": "stdout",
          "text": [
            "5.6 <class 'str'>\n"
          ]
        }
      ]
    },
    {
      "cell_type": "code",
      "source": [
        "s = \"python\"\n",
        "\n",
        "list(s)"
      ],
      "metadata": {
        "colab": {
          "base_uri": "https://localhost:8080/"
        },
        "id": "KKfyle68BRGm",
        "outputId": "d6f796dc-5a53-412b-f528-82598896071c"
      },
      "execution_count": null,
      "outputs": [
        {
          "output_type": "execute_result",
          "data": {
            "text/plain": [
              "['p', 'y', 't', 'h', 'o', 'n']"
            ]
          },
          "metadata": {},
          "execution_count": 81
        }
      ]
    },
    {
      "cell_type": "code",
      "source": [
        "s[:3]"
      ],
      "metadata": {
        "colab": {
          "base_uri": "https://localhost:8080/",
          "height": 35
        },
        "id": "dyXkFQGmBYte",
        "outputId": "fac00a05-8902-443b-9b32-1ca0ecdbaa39"
      },
      "execution_count": null,
      "outputs": [
        {
          "output_type": "execute_result",
          "data": {
            "text/plain": [
              "'pyt'"
            ],
            "application/vnd.google.colaboratory.intrinsic+json": {
              "type": "string"
            }
          },
          "metadata": {},
          "execution_count": 82
        }
      ]
    },
    {
      "cell_type": "code",
      "source": [
        "s = \"12\\\\34\"\n",
        "\n",
        "print(s)"
      ],
      "metadata": {
        "colab": {
          "base_uri": "https://localhost:8080/"
        },
        "id": "t7v_qiYlBhcg",
        "outputId": "949e688b-b311-4c36-efe2-8925c8cb2d66"
      },
      "execution_count": null,
      "outputs": [
        {
          "output_type": "stream",
          "name": "stdout",
          "text": [
            "12\\34\n"
          ]
        }
      ]
    },
    {
      "cell_type": "code",
      "source": [
        "# r: raw string\n",
        "s = r\"this\\has\\no\\special\\characters\"\n",
        "\n",
        "s"
      ],
      "metadata": {
        "colab": {
          "base_uri": "https://localhost:8080/",
          "height": 35
        },
        "id": "Ryk7-tDpBmFn",
        "outputId": "676d0c83-90f6-46d6-c4c7-0d4108aa97c3"
      },
      "execution_count": null,
      "outputs": [
        {
          "output_type": "execute_result",
          "data": {
            "text/plain": [
              "'this\\\\has\\\\no\\\\special\\\\characters'"
            ],
            "application/vnd.google.colaboratory.intrinsic+json": {
              "type": "string"
            }
          },
          "metadata": {},
          "execution_count": 84
        }
      ]
    },
    {
      "cell_type": "code",
      "source": [
        "# concatenates two strings\n",
        "a = \"this is the first half\"\n",
        "b = \"and this is the second half\"\n",
        "\n",
        "a + b "
      ],
      "metadata": {
        "colab": {
          "base_uri": "https://localhost:8080/",
          "height": 35
        },
        "id": "1OtkJIoSB7kI",
        "outputId": "649bba47-68d4-4119-86ca-b644659eeeb3"
      },
      "execution_count": null,
      "outputs": [
        {
          "output_type": "execute_result",
          "data": {
            "text/plain": [
              "'this is the first halfand this is the second half'"
            ],
            "application/vnd.google.colaboratory.intrinsic+json": {
              "type": "string"
            }
          },
          "metadata": {},
          "execution_count": 85
        }
      ]
    },
    {
      "cell_type": "code",
      "source": [
        "template = \"{0:.2f} {1:s} are worth US${2:d}\"\n",
        "\n",
        "# {0:.2f} means to format the first argument as a floating-point number with two decimal places\n",
        "# {1:s} means to format the second argument as a string.\n",
        "# {2:d} means to format the thrid argument as an exact integer\n",
        "\n",
        "template.format(88.46, \"Argentine Pesos\", 1)"
      ],
      "metadata": {
        "colab": {
          "base_uri": "https://localhost:8080/",
          "height": 35
        },
        "id": "Nn2ht2J7CG9d",
        "outputId": "823eba99-54c3-4eea-b35a-61ea28d45de2"
      },
      "execution_count": null,
      "outputs": [
        {
          "output_type": "execute_result",
          "data": {
            "text/plain": [
              "'88.46 Argentine Pesos are worth US$1'"
            ],
            "application/vnd.google.colaboratory.intrinsic+json": {
              "type": "string"
            }
          },
          "metadata": {},
          "execution_count": 89
        }
      ]
    },
    {
      "cell_type": "code",
      "source": [
        "amount = 10\n",
        "rate = 88.46\n",
        "currency = \"Pesos\"\n",
        "\n",
        "result = f\"{amount} {currency} is worth US${amount / rate}\"\n",
        "result"
      ],
      "metadata": {
        "colab": {
          "base_uri": "https://localhost:8080/",
          "height": 35
        },
        "id": "kM1hwa_pC6Zm",
        "outputId": "cf7bd8b0-3b26-4218-b299-7c791e54dabd"
      },
      "execution_count": null,
      "outputs": [
        {
          "output_type": "execute_result",
          "data": {
            "text/plain": [
              "'10 Pesos is worth US$0.11304544426859599'"
            ],
            "application/vnd.google.colaboratory.intrinsic+json": {
              "type": "string"
            }
          },
          "metadata": {},
          "execution_count": 90
        }
      ]
    },
    {
      "cell_type": "code",
      "source": [
        "f\"{amount} {currency} is worth US${amount/ rate:.2f}\""
      ],
      "metadata": {
        "colab": {
          "base_uri": "https://localhost:8080/",
          "height": 35
        },
        "id": "7Ee5Zl0bDKm_",
        "outputId": "3c6bbea9-1f5f-485e-e9be-296e4f66779c"
      },
      "execution_count": null,
      "outputs": [
        {
          "output_type": "execute_result",
          "data": {
            "text/plain": [
              "'10 Pesos is worth US$0.11'"
            ],
            "application/vnd.google.colaboratory.intrinsic+json": {
              "type": "string"
            }
          },
          "metadata": {},
          "execution_count": 91
        }
      ]
    },
    {
      "cell_type": "markdown",
      "source": [
        "**Bytes and Unicode**"
      ],
      "metadata": {
        "id": "Ay9GRViFDXji"
      }
    },
    {
      "cell_type": "code",
      "source": [
        "val = \"español\"\n",
        "\n",
        "val "
      ],
      "metadata": {
        "colab": {
          "base_uri": "https://localhost:8080/",
          "height": 35
        },
        "id": "C4neu2FcDdEG",
        "outputId": "7a3c7ca9-e87d-4730-b13c-26a61927cec6"
      },
      "execution_count": null,
      "outputs": [
        {
          "output_type": "execute_result",
          "data": {
            "text/plain": [
              "'español'"
            ],
            "application/vnd.google.colaboratory.intrinsic+json": {
              "type": "string"
            }
          },
          "metadata": {},
          "execution_count": 92
        }
      ]
    },
    {
      "cell_type": "code",
      "source": [
        "val_utf8 = val.encode(\"utf-8\")\n",
        "\n",
        "val_utf8"
      ],
      "metadata": {
        "colab": {
          "base_uri": "https://localhost:8080/"
        },
        "id": "oT1dW77vDjBG",
        "outputId": "754a9d42-a809-402c-ff89-e854d77edeaf"
      },
      "execution_count": null,
      "outputs": [
        {
          "output_type": "execute_result",
          "data": {
            "text/plain": [
              "b'espa\\xc3\\xb1ol'"
            ]
          },
          "metadata": {},
          "execution_count": 94
        }
      ]
    },
    {
      "cell_type": "code",
      "source": [
        "type(val_utf8)"
      ],
      "metadata": {
        "colab": {
          "base_uri": "https://localhost:8080/"
        },
        "id": "OQO-MqLrDtz-",
        "outputId": "dedf345e-e1f0-4bfd-f12b-5bf7d54f8870"
      },
      "execution_count": null,
      "outputs": [
        {
          "output_type": "execute_result",
          "data": {
            "text/plain": [
              "bytes"
            ]
          },
          "metadata": {},
          "execution_count": 95
        }
      ]
    },
    {
      "cell_type": "code",
      "source": [
        "val_utf8.decode(\"utf-8\")"
      ],
      "metadata": {
        "colab": {
          "base_uri": "https://localhost:8080/",
          "height": 35
        },
        "id": "U9lMboYnDzdO",
        "outputId": "a44e6591-c08e-415d-c646-630eda4a2b09"
      },
      "execution_count": null,
      "outputs": [
        {
          "output_type": "execute_result",
          "data": {
            "text/plain": [
              "'español'"
            ],
            "application/vnd.google.colaboratory.intrinsic+json": {
              "type": "string"
            }
          },
          "metadata": {},
          "execution_count": 96
        }
      ]
    },
    {
      "cell_type": "markdown",
      "source": [
        "While it is now preferable to use UTF-8 for any encoding, for historical reasons you may encounter data in any number of different encodings:"
      ],
      "metadata": {
        "id": "0HzSOr3TEAaw"
      }
    },
    {
      "cell_type": "code",
      "source": [
        "val.encode(\"latin1\")"
      ],
      "metadata": {
        "colab": {
          "base_uri": "https://localhost:8080/"
        },
        "id": "AD_CLYS2D70e",
        "outputId": "6a628c65-f255-41d9-dd07-21c268cbb9eb"
      },
      "execution_count": null,
      "outputs": [
        {
          "output_type": "execute_result",
          "data": {
            "text/plain": [
              "b'espa\\xf1ol'"
            ]
          },
          "metadata": {},
          "execution_count": 97
        }
      ]
    },
    {
      "cell_type": "code",
      "source": [
        "val.encode(\"utf-16\")"
      ],
      "metadata": {
        "colab": {
          "base_uri": "https://localhost:8080/"
        },
        "id": "VcPBa_ajEMpm",
        "outputId": "afeb076e-be9a-4cdd-bc3a-4218d800dbd6"
      },
      "execution_count": null,
      "outputs": [
        {
          "output_type": "execute_result",
          "data": {
            "text/plain": [
              "b'\\xff\\xfee\\x00s\\x00p\\x00a\\x00\\xf1\\x00o\\x00l\\x00'"
            ]
          },
          "metadata": {},
          "execution_count": 98
        }
      ]
    },
    {
      "cell_type": "code",
      "source": [
        "val.encode(\"utf-16le\")"
      ],
      "metadata": {
        "colab": {
          "base_uri": "https://localhost:8080/"
        },
        "id": "7K-vfcZVEP9X",
        "outputId": "25a88e4d-51a2-43b0-f6db-2a2ea7b3dd6e"
      },
      "execution_count": null,
      "outputs": [
        {
          "output_type": "execute_result",
          "data": {
            "text/plain": [
              "b'e\\x00s\\x00p\\x00a\\x00\\xf1\\x00o\\x00l\\x00'"
            ]
          },
          "metadata": {},
          "execution_count": 99
        }
      ]
    },
    {
      "cell_type": "markdown",
      "source": [
        "**Booleans**"
      ],
      "metadata": {
        "id": "tmZ_2JsuEThO"
      }
    },
    {
      "cell_type": "markdown",
      "source": [
        "The two Boolean values in Python are written as `True` and `False`. Comparisions and other conditional expressions evaluate to either `True` or `False`. Boolean values are combined with the `and` and `or` keywords:"
      ],
      "metadata": {
        "id": "qcx1I3ytEYH3"
      }
    },
    {
      "cell_type": "code",
      "source": [
        "True and True"
      ],
      "metadata": {
        "colab": {
          "base_uri": "https://localhost:8080/"
        },
        "id": "FdoXysXjEw8G",
        "outputId": "81c0373b-5e5f-479e-fc70-4e5fdd666599"
      },
      "execution_count": null,
      "outputs": [
        {
          "output_type": "execute_result",
          "data": {
            "text/plain": [
              "True"
            ]
          },
          "metadata": {},
          "execution_count": 100
        }
      ]
    },
    {
      "cell_type": "code",
      "source": [
        "False or True"
      ],
      "metadata": {
        "colab": {
          "base_uri": "https://localhost:8080/"
        },
        "id": "goDx4woYEzW3",
        "outputId": "4273401e-ab88-4d0c-ef46-eed7428aee3c"
      },
      "execution_count": null,
      "outputs": [
        {
          "output_type": "execute_result",
          "data": {
            "text/plain": [
              "True"
            ]
          },
          "metadata": {},
          "execution_count": 101
        }
      ]
    },
    {
      "cell_type": "code",
      "source": [
        "int(False)"
      ],
      "metadata": {
        "colab": {
          "base_uri": "https://localhost:8080/"
        },
        "id": "jWRndiYRE1Y9",
        "outputId": "e61c75c6-158a-45c8-f2c1-25f33d92a447"
      },
      "execution_count": null,
      "outputs": [
        {
          "output_type": "execute_result",
          "data": {
            "text/plain": [
              "0"
            ]
          },
          "metadata": {},
          "execution_count": 102
        }
      ]
    },
    {
      "cell_type": "code",
      "source": [
        "int(True)"
      ],
      "metadata": {
        "colab": {
          "base_uri": "https://localhost:8080/"
        },
        "id": "_OgrkxJuE3HG",
        "outputId": "e73fbff4-3d9d-4f28-f902-4ac0e7f095bf"
      },
      "execution_count": null,
      "outputs": [
        {
          "output_type": "execute_result",
          "data": {
            "text/plain": [
              "1"
            ]
          },
          "metadata": {},
          "execution_count": 103
        }
      ]
    },
    {
      "cell_type": "code",
      "source": [
        "a = True \n",
        "b = False"
      ],
      "metadata": {
        "id": "UYq9IzGUE4jG"
      },
      "execution_count": null,
      "outputs": []
    },
    {
      "cell_type": "code",
      "source": [
        "not a "
      ],
      "metadata": {
        "colab": {
          "base_uri": "https://localhost:8080/"
        },
        "id": "kAgaX7lTE8kG",
        "outputId": "e23818b2-c3b1-4269-9e74-4dc5cbeb788a"
      },
      "execution_count": null,
      "outputs": [
        {
          "output_type": "execute_result",
          "data": {
            "text/plain": [
              "False"
            ]
          },
          "metadata": {},
          "execution_count": 105
        }
      ]
    },
    {
      "cell_type": "code",
      "source": [
        "not b"
      ],
      "metadata": {
        "colab": {
          "base_uri": "https://localhost:8080/"
        },
        "id": "de5LEhmuE9xm",
        "outputId": "f54b01cf-d740-4e9e-8e5a-6d0652ce9fa7"
      },
      "execution_count": null,
      "outputs": [
        {
          "output_type": "execute_result",
          "data": {
            "text/plain": [
              "True"
            ]
          },
          "metadata": {},
          "execution_count": 106
        }
      ]
    },
    {
      "cell_type": "markdown",
      "source": [
        "**Type casting**"
      ],
      "metadata": {
        "id": "PS_wemcNE_EO"
      }
    },
    {
      "cell_type": "markdown",
      "source": [
        "The `str`, `bool`, `int` and `float` types are also functions that can be used to cast values to those types:\n"
      ],
      "metadata": {
        "id": "EEA1z7DYFBmn"
      }
    },
    {
      "cell_type": "code",
      "source": [
        "s = \"3.141459\"\n",
        "\n",
        "fval = float(s)\n",
        "type(fval)"
      ],
      "metadata": {
        "colab": {
          "base_uri": "https://localhost:8080/"
        },
        "id": "-uDcmGYJFKKe",
        "outputId": "f1dc3fc4-53c3-433f-e1c9-52ecec4851a8"
      },
      "execution_count": null,
      "outputs": [
        {
          "output_type": "execute_result",
          "data": {
            "text/plain": [
              "float"
            ]
          },
          "metadata": {},
          "execution_count": 107
        }
      ]
    },
    {
      "cell_type": "code",
      "source": [
        "int(fval)"
      ],
      "metadata": {
        "colab": {
          "base_uri": "https://localhost:8080/"
        },
        "id": "x2_AFMVlFQmG",
        "outputId": "17b4d19a-955e-4f94-d59a-a06c87343492"
      },
      "execution_count": null,
      "outputs": [
        {
          "output_type": "execute_result",
          "data": {
            "text/plain": [
              "3"
            ]
          },
          "metadata": {},
          "execution_count": 108
        }
      ]
    },
    {
      "cell_type": "code",
      "source": [
        "bool(fval)"
      ],
      "metadata": {
        "colab": {
          "base_uri": "https://localhost:8080/"
        },
        "id": "ucasNBHvFSju",
        "outputId": "9399e720-637b-4668-f3ca-3eddd0e26399"
      },
      "execution_count": null,
      "outputs": [
        {
          "output_type": "execute_result",
          "data": {
            "text/plain": [
              "True"
            ]
          },
          "metadata": {},
          "execution_count": 109
        }
      ]
    },
    {
      "cell_type": "code",
      "source": [
        "bool(0)"
      ],
      "metadata": {
        "colab": {
          "base_uri": "https://localhost:8080/"
        },
        "id": "WY52xHG_FVI9",
        "outputId": "7aea41be-e382-42a6-b967-84568d4416ab"
      },
      "execution_count": null,
      "outputs": [
        {
          "output_type": "execute_result",
          "data": {
            "text/plain": [
              "False"
            ]
          },
          "metadata": {},
          "execution_count": 110
        }
      ]
    },
    {
      "cell_type": "markdown",
      "source": [
        "**None**"
      ],
      "metadata": {
        "id": "CxGHPs5jFXBu"
      }
    },
    {
      "cell_type": "markdown",
      "source": [
        "`None` is the Python null value type:"
      ],
      "metadata": {
        "id": "GqJ8TJr7FYt_"
      }
    },
    {
      "cell_type": "code",
      "source": [
        "a = None\n",
        "\n",
        "a is None"
      ],
      "metadata": {
        "colab": {
          "base_uri": "https://localhost:8080/"
        },
        "id": "NtyR5B7sFd9u",
        "outputId": "e79f27a9-7ff7-4ea7-dfb4-e3b6e70063a4"
      },
      "execution_count": null,
      "outputs": [
        {
          "output_type": "execute_result",
          "data": {
            "text/plain": [
              "True"
            ]
          },
          "metadata": {},
          "execution_count": 111
        }
      ]
    },
    {
      "cell_type": "code",
      "source": [
        "b = 5\n",
        "\n",
        "b is not None"
      ],
      "metadata": {
        "colab": {
          "base_uri": "https://localhost:8080/"
        },
        "id": "zKUqlCgCFh9t",
        "outputId": "e8715329-3afa-42a1-c79a-5ae6951574c9"
      },
      "execution_count": null,
      "outputs": [
        {
          "output_type": "execute_result",
          "data": {
            "text/plain": [
              "True"
            ]
          },
          "metadata": {},
          "execution_count": 112
        }
      ]
    },
    {
      "cell_type": "code",
      "source": [
        "def add_and_maybe_multiply(a, b, c=None):\n",
        "  result = a + b\n",
        "\n",
        "  if c is not None:\n",
        "    result = result * c \n",
        "  \n",
        "  return result"
      ],
      "metadata": {
        "id": "m5VcdTdPFkwG"
      },
      "execution_count": null,
      "outputs": []
    },
    {
      "cell_type": "markdown",
      "source": [
        "**Dates and times**"
      ],
      "metadata": {
        "id": "sNwLu6kzFz-O"
      }
    },
    {
      "cell_type": "markdown",
      "source": [
        "The built-in Python `datetime` module provides `datetime`, `date`, and `time` types. The `datetime` type combines the information stored in `date` and `time` and is the most commonly used:"
      ],
      "metadata": {
        "id": "_vuTKJr3F2eQ"
      }
    },
    {
      "cell_type": "code",
      "source": [
        "from datetime import datetime, date, time\n",
        "\n",
        "dt = datetime(2023, 3, 8, 19, 59, 30) # year, month, day, hour, minute, second"
      ],
      "metadata": {
        "id": "MPx6GadsGH6O"
      },
      "execution_count": null,
      "outputs": []
    },
    {
      "cell_type": "code",
      "source": [
        "dt.month"
      ],
      "metadata": {
        "colab": {
          "base_uri": "https://localhost:8080/"
        },
        "id": "x6Magms5Gf8H",
        "outputId": "b5024548-d10c-4734-aac8-9012817e51bf"
      },
      "execution_count": null,
      "outputs": [
        {
          "output_type": "execute_result",
          "data": {
            "text/plain": [
              "3"
            ]
          },
          "metadata": {},
          "execution_count": 116
        }
      ]
    },
    {
      "cell_type": "code",
      "source": [
        "dt.second"
      ],
      "metadata": {
        "colab": {
          "base_uri": "https://localhost:8080/"
        },
        "id": "b5K8zemwGxBN",
        "outputId": "53929802-d561-43b3-d66d-41f0e28ba063"
      },
      "execution_count": null,
      "outputs": [
        {
          "output_type": "execute_result",
          "data": {
            "text/plain": [
              "30"
            ]
          },
          "metadata": {},
          "execution_count": 118
        }
      ]
    },
    {
      "cell_type": "code",
      "source": [
        "dt.date()"
      ],
      "metadata": {
        "colab": {
          "base_uri": "https://localhost:8080/"
        },
        "id": "F2u27Z_tGzhV",
        "outputId": "016c7829-1697-4496-8676-fb82f3566735"
      },
      "execution_count": null,
      "outputs": [
        {
          "output_type": "execute_result",
          "data": {
            "text/plain": [
              "datetime.date(2023, 3, 8)"
            ]
          },
          "metadata": {},
          "execution_count": 120
        }
      ]
    },
    {
      "cell_type": "code",
      "source": [
        "dt.time()"
      ],
      "metadata": {
        "colab": {
          "base_uri": "https://localhost:8080/"
        },
        "id": "b0Nrn9f9HFTm",
        "outputId": "ad7b37ad-4abf-475d-9be7-cef131f199eb"
      },
      "execution_count": null,
      "outputs": [
        {
          "output_type": "execute_result",
          "data": {
            "text/plain": [
              "datetime.time(19, 59, 30)"
            ]
          },
          "metadata": {},
          "execution_count": 121
        }
      ]
    },
    {
      "cell_type": "code",
      "source": [
        "dt.strftime(\"%Y-%m-%d %H:%M\")"
      ],
      "metadata": {
        "colab": {
          "base_uri": "https://localhost:8080/",
          "height": 35
        },
        "id": "rmiD_2V0HHCv",
        "outputId": "bdd05937-f173-42a0-bef6-7e0ca634f5a5"
      },
      "execution_count": null,
      "outputs": [
        {
          "output_type": "execute_result",
          "data": {
            "text/plain": [
              "'2023-03-08 19:59'"
            ],
            "application/vnd.google.colaboratory.intrinsic+json": {
              "type": "string"
            }
          },
          "metadata": {},
          "execution_count": 123
        }
      ]
    },
    {
      "cell_type": "code",
      "source": [
        "dt_hour = dt.replace(minute=0, second=0)\n",
        "\n",
        "dt_hour"
      ],
      "metadata": {
        "colab": {
          "base_uri": "https://localhost:8080/"
        },
        "id": "jEnhxSP8HTC7",
        "outputId": "5c09d0b5-3e5c-4770-87d7-35cc17517f45"
      },
      "execution_count": null,
      "outputs": [
        {
          "output_type": "execute_result",
          "data": {
            "text/plain": [
              "datetime.datetime(2023, 3, 8, 19, 0)"
            ]
          },
          "metadata": {},
          "execution_count": 124
        }
      ]
    },
    {
      "cell_type": "code",
      "source": [
        "dt"
      ],
      "metadata": {
        "colab": {
          "base_uri": "https://localhost:8080/"
        },
        "id": "f442SSt3Hhd-",
        "outputId": "b6e7b92f-1eea-410a-8408-e5df511ce9fa"
      },
      "execution_count": null,
      "outputs": [
        {
          "output_type": "execute_result",
          "data": {
            "text/plain": [
              "datetime.datetime(2023, 3, 8, 19, 59, 30)"
            ]
          },
          "metadata": {},
          "execution_count": 125
        }
      ]
    },
    {
      "cell_type": "code",
      "source": [
        "dt2 = datetime(2023, 4, 15, 19, 59, 30)\n",
        "\n",
        "delta = dt2 - dt\n",
        "delta"
      ],
      "metadata": {
        "colab": {
          "base_uri": "https://localhost:8080/"
        },
        "id": "Rt5Dv1p0Hk5n",
        "outputId": "7744b54b-935a-4310-c4e8-a2377d042653"
      },
      "execution_count": null,
      "outputs": [
        {
          "output_type": "execute_result",
          "data": {
            "text/plain": [
              "datetime.timedelta(days=38)"
            ]
          },
          "metadata": {},
          "execution_count": 126
        }
      ]
    },
    {
      "cell_type": "code",
      "source": [
        "type(delta)"
      ],
      "metadata": {
        "colab": {
          "base_uri": "https://localhost:8080/"
        },
        "id": "iXIUwoTCH1gH",
        "outputId": "42e0c9c6-803e-42f3-d6e2-9fe071b0f701"
      },
      "execution_count": null,
      "outputs": [
        {
          "output_type": "execute_result",
          "data": {
            "text/plain": [
              "datetime.timedelta"
            ]
          },
          "metadata": {},
          "execution_count": 127
        }
      ]
    },
    {
      "cell_type": "code",
      "source": [
        "dt "
      ],
      "metadata": {
        "colab": {
          "base_uri": "https://localhost:8080/"
        },
        "id": "YVujzkmiH4wF",
        "outputId": "4a39a0ed-f19e-4aac-c0fb-0180913b0943"
      },
      "execution_count": null,
      "outputs": [
        {
          "output_type": "execute_result",
          "data": {
            "text/plain": [
              "datetime.datetime(2023, 3, 8, 19, 59, 30)"
            ]
          },
          "metadata": {},
          "execution_count": 128
        }
      ]
    },
    {
      "cell_type": "code",
      "source": [
        "dt + delta"
      ],
      "metadata": {
        "colab": {
          "base_uri": "https://localhost:8080/"
        },
        "id": "mW5eP0qCH8Yu",
        "outputId": "4ca17c83-a0fe-4761-8ae1-0a5008be2528"
      },
      "execution_count": null,
      "outputs": [
        {
          "output_type": "execute_result",
          "data": {
            "text/plain": [
              "datetime.datetime(2023, 4, 15, 19, 59, 30)"
            ]
          },
          "metadata": {},
          "execution_count": 129
        }
      ]
    },
    {
      "cell_type": "markdown",
      "source": [
        "**Control Flow**"
      ],
      "metadata": {
        "id": "rNSi9NwwIB85"
      }
    },
    {
      "cell_type": "markdown",
      "source": [
        "Python has several built-in keywords for **conditional logic**, **loops**, and **other standard control flow concepts** found in other programming languages."
      ],
      "metadata": {
        "id": "LB17SQcEIEpx"
      }
    },
    {
      "cell_type": "markdown",
      "source": [
        "**if, elif, and else**"
      ],
      "metadata": {
        "id": "2rEfObIIIVa2"
      }
    },
    {
      "cell_type": "code",
      "source": [
        "x = -5 \n",
        "\n",
        "if x < 0:\n",
        "  print(\"It's negative\")"
      ],
      "metadata": {
        "colab": {
          "base_uri": "https://localhost:8080/"
        },
        "id": "rjKLQl_GIYSV",
        "outputId": "d986f6fa-ecab-4ce9-be97-81eb6254f100"
      },
      "execution_count": null,
      "outputs": [
        {
          "output_type": "stream",
          "name": "stdout",
          "text": [
            "It's negative\n"
          ]
        }
      ]
    },
    {
      "cell_type": "code",
      "source": [
        "if x < 0:\n",
        "  print(\"It's negative\")\n",
        "elif x == 0:\n",
        "  print(\"Equal to zero\")\n",
        "elif 0 < x < 5:\n",
        "  print(\"Positive but smaller than 5\")\n",
        "else:\n",
        "  print(\"Positive and larger than or equal to 5\")"
      ],
      "metadata": {
        "colab": {
          "base_uri": "https://localhost:8080/"
        },
        "id": "Gq0XZevmId2l",
        "outputId": "b0c45378-fce2-4250-d01c-692bf333c399"
      },
      "execution_count": null,
      "outputs": [
        {
          "output_type": "stream",
          "name": "stdout",
          "text": [
            "It's negative\n"
          ]
        }
      ]
    },
    {
      "cell_type": "code",
      "source": [
        "a = 5; b = 7\n",
        "c = 8; d = 4\n",
        "\n",
        "if a < b or c > d:\n",
        "  print(\"Made it\")"
      ],
      "metadata": {
        "colab": {
          "base_uri": "https://localhost:8080/"
        },
        "id": "3UGQoD4yIwgW",
        "outputId": "4ec8704a-40fe-4d18-ab80-38102a73bdd8"
      },
      "execution_count": null,
      "outputs": [
        {
          "output_type": "stream",
          "name": "stdout",
          "text": [
            "Made it\n"
          ]
        }
      ]
    },
    {
      "cell_type": "markdown",
      "source": [
        "**for loops**"
      ],
      "metadata": {
        "id": "vONIVxUjI5EO"
      }
    },
    {
      "cell_type": "markdown",
      "source": [
        "`for` loops are for iterating over a collection (like a list or tuple) or an iterater. "
      ],
      "metadata": {
        "id": "N0Njn-TXJ5c9"
      }
    },
    {
      "cell_type": "code",
      "source": [
        "sequence = [1, 2, None, 4, None, 5]\n",
        "total = 0\n",
        "\n",
        "for value in sequence:\n",
        "  if value is None:\n",
        "    continue\n",
        "  total += value\n",
        "\n",
        "print(total)"
      ],
      "metadata": {
        "colab": {
          "base_uri": "https://localhost:8080/"
        },
        "id": "RM9DObCzI4eX",
        "outputId": "d555847b-da3e-4492-ec5b-4ddc666db259"
      },
      "execution_count": null,
      "outputs": [
        {
          "output_type": "stream",
          "name": "stdout",
          "text": [
            "12\n"
          ]
        }
      ]
    },
    {
      "cell_type": "code",
      "source": [
        "sequence = [1, 2, 0, 4, 6, 5, 2, 1]\n",
        "total_until_5 = 0\n",
        "\n",
        "for value in sequence:\n",
        "  if value == 5:\n",
        "    break \n",
        "  total_until_5 += value\n",
        "\n",
        "print(total_until_5)"
      ],
      "metadata": {
        "colab": {
          "base_uri": "https://localhost:8080/"
        },
        "id": "g-42jNuQJbD3",
        "outputId": "4e499ef1-a565-48a0-ac2e-36e477085b44"
      },
      "execution_count": null,
      "outputs": [
        {
          "output_type": "stream",
          "name": "stdout",
          "text": [
            "13\n"
          ]
        }
      ]
    },
    {
      "cell_type": "code",
      "source": [
        "for i in range(4):\n",
        "  for j in range(4):\n",
        "    if j > i:\n",
        "      break\n",
        "    print((i, j))"
      ],
      "metadata": {
        "colab": {
          "base_uri": "https://localhost:8080/"
        },
        "id": "E5qWRj45Jszt",
        "outputId": "0c4e4cd4-afaa-48e6-d995-62b5491c4a3a"
      },
      "execution_count": null,
      "outputs": [
        {
          "output_type": "stream",
          "name": "stdout",
          "text": [
            "(0, 0)\n",
            "(1, 0)\n",
            "(1, 1)\n",
            "(2, 0)\n",
            "(2, 1)\n",
            "(2, 2)\n",
            "(3, 0)\n",
            "(3, 1)\n",
            "(3, 2)\n",
            "(3, 3)\n"
          ]
        }
      ]
    },
    {
      "cell_type": "markdown",
      "source": [
        "**while loops**"
      ],
      "metadata": {
        "id": "mG3C8kqWJ1GI"
      }
    },
    {
      "cell_type": "markdown",
      "source": [
        "A `while` loop specifies a condition and a block of code that is to be executed until the condition evaluates to `False` or the loop is explicitly ended with `break`"
      ],
      "metadata": {
        "id": "TMNiJDX3KJVW"
      }
    },
    {
      "cell_type": "code",
      "source": [
        "256"
      ],
      "metadata": {
        "id": "jI8xd8KYK3MO"
      },
      "execution_count": null,
      "outputs": []
    },
    {
      "cell_type": "code",
      "source": [
        "x = 256\n",
        "total = 0\n",
        "\n",
        "while x > 0:\n",
        "  if total > 500:\n",
        "    break\n",
        "  total += x\n",
        "  x = x // 2\n",
        "  print(total, x)\n"
      ],
      "metadata": {
        "colab": {
          "base_uri": "https://localhost:8080/"
        },
        "id": "33wJWjTkKbGu",
        "outputId": "196bf1e2-188d-4579-f634-c086588ddb66"
      },
      "execution_count": null,
      "outputs": [
        {
          "output_type": "stream",
          "name": "stdout",
          "text": [
            "256 128\n",
            "384 64\n",
            "448 32\n",
            "480 16\n",
            "496 8\n",
            "504 4\n"
          ]
        }
      ]
    },
    {
      "cell_type": "markdown",
      "source": [
        "**pass**"
      ],
      "metadata": {
        "id": "4-HtwW8hLDtf"
      }
    },
    {
      "cell_type": "markdown",
      "source": [
        "`pass` is the **\"no-op\" (or \"do nothing\") statement** in Python. It can be used in blocks where no action is to be taken (or as a placeholder for code not yet implemented); it is required only because Python used whitespace to delimit blocks:\n"
      ],
      "metadata": {
        "id": "qi8CkNW7LFKF"
      }
    },
    {
      "cell_type": "code",
      "source": [
        "if x < 0:\n",
        "  print(\"negative!\")\n",
        "elif x == 0:\n",
        "  # TODO: put something smart here\n",
        "  pass\n",
        "else:\n",
        "  print(\"positive!\")"
      ],
      "metadata": {
        "colab": {
          "base_uri": "https://localhost:8080/"
        },
        "id": "sMXI991rLCrl",
        "outputId": "c764d1fd-dce3-49f2-a0cc-da632d2a793a"
      },
      "execution_count": null,
      "outputs": [
        {
          "output_type": "stream",
          "name": "stdout",
          "text": [
            "positive!\n"
          ]
        }
      ]
    },
    {
      "cell_type": "markdown",
      "source": [
        "**range**"
      ],
      "metadata": {
        "id": "3nuWfwTrLpYP"
      }
    },
    {
      "cell_type": "markdown",
      "source": [
        "The `range` function generates a sequence of evenly spaced integers:"
      ],
      "metadata": {
        "id": "HZfV1GsnLrVt"
      }
    },
    {
      "cell_type": "code",
      "source": [
        "range(10)"
      ],
      "metadata": {
        "colab": {
          "base_uri": "https://localhost:8080/"
        },
        "id": "ICvuygblLoxV",
        "outputId": "373fb210-7536-41a1-8513-1c1b1e235988"
      },
      "execution_count": null,
      "outputs": [
        {
          "output_type": "execute_result",
          "data": {
            "text/plain": [
              "range(0, 10)"
            ]
          },
          "metadata": {},
          "execution_count": 144
        }
      ]
    },
    {
      "cell_type": "code",
      "source": [
        "list(range(10))"
      ],
      "metadata": {
        "colab": {
          "base_uri": "https://localhost:8080/"
        },
        "id": "3ujPnrpsLy9W",
        "outputId": "5decb7e7-b7fc-419e-9a57-d2b85f934ed5"
      },
      "execution_count": null,
      "outputs": [
        {
          "output_type": "execute_result",
          "data": {
            "text/plain": [
              "[0, 1, 2, 3, 4, 5, 6, 7, 8, 9]"
            ]
          },
          "metadata": {},
          "execution_count": 145
        }
      ]
    },
    {
      "cell_type": "code",
      "source": [
        "list(range(0, 20, 2))      # start, stop, step"
      ],
      "metadata": {
        "colab": {
          "base_uri": "https://localhost:8080/"
        },
        "id": "DYzewQ2aL0nu",
        "outputId": "2c3395b3-0162-4c9d-ab4a-980774880f0a"
      },
      "execution_count": null,
      "outputs": [
        {
          "output_type": "execute_result",
          "data": {
            "text/plain": [
              "[0, 2, 4, 6, 8, 10, 12, 14, 16, 18]"
            ]
          },
          "metadata": {},
          "execution_count": 146
        }
      ]
    },
    {
      "cell_type": "code",
      "source": [
        "list(range(5, 0, -1))"
      ],
      "metadata": {
        "colab": {
          "base_uri": "https://localhost:8080/"
        },
        "id": "4GOapl3LL3XO",
        "outputId": "8ff314d1-afce-48c7-f472-a4c7b95e0117"
      },
      "execution_count": null,
      "outputs": [
        {
          "output_type": "execute_result",
          "data": {
            "text/plain": [
              "[5, 4, 3, 2, 1]"
            ]
          },
          "metadata": {},
          "execution_count": 147
        }
      ]
    },
    {
      "cell_type": "code",
      "source": [
        "seq = [1, 2, 3, 4]\n",
        "\n",
        "for i in range(len(seq)):\n",
        "  print(f\"element {i}: {seq[i]}\")"
      ],
      "metadata": {
        "colab": {
          "base_uri": "https://localhost:8080/"
        },
        "id": "gq-RwvKLL8Hm",
        "outputId": "08f77b75-297a-4d3d-8837-85ed76789e5a"
      },
      "execution_count": null,
      "outputs": [
        {
          "output_type": "stream",
          "name": "stdout",
          "text": [
            "element 0: 1\n",
            "element 1: 2\n",
            "element 2: 3\n",
            "element 3: 4\n"
          ]
        }
      ]
    },
    {
      "cell_type": "code",
      "source": [
        "total = 0\n",
        "\n",
        "for i in range(100_000):\n",
        "  # % is the modulo operator\n",
        "  if i % 3 == 0 or i % 5 == 0:   # accumulate all the number that can divide by 3 or 5  \n",
        "    total += i\n",
        "\n",
        "print(total)"
      ],
      "metadata": {
        "colab": {
          "base_uri": "https://localhost:8080/"
        },
        "id": "1jhex5zpMN39",
        "outputId": "d1028007-9b7f-477e-e8fc-4ec82dbb6bd7"
      },
      "execution_count": null,
      "outputs": [
        {
          "output_type": "stream",
          "name": "stdout",
          "text": [
            "2333316668\n"
          ]
        }
      ]
    },
    {
      "cell_type": "markdown",
      "source": [
        "# <center><b>Chapter 3. Built-In Data Structures, Functions, and Files</b></center>"
      ],
      "metadata": {
        "id": "XGhj5RWHdWBd"
      }
    },
    {
      "cell_type": "markdown",
      "source": [
        "## **3.1 Data Structures and Sequences**"
      ],
      "metadata": {
        "id": "1QfOwtKOd4k9"
      }
    },
    {
      "cell_type": "markdown",
      "source": [
        "### **Tuple**"
      ],
      "metadata": {
        "id": "Q_uMNXtcd9dF"
      }
    },
    {
      "cell_type": "markdown",
      "source": [
        "A tuple is a fixed-length, immutable sequence of Python objects which, once assigned, cannot be changed. The easiest way to create one is with a comma-separated sequence of values wrapped in parentheses:"
      ],
      "metadata": {
        "id": "nxN3eg_IeL6t"
      }
    },
    {
      "cell_type": "code",
      "source": [
        "tup = (4, 5, 6)\n",
        "tup"
      ],
      "metadata": {
        "colab": {
          "base_uri": "https://localhost:8080/"
        },
        "id": "vfBVpExMebzF",
        "outputId": "3316a0ab-7cb5-4610-a92b-bcf676a9e4b2"
      },
      "execution_count": 1,
      "outputs": [
        {
          "output_type": "execute_result",
          "data": {
            "text/plain": [
              "(4, 5, 6)"
            ]
          },
          "metadata": {},
          "execution_count": 1
        }
      ]
    },
    {
      "cell_type": "code",
      "source": [
        "tup = 4, 5, 6\n",
        "tup"
      ],
      "metadata": {
        "colab": {
          "base_uri": "https://localhost:8080/"
        },
        "id": "xYS3-qEsef51",
        "outputId": "b645397d-77ac-40d1-f0f1-370d568d1ce0"
      },
      "execution_count": 4,
      "outputs": [
        {
          "output_type": "execute_result",
          "data": {
            "text/plain": [
              "(4, 5, 6)"
            ]
          },
          "metadata": {},
          "execution_count": 4
        }
      ]
    },
    {
      "cell_type": "code",
      "source": [
        "tuple([4, 0, 2])"
      ],
      "metadata": {
        "colab": {
          "base_uri": "https://localhost:8080/"
        },
        "id": "FhbyN6R1ejEm",
        "outputId": "0f06f949-f006-458a-c137-0643bc7d5a34"
      },
      "execution_count": 3,
      "outputs": [
        {
          "output_type": "execute_result",
          "data": {
            "text/plain": [
              "(4, 0, 2)"
            ]
          },
          "metadata": {},
          "execution_count": 3
        }
      ]
    },
    {
      "cell_type": "code",
      "source": [
        "tup = tuple('string')\n",
        "tup"
      ],
      "metadata": {
        "colab": {
          "base_uri": "https://localhost:8080/"
        },
        "id": "SCQfBj0Iend1",
        "outputId": "71598e1b-06f7-491c-edde-11676aa43a64"
      },
      "execution_count": 5,
      "outputs": [
        {
          "output_type": "execute_result",
          "data": {
            "text/plain": [
              "('s', 't', 'r', 'i', 'n', 'g')"
            ]
          },
          "metadata": {},
          "execution_count": 5
        }
      ]
    },
    {
      "cell_type": "code",
      "source": [
        "tup[0]"
      ],
      "metadata": {
        "colab": {
          "base_uri": "https://localhost:8080/",
          "height": 35
        },
        "id": "fyMeaQhqevw9",
        "outputId": "5b07de36-3c99-42a9-dd75-ed42b4339e5b"
      },
      "execution_count": 6,
      "outputs": [
        {
          "output_type": "execute_result",
          "data": {
            "text/plain": [
              "'s'"
            ],
            "application/vnd.google.colaboratory.intrinsic+json": {
              "type": "string"
            }
          },
          "metadata": {},
          "execution_count": 6
        }
      ]
    },
    {
      "cell_type": "code",
      "source": [
        "nested_tup = (4, 5, 6), (7, 8)\n",
        "nested_tup"
      ],
      "metadata": {
        "colab": {
          "base_uri": "https://localhost:8080/"
        },
        "id": "gp0SFEEMexld",
        "outputId": "da2e5909-5419-455e-810b-b0759cdf2974"
      },
      "execution_count": 7,
      "outputs": [
        {
          "output_type": "execute_result",
          "data": {
            "text/plain": [
              "((4, 5, 6), (7, 8))"
            ]
          },
          "metadata": {},
          "execution_count": 7
        }
      ]
    },
    {
      "cell_type": "code",
      "source": [
        "nested_tup[0]"
      ],
      "metadata": {
        "colab": {
          "base_uri": "https://localhost:8080/"
        },
        "id": "qNK52Yw5e6n9",
        "outputId": "b1847027-5306-4f93-f518-4bf0bbc78c8f"
      },
      "execution_count": 8,
      "outputs": [
        {
          "output_type": "execute_result",
          "data": {
            "text/plain": [
              "(4, 5, 6)"
            ]
          },
          "metadata": {},
          "execution_count": 8
        }
      ]
    },
    {
      "cell_type": "code",
      "source": [
        "nested_tup[1]"
      ],
      "metadata": {
        "colab": {
          "base_uri": "https://localhost:8080/"
        },
        "id": "8COFmJ6Ge85V",
        "outputId": "bbe12a08-9889-4d94-feab-63f06d52f149"
      },
      "execution_count": 9,
      "outputs": [
        {
          "output_type": "execute_result",
          "data": {
            "text/plain": [
              "(7, 8)"
            ]
          },
          "metadata": {},
          "execution_count": 9
        }
      ]
    },
    {
      "cell_type": "code",
      "source": [
        "tup = tuple(['foo', [1,2], True])\n",
        "\n",
        "try:\n",
        "  tup[2] = False\n",
        "except:\n",
        "  print(\"error\")"
      ],
      "metadata": {
        "colab": {
          "base_uri": "https://localhost:8080/"
        },
        "id": "KnG3RbUZe_ml",
        "outputId": "eff53f4e-4e3c-4178-f721-a59bd3ad931c"
      },
      "execution_count": 14,
      "outputs": [
        {
          "output_type": "stream",
          "name": "stdout",
          "text": [
            "error\n"
          ]
        }
      ]
    },
    {
      "cell_type": "code",
      "source": [
        "# If an object inside a tuple is mutable, such as a list, you can modify it in place.\n",
        "tup[1].append(3)\n",
        "\n",
        "tup"
      ],
      "metadata": {
        "colab": {
          "base_uri": "https://localhost:8080/"
        },
        "id": "zdrppqpqfO9O",
        "outputId": "520911c9-839e-49bd-99b8-3741d45a40ff"
      },
      "execution_count": 15,
      "outputs": [
        {
          "output_type": "execute_result",
          "data": {
            "text/plain": [
              "('foo', [1, 2, 3], True)"
            ]
          },
          "metadata": {},
          "execution_count": 15
        }
      ]
    },
    {
      "cell_type": "code",
      "source": [
        "# concatenate tuples using the + operator to produce longer tuples:\n",
        "(4, None, 'foo') + (6, 0) + ('bar',)"
      ],
      "metadata": {
        "colab": {
          "base_uri": "https://localhost:8080/"
        },
        "id": "T9f9_NhIfpUd",
        "outputId": "db1bf770-7cd5-45ea-d5ce-cd639bddd8a4"
      },
      "execution_count": 16,
      "outputs": [
        {
          "output_type": "execute_result",
          "data": {
            "text/plain": [
              "(4, None, 'foo', 6, 0, 'bar')"
            ]
          },
          "metadata": {},
          "execution_count": 16
        }
      ]
    },
    {
      "cell_type": "code",
      "source": [
        "# multiplying a tuple by an integer\n",
        "('foo', 'bar') * 4"
      ],
      "metadata": {
        "colab": {
          "base_uri": "https://localhost:8080/"
        },
        "id": "9-aDyJ-xf3ST",
        "outputId": "9fcd01d0-24d1-4f16-bb4a-a47fa80c24a5"
      },
      "execution_count": 17,
      "outputs": [
        {
          "output_type": "execute_result",
          "data": {
            "text/plain": [
              "('foo', 'bar', 'foo', 'bar', 'foo', 'bar', 'foo', 'bar')"
            ]
          },
          "metadata": {},
          "execution_count": 17
        }
      ]
    },
    {
      "cell_type": "markdown",
      "source": [
        "**Unpacking tuples**"
      ],
      "metadata": {
        "id": "Rmqy3KJcgFg2"
      }
    },
    {
      "cell_type": "code",
      "source": [
        "tup = (4, 5, 6)\n",
        "\n",
        "a, b, c = tup\n",
        "b"
      ],
      "metadata": {
        "id": "uu3wkZd5gJh1",
        "colab": {
          "base_uri": "https://localhost:8080/"
        },
        "outputId": "5a0a990b-49ff-47ee-d126-7dfc677ce6fe"
      },
      "execution_count": 18,
      "outputs": [
        {
          "output_type": "execute_result",
          "data": {
            "text/plain": [
              "5"
            ]
          },
          "metadata": {},
          "execution_count": 18
        }
      ]
    },
    {
      "cell_type": "code",
      "source": [
        "tup = 4, 5, (6, 7)\n",
        "\n",
        "a, b, (c, d) = tup\n",
        "d"
      ],
      "metadata": {
        "colab": {
          "base_uri": "https://localhost:8080/"
        },
        "id": "P5pWLU80gRXl",
        "outputId": "e13257d7-2030-41ae-f514-3a141633f628"
      },
      "execution_count": 19,
      "outputs": [
        {
          "output_type": "execute_result",
          "data": {
            "text/plain": [
              "7"
            ]
          },
          "metadata": {},
          "execution_count": 19
        }
      ]
    },
    {
      "cell_type": "code",
      "source": [
        "# swap variable names, in many languages might look like this \n",
        "\n",
        "tmp = a \n",
        "a = b\n",
        "b = tmp\n",
        "\n",
        "print(a)\n",
        "print(b)"
      ],
      "metadata": {
        "colab": {
          "base_uri": "https://localhost:8080/"
        },
        "id": "iDVwOeq1gbqd",
        "outputId": "e5218063-0d2a-49da-ed69-cd6b1a054fe7"
      },
      "execution_count": 22,
      "outputs": [
        {
          "output_type": "stream",
          "name": "stdout",
          "text": [
            "5\n",
            "5\n"
          ]
        }
      ]
    },
    {
      "cell_type": "code",
      "source": [
        "# swap variable names, in Python\n",
        "\n",
        "a, b = 1, 2\n",
        "\n",
        "print(f\"a --- {a}, b --- {b}\")\n",
        "\n",
        "b, a = a, b\n",
        "\n",
        "print(f\"a --- {a}, b --- {b}\")"
      ],
      "metadata": {
        "colab": {
          "base_uri": "https://localhost:8080/"
        },
        "id": "ooj18h1QhBFC",
        "outputId": "1cea77ff-e399-4fc4-d913-7ed016418614"
      },
      "execution_count": 23,
      "outputs": [
        {
          "output_type": "stream",
          "name": "stdout",
          "text": [
            "a --- 1, b --- 2\n",
            "a --- 2, b --- 1\n"
          ]
        }
      ]
    },
    {
      "cell_type": "code",
      "source": [
        "seq = [(1, 2, 3), (4, 5, 6), (7, 8, 9)]\n",
        "\n",
        "for a, b, c in seq:\n",
        "  print(f'a={a}, b={b}, c={c}') "
      ],
      "metadata": {
        "colab": {
          "base_uri": "https://localhost:8080/"
        },
        "id": "Aqpb5ypihaPv",
        "outputId": "d0b3442d-dde7-44f1-a256-c1212572496c"
      },
      "execution_count": 24,
      "outputs": [
        {
          "output_type": "stream",
          "name": "stdout",
          "text": [
            "a=1, b=2, c=3\n",
            "a=4, b=5, c=6\n",
            "a=7, b=8, c=9\n"
          ]
        }
      ]
    },
    {
      "cell_type": "code",
      "source": [
        "# \"pluck\" a few element from the begining of a tuple.\n",
        "# *rest capture an arbitrarily long list of positional arguments\n",
        "\n",
        "values = 1, 2, 3, 4, 5\n",
        "a, b, *rest = values\n",
        "\n",
        "print(f\"a --------- {a}\")\n",
        "print(f\"b --------- {b}\")\n",
        "print(f\"rest ------ {rest}\")"
      ],
      "metadata": {
        "colab": {
          "base_uri": "https://localhost:8080/"
        },
        "id": "gR81OlP6hssM",
        "outputId": "1b9d181a-e950-484f-f750-5ece6b375c19"
      },
      "execution_count": 26,
      "outputs": [
        {
          "output_type": "stream",
          "name": "stdout",
          "text": [
            "a --------- 1\n",
            "b --------- 2\n",
            "rest ------ [3, 4, 5]\n"
          ]
        }
      ]
    },
    {
      "cell_type": "code",
      "source": [
        "#we use the underscore (_) to discard unwanted variables\n",
        "a, b, *_ = values"
      ],
      "metadata": {
        "id": "NV869iiKifdP"
      },
      "execution_count": 27,
      "outputs": []
    },
    {
      "cell_type": "markdown",
      "source": [
        "**Tuple methods**"
      ],
      "metadata": {
        "id": "qxYrU8UAiysU"
      }
    },
    {
      "cell_type": "markdown",
      "source": [
        "`count` counts the number of occurrences of a value:"
      ],
      "metadata": {
        "id": "FNtGGkPli7gU"
      }
    },
    {
      "cell_type": "code",
      "source": [
        "a = (1, 2, 2, 2, 2, 3, 4, 2)\n",
        "\n",
        "a.count(2)"
      ],
      "metadata": {
        "colab": {
          "base_uri": "https://localhost:8080/"
        },
        "id": "ZUainwp8jF_8",
        "outputId": "e36fa504-d43f-4022-f37f-f10fc912a0b7"
      },
      "execution_count": 28,
      "outputs": [
        {
          "output_type": "execute_result",
          "data": {
            "text/plain": [
              "5"
            ]
          },
          "metadata": {},
          "execution_count": 28
        }
      ]
    },
    {
      "cell_type": "markdown",
      "source": [
        "### **List**"
      ],
      "metadata": {
        "id": "U5ui_J9QjLB8"
      }
    },
    {
      "cell_type": "markdown",
      "source": [
        "List are variable length and their **contents can be modified** in place. List are mutable. You can define them using square brackets `[]` or using the `list` type function:"
      ],
      "metadata": {
        "id": "z4u2nEdqjgM3"
      }
    },
    {
      "cell_type": "code",
      "source": [
        "a_list = [2, 3, 7, None]\n",
        "a_list"
      ],
      "metadata": {
        "colab": {
          "base_uri": "https://localhost:8080/"
        },
        "id": "dP0HNhpDj0nN",
        "outputId": "1b212826-7313-4aa8-c164-4ba07d84ad44"
      },
      "execution_count": 29,
      "outputs": [
        {
          "output_type": "execute_result",
          "data": {
            "text/plain": [
              "[2, 3, 7, None]"
            ]
          },
          "metadata": {},
          "execution_count": 29
        }
      ]
    },
    {
      "cell_type": "code",
      "source": [
        "tup = (\"foo\", \"bar\", \"baz\")\n",
        "\n",
        "b_list = list(tup)\n",
        "b_list"
      ],
      "metadata": {
        "colab": {
          "base_uri": "https://localhost:8080/"
        },
        "id": "o2cZIbDej7SV",
        "outputId": "3d7acef6-b528-4114-9bf7-fc329f7811f4"
      },
      "execution_count": 40,
      "outputs": [
        {
          "output_type": "execute_result",
          "data": {
            "text/plain": [
              "['foo', 'bar', 'baz']"
            ]
          },
          "metadata": {},
          "execution_count": 40
        }
      ]
    },
    {
      "cell_type": "code",
      "source": [
        "b_list[1] = \"peekaboo\"\n",
        "b_list"
      ],
      "metadata": {
        "colab": {
          "base_uri": "https://localhost:8080/"
        },
        "id": "P902bISLkDmM",
        "outputId": "91587948-95aa-45f3-f93e-ffd4a5964cd4"
      },
      "execution_count": 41,
      "outputs": [
        {
          "output_type": "execute_result",
          "data": {
            "text/plain": [
              "['foo', 'peekaboo', 'baz']"
            ]
          },
          "metadata": {},
          "execution_count": 41
        }
      ]
    },
    {
      "cell_type": "code",
      "source": [
        "gen = range(10)\n",
        "gen "
      ],
      "metadata": {
        "colab": {
          "base_uri": "https://localhost:8080/"
        },
        "id": "K-rzWrX1kLAU",
        "outputId": "b11d28bc-9487-48f5-bfad-a54f7f34e67d"
      },
      "execution_count": 33,
      "outputs": [
        {
          "output_type": "execute_result",
          "data": {
            "text/plain": [
              "range(0, 10)"
            ]
          },
          "metadata": {},
          "execution_count": 33
        }
      ]
    },
    {
      "cell_type": "code",
      "source": [
        "list(gen)"
      ],
      "metadata": {
        "colab": {
          "base_uri": "https://localhost:8080/"
        },
        "id": "0nwxEFt0kOZF",
        "outputId": "b2920371-22c6-434a-d46e-e1d89526325f"
      },
      "execution_count": 34,
      "outputs": [
        {
          "output_type": "execute_result",
          "data": {
            "text/plain": [
              "[0, 1, 2, 3, 4, 5, 6, 7, 8, 9]"
            ]
          },
          "metadata": {},
          "execution_count": 34
        }
      ]
    },
    {
      "cell_type": "markdown",
      "source": [
        "**Adding and removing elements**"
      ],
      "metadata": {
        "id": "1VZGm1IKkQhN"
      }
    },
    {
      "cell_type": "markdown",
      "source": [
        "`append` -add an element to the end of the list\n",
        "\n",
        "`insert` -insert an element at a specific location in the list\n",
        "\n",
        "`pop` - removes and returns an element at a particular index\n",
        "\n",
        "`remove` -remove element by value, which locates the first such value and removes it from the list"
      ],
      "metadata": {
        "id": "h7KQVHYpknyA"
      }
    },
    {
      "cell_type": "code",
      "source": [
        "b_list.append(\"dwarf\")\n",
        "b_list"
      ],
      "metadata": {
        "colab": {
          "base_uri": "https://localhost:8080/"
        },
        "id": "n8MCp8ockUEd",
        "outputId": "555d50d3-8925-4cb5-dca5-7a0fb5811ed2"
      },
      "execution_count": 42,
      "outputs": [
        {
          "output_type": "execute_result",
          "data": {
            "text/plain": [
              "['foo', 'peekaboo', 'baz', 'dwarf']"
            ]
          },
          "metadata": {},
          "execution_count": 42
        }
      ]
    },
    {
      "cell_type": "code",
      "source": [
        "b_list.insert(1, \"red\")\n",
        "b_list"
      ],
      "metadata": {
        "colab": {
          "base_uri": "https://localhost:8080/"
        },
        "id": "MwayBufIkaIs",
        "outputId": "fffe1fc3-0c18-45ed-d398-5a9c5a947d5e"
      },
      "execution_count": 43,
      "outputs": [
        {
          "output_type": "execute_result",
          "data": {
            "text/plain": [
              "['foo', 'red', 'peekaboo', 'baz', 'dwarf']"
            ]
          },
          "metadata": {},
          "execution_count": 43
        }
      ]
    },
    {
      "cell_type": "code",
      "source": [
        "b_list.pop(2)\n",
        "b_list"
      ],
      "metadata": {
        "colab": {
          "base_uri": "https://localhost:8080/"
        },
        "id": "ON4fl4JxljKh",
        "outputId": "47d7c9d3-9e98-4011-9cab-1a760c117710"
      },
      "execution_count": 44,
      "outputs": [
        {
          "output_type": "execute_result",
          "data": {
            "text/plain": [
              "['foo', 'red', 'baz', 'dwarf']"
            ]
          },
          "metadata": {},
          "execution_count": 44
        }
      ]
    },
    {
      "cell_type": "code",
      "source": [
        "b_list.append(\"foo\")\n",
        "b_list"
      ],
      "metadata": {
        "colab": {
          "base_uri": "https://localhost:8080/"
        },
        "id": "szttD51XlnZZ",
        "outputId": "9ed643e9-78c5-4c8a-8742-5effb4c65a33"
      },
      "execution_count": 45,
      "outputs": [
        {
          "output_type": "execute_result",
          "data": {
            "text/plain": [
              "['foo', 'red', 'baz', 'dwarf', 'foo']"
            ]
          },
          "metadata": {},
          "execution_count": 45
        }
      ]
    },
    {
      "cell_type": "code",
      "source": [
        "b_list.remove(\"foo\")\n",
        "b_list"
      ],
      "metadata": {
        "colab": {
          "base_uri": "https://localhost:8080/"
        },
        "id": "r2VmhCDRlsng",
        "outputId": "2aa9a0fb-463f-4af1-feba-1a31ad149f55"
      },
      "execution_count": 46,
      "outputs": [
        {
          "output_type": "execute_result",
          "data": {
            "text/plain": [
              "['red', 'baz', 'dwarf', 'foo']"
            ]
          },
          "metadata": {},
          "execution_count": 46
        }
      ]
    },
    {
      "cell_type": "code",
      "source": [
        "\"dwarf\" in b_list"
      ],
      "metadata": {
        "colab": {
          "base_uri": "https://localhost:8080/"
        },
        "id": "p4lVzHallzv5",
        "outputId": "18226123-7e97-4e35-d6e8-9c726d80c91a"
      },
      "execution_count": 47,
      "outputs": [
        {
          "output_type": "execute_result",
          "data": {
            "text/plain": [
              "True"
            ]
          },
          "metadata": {},
          "execution_count": 47
        }
      ]
    },
    {
      "cell_type": "code",
      "source": [
        "\"dwarf\" not in b_list"
      ],
      "metadata": {
        "colab": {
          "base_uri": "https://localhost:8080/"
        },
        "id": "GLIazVDsl2-Z",
        "outputId": "d8f7f04d-f4f8-4d4f-d890-8f357b1ca26d"
      },
      "execution_count": 48,
      "outputs": [
        {
          "output_type": "execute_result",
          "data": {
            "text/plain": [
              "False"
            ]
          },
          "metadata": {},
          "execution_count": 48
        }
      ]
    },
    {
      "cell_type": "markdown",
      "source": [
        "**Concatenating and combining lists**"
      ],
      "metadata": {
        "id": "Jlt3NhY9mCNt"
      }
    },
    {
      "cell_type": "markdown",
      "source": [
        "list concatenating by addition is a comparatively **expensive operation** since a new list must be created and the objects copied over. Using `extend` to append element to an existing list, especially if you are building up a large list, is usually preferable."
      ],
      "metadata": {
        "id": "o8ck6fl4mf4-"
      }
    },
    {
      "cell_type": "code",
      "source": [
        "[4, None, \"foo\"] + [7, 8, (2, 3)]"
      ],
      "metadata": {
        "colab": {
          "base_uri": "https://localhost:8080/"
        },
        "id": "35B15itXmGt0",
        "outputId": "cccca693-cc04-47ed-fb81-b9135ffa860f"
      },
      "execution_count": 49,
      "outputs": [
        {
          "output_type": "execute_result",
          "data": {
            "text/plain": [
              "[4, None, 'foo', 7, 8, (2, 3)]"
            ]
          },
          "metadata": {},
          "execution_count": 49
        }
      ]
    },
    {
      "cell_type": "code",
      "source": [
        "x = [4, None, \"foo\"]\n",
        "\n",
        "x.extend([7, 8, (2, 3)])\n",
        "x"
      ],
      "metadata": {
        "colab": {
          "base_uri": "https://localhost:8080/"
        },
        "id": "33Sp8jxcmLzE",
        "outputId": "40586588-5b9a-4d12-bab2-18ac18637dc8"
      },
      "execution_count": 50,
      "outputs": [
        {
          "output_type": "execute_result",
          "data": {
            "text/plain": [
              "[4, None, 'foo', 7, 8, (2, 3)]"
            ]
          },
          "metadata": {},
          "execution_count": 50
        }
      ]
    },
    {
      "cell_type": "code",
      "source": [
        "list_of_lists = [[0], [1, 1], [2, 2, 2]]\n",
        "\n",
        "everything = []\n",
        "for chunk in list_of_lists:\n",
        "  everything.extend(chunk)"
      ],
      "metadata": {
        "id": "L4lqRaWpm1Qc"
      },
      "execution_count": 54,
      "outputs": []
    },
    {
      "cell_type": "code",
      "source": [
        "everything = []\n",
        "for chunk in list_of_lists:\n",
        "  everything = everything + chunk"
      ],
      "metadata": {
        "id": "rLQSYw5ynQaU"
      },
      "execution_count": 55,
      "outputs": []
    },
    {
      "cell_type": "markdown",
      "source": [
        "**Sorting**"
      ],
      "metadata": {
        "id": "mhLt7CLYn2Uk"
      }
    },
    {
      "cell_type": "code",
      "source": [
        "a = [7, 2, 5, 1, 3]\n",
        "\n",
        "a.sort()\n",
        "a"
      ],
      "metadata": {
        "colab": {
          "base_uri": "https://localhost:8080/"
        },
        "id": "Xk3IlU2Yn4bM",
        "outputId": "9c2a7653-1ca4-43cf-d4ec-eaae7c451bf3"
      },
      "execution_count": 57,
      "outputs": [
        {
          "output_type": "execute_result",
          "data": {
            "text/plain": [
              "[1, 2, 3, 5, 7]"
            ]
          },
          "metadata": {},
          "execution_count": 57
        }
      ]
    },
    {
      "cell_type": "code",
      "source": [
        "b = [\"saw\", \"small\", \"He\", \"foxes\", \"six\"]\n",
        "\n",
        "b.sort(key=len)\n",
        "b"
      ],
      "metadata": {
        "colab": {
          "base_uri": "https://localhost:8080/"
        },
        "id": "Lz1TAXunn97_",
        "outputId": "8e5baadc-3efa-4b9b-ffcc-f253a4e95d2c"
      },
      "execution_count": 58,
      "outputs": [
        {
          "output_type": "execute_result",
          "data": {
            "text/plain": [
              "['He', 'saw', 'six', 'small', 'foxes']"
            ]
          },
          "metadata": {},
          "execution_count": 58
        }
      ]
    },
    {
      "cell_type": "markdown",
      "source": [
        "**Slicing**"
      ],
      "metadata": {
        "id": "chiyVSNzoKbE"
      }
    },
    {
      "cell_type": "markdown",
      "source": [
        "slicing to **select sections of most sequence types** by using slice notation, which is its basic form consists of `start:stop` passed to the indexing operator `[]`\n",
        "\n",
        "`start` index is included, the `stop` index in not included\n",
        "\n",
        "`step` take every other element"
      ],
      "metadata": {
        "id": "KgldcJpUo1Om"
      }
    },
    {
      "cell_type": "code",
      "source": [
        "#     -8 -7 -6 -5 -4 -3 -2 -1\n",
        "#      0  1  2  3  4  5  6  7\n",
        "seq = [7, 2, 3, 7, 5, 6, 0, 1]\n",
        "\n",
        "seq[1: 5]"
      ],
      "metadata": {
        "colab": {
          "base_uri": "https://localhost:8080/"
        },
        "id": "JZ8-g6dWoIWo",
        "outputId": "daee09f9-49b4-484f-9313-79d9928bc7cd"
      },
      "execution_count": 63,
      "outputs": [
        {
          "output_type": "execute_result",
          "data": {
            "text/plain": [
              "[2, 3, 7, 5]"
            ]
          },
          "metadata": {},
          "execution_count": 63
        }
      ]
    },
    {
      "cell_type": "code",
      "source": [
        "seq[3: 5] = [6, 3]\n",
        "\n",
        "seq"
      ],
      "metadata": {
        "colab": {
          "base_uri": "https://localhost:8080/"
        },
        "id": "-_CoJwVToWqU",
        "outputId": "f070c1aa-511a-49c0-b185-c45c339e6dd1"
      },
      "execution_count": 64,
      "outputs": [
        {
          "output_type": "execute_result",
          "data": {
            "text/plain": [
              "[7, 2, 3, 6, 3, 6, 0, 1]"
            ]
          },
          "metadata": {},
          "execution_count": 64
        }
      ]
    },
    {
      "cell_type": "code",
      "source": [
        "seq[:5]"
      ],
      "metadata": {
        "colab": {
          "base_uri": "https://localhost:8080/"
        },
        "id": "6EnXKBgOpCMd",
        "outputId": "3d3fa947-4898-4d11-eff5-2b54338bce29"
      },
      "execution_count": 65,
      "outputs": [
        {
          "output_type": "execute_result",
          "data": {
            "text/plain": [
              "[7, 2, 3, 6, 3]"
            ]
          },
          "metadata": {},
          "execution_count": 65
        }
      ]
    },
    {
      "cell_type": "code",
      "source": [
        "seq[3:]"
      ],
      "metadata": {
        "colab": {
          "base_uri": "https://localhost:8080/"
        },
        "id": "sHyvmlEppEO8",
        "outputId": "4dcadd33-d4f3-4a30-c631-d5cc23bef10e"
      },
      "execution_count": 66,
      "outputs": [
        {
          "output_type": "execute_result",
          "data": {
            "text/plain": [
              "[6, 3, 6, 0, 1]"
            ]
          },
          "metadata": {},
          "execution_count": 66
        }
      ]
    },
    {
      "cell_type": "code",
      "source": [
        "seq[-4:]"
      ],
      "metadata": {
        "colab": {
          "base_uri": "https://localhost:8080/"
        },
        "id": "fpoDe12UpHFs",
        "outputId": "78da8f11-2888-4a7e-d14e-647bb3a530f1"
      },
      "execution_count": 67,
      "outputs": [
        {
          "output_type": "execute_result",
          "data": {
            "text/plain": [
              "[3, 6, 0, 1]"
            ]
          },
          "metadata": {},
          "execution_count": 67
        }
      ]
    },
    {
      "cell_type": "code",
      "source": [
        "seq[-6:-2]"
      ],
      "metadata": {
        "colab": {
          "base_uri": "https://localhost:8080/"
        },
        "id": "F-OC-t61pJ7U",
        "outputId": "782a5a93-809b-4d16-a0f1-405dcd327012"
      },
      "execution_count": 68,
      "outputs": [
        {
          "output_type": "execute_result",
          "data": {
            "text/plain": [
              "[3, 6, 3, 6]"
            ]
          },
          "metadata": {},
          "execution_count": 68
        }
      ]
    },
    {
      "cell_type": "code",
      "source": [
        "#    -6   -5   -4   -3   -2   -1            \n",
        "#     0    1    2    3    4    5\n",
        "H = ['h', 'e', 'l', 'l', 'o', '!']"
      ],
      "metadata": {
        "id": "8f9AT2tHp8rt"
      },
      "execution_count": 70,
      "outputs": []
    },
    {
      "cell_type": "code",
      "source": [
        "H[2: 4]"
      ],
      "metadata": {
        "colab": {
          "base_uri": "https://localhost:8080/"
        },
        "id": "I6dHWYQ0qcHu",
        "outputId": "e54bf699-a867-46e9-a5dd-31b60a819d7a"
      },
      "execution_count": 71,
      "outputs": [
        {
          "output_type": "execute_result",
          "data": {
            "text/plain": [
              "['l', 'l']"
            ]
          },
          "metadata": {},
          "execution_count": 71
        }
      ]
    },
    {
      "cell_type": "code",
      "source": [
        "H[-5: -2]"
      ],
      "metadata": {
        "colab": {
          "base_uri": "https://localhost:8080/"
        },
        "id": "KgDKNb1kqeO1",
        "outputId": "d39dd083-ca18-4c25-b6fd-0d6f015ee905"
      },
      "execution_count": 73,
      "outputs": [
        {
          "output_type": "execute_result",
          "data": {
            "text/plain": [
              "['e', 'l', 'l']"
            ]
          },
          "metadata": {},
          "execution_count": 73
        }
      ]
    },
    {
      "cell_type": "code",
      "source": [
        "seq[::2]"
      ],
      "metadata": {
        "colab": {
          "base_uri": "https://localhost:8080/"
        },
        "id": "wnFJ-oR3qlKs",
        "outputId": "3a93cc51-2d8b-4472-de77-844128ea643c"
      },
      "execution_count": 74,
      "outputs": [
        {
          "output_type": "execute_result",
          "data": {
            "text/plain": [
              "[7, 3, 3, 0]"
            ]
          },
          "metadata": {},
          "execution_count": 74
        }
      ]
    },
    {
      "cell_type": "code",
      "source": [
        "# use negative value to reverse a lit or tuple\n",
        "seq[::-1]"
      ],
      "metadata": {
        "colab": {
          "base_uri": "https://localhost:8080/"
        },
        "id": "99gFAQTKrJFk",
        "outputId": "c5d6c629-1421-4ea4-b2bb-cd034d7a1323"
      },
      "execution_count": 75,
      "outputs": [
        {
          "output_type": "execute_result",
          "data": {
            "text/plain": [
              "[1, 0, 6, 3, 6, 3, 2, 7]"
            ]
          },
          "metadata": {},
          "execution_count": 75
        }
      ]
    },
    {
      "cell_type": "markdown",
      "source": [
        "### **Dictionary**"
      ],
      "metadata": {
        "id": "jCvJtYB5rTqk"
      }
    },
    {
      "cell_type": "markdown",
      "source": [
        "A **dictionary** (in other language called hash maps or associative arrays) stores a collection of **key-values pairs**, where key and value are Python objects. Each **key** is **associated with** a **value** so that a value can be conveniently retrieved, inserted, modified, or deleted given a particular key. One approach for creating a dictionary is to use curly braces `{}` and colons to separate keys and values:"
      ],
      "metadata": {
        "id": "yvqPltn6rZBl"
      }
    },
    {
      "cell_type": "code",
      "source": [
        "empty_dict = {}\n",
        "\n",
        "d1 = {\"a\": \"some value\", \"b\": [1, 2, 3, 4]}\n",
        "d1"
      ],
      "metadata": {
        "id": "_nO-WBljsJJ9",
        "colab": {
          "base_uri": "https://localhost:8080/"
        },
        "outputId": "a9e069cf-c303-4fbd-c475-70b1d466e89d"
      },
      "execution_count": 76,
      "outputs": [
        {
          "output_type": "execute_result",
          "data": {
            "text/plain": [
              "{'a': 'some value', 'b': [1, 2, 3, 4]}"
            ]
          },
          "metadata": {},
          "execution_count": 76
        }
      ]
    },
    {
      "cell_type": "code",
      "source": [
        "d1[7] = \"an integer\"\n",
        "d1"
      ],
      "metadata": {
        "colab": {
          "base_uri": "https://localhost:8080/"
        },
        "id": "YHxNODyBsTer",
        "outputId": "98147e40-6e13-4426-de8f-26aa3c6a8eed"
      },
      "execution_count": 77,
      "outputs": [
        {
          "output_type": "execute_result",
          "data": {
            "text/plain": [
              "{'a': 'some value', 'b': [1, 2, 3, 4], 7: 'an integer'}"
            ]
          },
          "metadata": {},
          "execution_count": 77
        }
      ]
    },
    {
      "cell_type": "code",
      "source": [
        "d1[\"b\"]"
      ],
      "metadata": {
        "colab": {
          "base_uri": "https://localhost:8080/"
        },
        "id": "d7-HKTJ1sYW8",
        "outputId": "82465418-3e52-4cc8-d687-2c1a36403270"
      },
      "execution_count": 78,
      "outputs": [
        {
          "output_type": "execute_result",
          "data": {
            "text/plain": [
              "[1, 2, 3, 4]"
            ]
          },
          "metadata": {},
          "execution_count": 78
        }
      ]
    },
    {
      "cell_type": "code",
      "source": [
        "\"b\" in d1"
      ],
      "metadata": {
        "colab": {
          "base_uri": "https://localhost:8080/"
        },
        "id": "4npH87NQseDf",
        "outputId": "c8abdf96-f493-4f52-fffb-668c64554a28"
      },
      "execution_count": 79,
      "outputs": [
        {
          "output_type": "execute_result",
          "data": {
            "text/plain": [
              "True"
            ]
          },
          "metadata": {},
          "execution_count": 79
        }
      ]
    },
    {
      "cell_type": "code",
      "source": [
        "d1[5] = \"some value\"\n",
        "d1"
      ],
      "metadata": {
        "colab": {
          "base_uri": "https://localhost:8080/"
        },
        "id": "QX6sUXIXsgKk",
        "outputId": "0ba0ba17-9c4c-4e10-ada5-85f6687ac015"
      },
      "execution_count": 85,
      "outputs": [
        {
          "output_type": "execute_result",
          "data": {
            "text/plain": [
              "{'a': 'some value',\n",
              " 'b': [1, 2, 3, 4],\n",
              " 7: 'an integer',\n",
              " 'dummy': 'another value',\n",
              " 5: 'some value'}"
            ]
          },
          "metadata": {},
          "execution_count": 85
        }
      ]
    },
    {
      "cell_type": "code",
      "source": [
        "d1[\"dummy\"] = \"another value\"\n",
        "d1"
      ],
      "metadata": {
        "colab": {
          "base_uri": "https://localhost:8080/"
        },
        "id": "bLJstTlQskxc",
        "outputId": "76d40cb8-8c39-4ce8-abc2-37686990db9d"
      },
      "execution_count": 82,
      "outputs": [
        {
          "output_type": "execute_result",
          "data": {
            "text/plain": [
              "{'a': 'some value',\n",
              " 'b': [1, 2, 3, 4],\n",
              " 7: 'an integer',\n",
              " 'dummy': 'another value'}"
            ]
          },
          "metadata": {},
          "execution_count": 82
        }
      ]
    },
    {
      "cell_type": "code",
      "source": [
        "del d1[5]\n",
        "d1"
      ],
      "metadata": {
        "colab": {
          "base_uri": "https://localhost:8080/"
        },
        "id": "UtgOaAW1sqsM",
        "outputId": "507f54ef-c5a5-42bd-8efa-b0c7f20b1f3d"
      },
      "execution_count": 86,
      "outputs": [
        {
          "output_type": "execute_result",
          "data": {
            "text/plain": [
              "{'a': 'some value',\n",
              " 'b': [1, 2, 3, 4],\n",
              " 7: 'an integer',\n",
              " 'dummy': 'another value'}"
            ]
          },
          "metadata": {},
          "execution_count": 86
        }
      ]
    },
    {
      "cell_type": "code",
      "source": [
        "ret = d1.pop(\"dummy\")\n",
        "ret"
      ],
      "metadata": {
        "colab": {
          "base_uri": "https://localhost:8080/",
          "height": 35
        },
        "id": "AijETtq-s4ZT",
        "outputId": "d89f9e79-49fc-4a0c-a92b-603020baee6d"
      },
      "execution_count": 87,
      "outputs": [
        {
          "output_type": "execute_result",
          "data": {
            "text/plain": [
              "'another value'"
            ],
            "application/vnd.google.colaboratory.intrinsic+json": {
              "type": "string"
            }
          },
          "metadata": {},
          "execution_count": 87
        }
      ]
    },
    {
      "cell_type": "code",
      "source": [
        "d1"
      ],
      "metadata": {
        "colab": {
          "base_uri": "https://localhost:8080/"
        },
        "id": "0_JSkRNos-IM",
        "outputId": "491aaebc-5368-4fa4-ddf7-9409b9ca15eb"
      },
      "execution_count": 88,
      "outputs": [
        {
          "output_type": "execute_result",
          "data": {
            "text/plain": [
              "{'a': 'some value', 'b': [1, 2, 3, 4], 7: 'an integer'}"
            ]
          },
          "metadata": {},
          "execution_count": 88
        }
      ]
    },
    {
      "cell_type": "code",
      "source": [
        "list(d1.keys())"
      ],
      "metadata": {
        "colab": {
          "base_uri": "https://localhost:8080/"
        },
        "id": "ysvE5K79tAu7",
        "outputId": "b05968da-cbc5-4296-caea-ab16b782a613"
      },
      "execution_count": 89,
      "outputs": [
        {
          "output_type": "execute_result",
          "data": {
            "text/plain": [
              "['a', 'b', 7]"
            ]
          },
          "metadata": {},
          "execution_count": 89
        }
      ]
    },
    {
      "cell_type": "code",
      "source": [
        "list(d1.values())"
      ],
      "metadata": {
        "colab": {
          "base_uri": "https://localhost:8080/"
        },
        "id": "Y6o6GNEYtDQl",
        "outputId": "8795e3ea-fcd9-4824-d237-8696f5f5ba65"
      },
      "execution_count": 90,
      "outputs": [
        {
          "output_type": "execute_result",
          "data": {
            "text/plain": [
              "['some value', [1, 2, 3, 4], 'an integer']"
            ]
          },
          "metadata": {},
          "execution_count": 90
        }
      ]
    },
    {
      "cell_type": "code",
      "source": [
        "list(d1.items())"
      ],
      "metadata": {
        "colab": {
          "base_uri": "https://localhost:8080/"
        },
        "id": "FEyuufEvtFWL",
        "outputId": "ddee3601-beeb-4025-e800-cd0f5891cd40"
      },
      "execution_count": 91,
      "outputs": [
        {
          "output_type": "execute_result",
          "data": {
            "text/plain": [
              "[('a', 'some value'), ('b', [1, 2, 3, 4]), (7, 'an integer')]"
            ]
          },
          "metadata": {},
          "execution_count": 91
        }
      ]
    },
    {
      "cell_type": "code",
      "source": [
        "d1.update({\"b\": \"foo\", \"c\": 12})\n",
        "d1"
      ],
      "metadata": {
        "colab": {
          "base_uri": "https://localhost:8080/"
        },
        "id": "_c3a04LZtHrb",
        "outputId": "4cf0a142-2bd8-412f-fadb-df4f4e34cd3c"
      },
      "execution_count": 92,
      "outputs": [
        {
          "output_type": "execute_result",
          "data": {
            "text/plain": [
              "{'a': 'some value', 'b': 'foo', 7: 'an integer', 'c': 12}"
            ]
          },
          "metadata": {},
          "execution_count": 92
        }
      ]
    },
    {
      "cell_type": "markdown",
      "source": [
        "**Creating dicionaries from sequences**"
      ],
      "metadata": {
        "id": "QKdJJevstOIe"
      }
    },
    {
      "cell_type": "code",
      "source": [
        "key_list = [\"apple\", \"banana\", \"cherry\"]\n",
        "value_list = [10, 20, 30]\n",
        "\n",
        "mapping = {}\n",
        "for key, value in zip(key_list, value_list):\n",
        "  mapping[key] = value"
      ],
      "metadata": {
        "id": "iThxHgsgtTIT"
      },
      "execution_count": 93,
      "outputs": []
    },
    {
      "cell_type": "code",
      "source": [
        "mapping"
      ],
      "metadata": {
        "colab": {
          "base_uri": "https://localhost:8080/"
        },
        "id": "9yVMgjtntwdq",
        "outputId": "61c484e4-151a-4929-acab-404ca8e63fc2"
      },
      "execution_count": 94,
      "outputs": [
        {
          "output_type": "execute_result",
          "data": {
            "text/plain": [
              "{'apple': 10, 'banana': 20, 'cherry': 30}"
            ]
          },
          "metadata": {},
          "execution_count": 94
        }
      ]
    },
    {
      "cell_type": "code",
      "source": [
        "# a dictionary is a collection of 2-tuples, the dict function accepts a list of 2-tuples\n",
        "tuples = zip(range(5), reversed(range(5)))\n",
        "tuples"
      ],
      "metadata": {
        "colab": {
          "base_uri": "https://localhost:8080/"
        },
        "id": "90lJagKLtyAN",
        "outputId": "5a1691a1-3c48-4aa2-fd8b-880085cf9894"
      },
      "execution_count": 95,
      "outputs": [
        {
          "output_type": "execute_result",
          "data": {
            "text/plain": [
              "<zip at 0x7f82d751ea80>"
            ]
          },
          "metadata": {},
          "execution_count": 95
        }
      ]
    },
    {
      "cell_type": "code",
      "source": [
        "mapping = dict(tuples)\n",
        "mapping"
      ],
      "metadata": {
        "colab": {
          "base_uri": "https://localhost:8080/"
        },
        "id": "6nO6tRQNt5wr",
        "outputId": "94722c10-0d68-46dd-f693-e2d2e78eb5af"
      },
      "execution_count": 97,
      "outputs": [
        {
          "output_type": "execute_result",
          "data": {
            "text/plain": [
              "{0: 4, 1: 3, 2: 2, 3: 1, 4: 0}"
            ]
          },
          "metadata": {},
          "execution_count": 97
        }
      ]
    },
    {
      "cell_type": "markdown",
      "source": [
        "**Default values**"
      ],
      "metadata": {
        "id": "UyuzVDBcuMav"
      }
    },
    {
      "cell_type": "code",
      "source": [
        "some_dict = {'apple': 10, 'banana': 20, 'cherry': 30}\n",
        "default_value = None\n",
        "\n",
        "if key in some_dict:\n",
        "  value = some_dict[key]\n",
        "else: \n",
        "  value = default_value"
      ],
      "metadata": {
        "id": "d2rTw3D2up38"
      },
      "execution_count": 99,
      "outputs": []
    },
    {
      "cell_type": "code",
      "source": [
        "value = some_dict.get('apple', default_value)\n",
        "value"
      ],
      "metadata": {
        "colab": {
          "base_uri": "https://localhost:8080/"
        },
        "id": "Yd4HBK-SvQZx",
        "outputId": "7750b8d6-b501-4a66-c59b-c36ccdd5702c"
      },
      "execution_count": 105,
      "outputs": [
        {
          "output_type": "execute_result",
          "data": {
            "text/plain": [
              "10"
            ]
          },
          "metadata": {},
          "execution_count": 105
        }
      ]
    },
    {
      "cell_type": "code",
      "source": [
        "words = [\"apple\", \"bat\", 'bar', 'atom', \"book\"]\n",
        "by_letter = {}\n",
        "\n",
        "for word in words:\n",
        "  letter = word[0]\n",
        "  if letter not in by_letter:\n",
        "    by_letter[letter] = [word]\n",
        "  else:\n",
        "    by_letter[letter].append(word)\n",
        "\n",
        "by_letter"
      ],
      "metadata": {
        "colab": {
          "base_uri": "https://localhost:8080/"
        },
        "id": "6uvYmQYAvoEt",
        "outputId": "3e619554-6cce-43cc-9ad8-20f0de5df371"
      },
      "execution_count": 107,
      "outputs": [
        {
          "output_type": "execute_result",
          "data": {
            "text/plain": [
              "{'a': ['apple', 'atom'], 'b': ['bat', 'bar', 'book']}"
            ]
          },
          "metadata": {},
          "execution_count": 107
        }
      ]
    },
    {
      "cell_type": "code",
      "source": [
        "by_letter = {}\n",
        "\n",
        "for word in words:\n",
        "  letter = word[0]\n",
        "  by_letter.setdefault(letter, []).append(word)\n",
        "\n",
        "by_letter"
      ],
      "metadata": {
        "colab": {
          "base_uri": "https://localhost:8080/"
        },
        "id": "g-rOdcC9wWdM",
        "outputId": "89f24714-c20f-41d0-f45c-cd019884eef6"
      },
      "execution_count": 108,
      "outputs": [
        {
          "output_type": "execute_result",
          "data": {
            "text/plain": [
              "{'a': ['apple', 'atom'], 'b': ['bat', 'bar', 'book']}"
            ]
          },
          "metadata": {},
          "execution_count": 108
        }
      ]
    },
    {
      "cell_type": "code",
      "source": [
        "from collections import defaultdict\n",
        "\n",
        "by_letter = defaultdict(list)\n",
        "\n",
        "for word in words:\n",
        "  by_letter[word[0]].append(word)\n",
        "\n",
        "by_letter"
      ],
      "metadata": {
        "colab": {
          "base_uri": "https://localhost:8080/"
        },
        "id": "rTqhaqUgwjRl",
        "outputId": "8b1c5c03-ba30-4189-a117-29600aa623f1"
      },
      "execution_count": 110,
      "outputs": [
        {
          "output_type": "execute_result",
          "data": {
            "text/plain": [
              "defaultdict(list, {'a': ['apple', 'atom'], 'b': ['bat', 'bar', 'book']})"
            ]
          },
          "metadata": {},
          "execution_count": 110
        }
      ]
    },
    {
      "cell_type": "markdown",
      "source": [
        "**Valid dictionary key types**"
      ],
      "metadata": {
        "id": "IaoB9DdnxEeW"
      }
    },
    {
      "cell_type": "markdown",
      "source": [
        "While the values of a dictionary can be any Python object, the keys generally have to be immutable objects like scalar types (int, float, string) or tuples (all the objects in the tuple need to be immutable, too). The technical term here is **hashability**. You can check whether an object is hashable (can be used as a key in a dictionary) with the hash function:"
      ],
      "metadata": {
        "id": "b6DGDhlhxKpE"
      }
    },
    {
      "cell_type": "code",
      "source": [
        "hash?"
      ],
      "metadata": {
        "id": "IH9hbR_Tx6zr"
      },
      "execution_count": 113,
      "outputs": []
    },
    {
      "cell_type": "code",
      "source": [
        "hash(\"string\")"
      ],
      "metadata": {
        "colab": {
          "base_uri": "https://localhost:8080/"
        },
        "id": "WCv1CziXxkzb",
        "outputId": "97c05268-7c75-46f5-aaa5-c5b627090f42"
      },
      "execution_count": 111,
      "outputs": [
        {
          "output_type": "execute_result",
          "data": {
            "text/plain": [
              "3384460652441790926"
            ]
          },
          "metadata": {},
          "execution_count": 111
        }
      ]
    },
    {
      "cell_type": "code",
      "source": [
        "hash((1, 2, (2, 3)))"
      ],
      "metadata": {
        "colab": {
          "base_uri": "https://localhost:8080/"
        },
        "id": "AbpEKCEKxt9U",
        "outputId": "6673e281-5a10-4918-9fd1-e11b124c3cdc"
      },
      "execution_count": 112,
      "outputs": [
        {
          "output_type": "execute_result",
          "data": {
            "text/plain": [
              "-9209053662355515447"
            ]
          },
          "metadata": {},
          "execution_count": 112
        }
      ]
    },
    {
      "cell_type": "code",
      "source": [
        "try:\n",
        "  hash((1, 2, [2, 3]))\n",
        "except:\n",
        "  print(\"error\")"
      ],
      "metadata": {
        "colab": {
          "base_uri": "https://localhost:8080/"
        },
        "id": "8Y84bq2wygv7",
        "outputId": "719b39da-3882-4a96-f639-2da17cf71a58"
      },
      "execution_count": 118,
      "outputs": [
        {
          "output_type": "stream",
          "name": "stdout",
          "text": [
            "error\n"
          ]
        }
      ]
    },
    {
      "cell_type": "code",
      "source": [
        "d = {}\n",
        "\n",
        "d[tuple([1, 2, 3])] = 5\n",
        "d"
      ],
      "metadata": {
        "colab": {
          "base_uri": "https://localhost:8080/"
        },
        "id": "0Wk0ZWS9ysxr",
        "outputId": "c001b84b-2842-4fdc-cccb-cba97fc94114"
      },
      "execution_count": 119,
      "outputs": [
        {
          "output_type": "execute_result",
          "data": {
            "text/plain": [
              "{(1, 2, 3): 5}"
            ]
          },
          "metadata": {},
          "execution_count": 119
        }
      ]
    },
    {
      "cell_type": "markdown",
      "source": [
        "### **Set**"
      ],
      "metadata": {
        "id": "86VtlfSMy3L0"
      }
    },
    {
      "cell_type": "markdown",
      "source": [
        "A **set** is an **unordered collection** of **unique elements.** A set can be created in two ways:\n",
        "* via the `set` function \n",
        "* via a set literal with curly braces `{}`"
      ],
      "metadata": {
        "id": "sewZKaLcy6Vr"
      }
    },
    {
      "cell_type": "code",
      "source": [
        "set([2, 2, 2, 1, 3, 3])"
      ],
      "metadata": {
        "colab": {
          "base_uri": "https://localhost:8080/"
        },
        "id": "vYxHvf5-zSLr",
        "outputId": "30dd6043-7c7e-4ff6-9988-e986c0f545b2"
      },
      "execution_count": 120,
      "outputs": [
        {
          "output_type": "execute_result",
          "data": {
            "text/plain": [
              "{1, 2, 3}"
            ]
          },
          "metadata": {},
          "execution_count": 120
        }
      ]
    },
    {
      "cell_type": "code",
      "source": [
        "{2, 2, 2, 1, 3, 3}"
      ],
      "metadata": {
        "colab": {
          "base_uri": "https://localhost:8080/"
        },
        "id": "-mEliLpgzWYr",
        "outputId": "538d4991-def7-451a-d58b-c8c0c9c366ae"
      },
      "execution_count": 121,
      "outputs": [
        {
          "output_type": "execute_result",
          "data": {
            "text/plain": [
              "{1, 2, 3}"
            ]
          },
          "metadata": {},
          "execution_count": 121
        }
      ]
    },
    {
      "cell_type": "code",
      "source": [
        "a = {1, 2, 3, 4, 5}\n",
        "b = {3, 4, 5, 6, 7, 8}"
      ],
      "metadata": {
        "id": "rKEpuCGGzaRS"
      },
      "execution_count": 122,
      "outputs": []
    },
    {
      "cell_type": "code",
      "source": [
        "a.union(b)"
      ],
      "metadata": {
        "colab": {
          "base_uri": "https://localhost:8080/"
        },
        "id": "25Bdr6u2znf8",
        "outputId": "833c75da-a024-48b1-cd5f-960ec12fbd36"
      },
      "execution_count": 123,
      "outputs": [
        {
          "output_type": "execute_result",
          "data": {
            "text/plain": [
              "{1, 2, 3, 4, 5, 6, 7, 8}"
            ]
          },
          "metadata": {},
          "execution_count": 123
        }
      ]
    },
    {
      "cell_type": "code",
      "source": [
        "a | b"
      ],
      "metadata": {
        "colab": {
          "base_uri": "https://localhost:8080/"
        },
        "id": "ypuG66sJzqAS",
        "outputId": "b330f37f-8792-4472-8b9b-f67c3d94d764"
      },
      "execution_count": 124,
      "outputs": [
        {
          "output_type": "execute_result",
          "data": {
            "text/plain": [
              "{1, 2, 3, 4, 5, 6, 7, 8}"
            ]
          },
          "metadata": {},
          "execution_count": 124
        }
      ]
    },
    {
      "cell_type": "code",
      "source": [
        "a.intersection(b)"
      ],
      "metadata": {
        "colab": {
          "base_uri": "https://localhost:8080/"
        },
        "id": "fnIrTV09zrT6",
        "outputId": "22764007-2589-4f1a-d0fa-1c02f9d2aa5d"
      },
      "execution_count": 126,
      "outputs": [
        {
          "output_type": "execute_result",
          "data": {
            "text/plain": [
              "{3, 4, 5}"
            ]
          },
          "metadata": {},
          "execution_count": 126
        }
      ]
    },
    {
      "cell_type": "code",
      "source": [
        "a  & b"
      ],
      "metadata": {
        "colab": {
          "base_uri": "https://localhost:8080/"
        },
        "id": "HC69GFgczthr",
        "outputId": "37d133f0-fb47-4a93-9f23-b8112fd78b8b"
      },
      "execution_count": 127,
      "outputs": [
        {
          "output_type": "execute_result",
          "data": {
            "text/plain": [
              "{3, 4, 5}"
            ]
          },
          "metadata": {},
          "execution_count": 127
        }
      ]
    },
    {
      "cell_type": "markdown",
      "source": [
        "<table>\n",
        "  <tr>\n",
        "    <th colspan=\"3\"><h4><b>Python set operations</b></h4></th>\n",
        "  </tr>\n",
        "  <tr>\n",
        "    <th>Function</th>\n",
        "    <th>Alternative syntax</th>\n",
        "    <th>Description</th>\n",
        "  </tr>\n",
        "  <tr>\n",
        "    <td>a.add(x) </td>\n",
        "    <td>N/A</td>\n",
        "    <td>Add element x to set a</td>\n",
        "  </tr>\n",
        "  <tr>\n",
        "    <td>a.clear() </td>\n",
        "    <td>N/A</td>\n",
        "    <td>Reset set a to an empty state, discarding all of its\n",
        "elements</td>\n",
        "  </tr>\n",
        "  <tr>\n",
        "    <td>a.remove(x) </td>\n",
        "    <td>N/A</td>\n",
        "    <td>Remove element x from set a\n",
        "</td>\n",
        "  </tr>\n",
        "  <tr>\n",
        "    <td>a.pop()</td>\n",
        "    <td>N/A</td>\n",
        "    <td>Remove an arbitrary element from set a, raising KeyError if the set is empty</td>\n",
        "  </tr>\n",
        "  <tr>\n",
        "    <td>a.union(b)</td>\n",
        "    <td>a | b </td>\n",
        "    <td>All of the unique elements in a and b</td>\n",
        "  </tr>\n",
        "  <tr>\n",
        "    <td>a.update(b)</td>\n",
        "    <td>a |= b</td>\n",
        "    <td>Set the contents of a to be the union of the elements in a and b</td>\n",
        "  </tr>\n",
        "  <tr>\n",
        "    <td>a.intersection(b)</td>\n",
        "    <td>a & b</td>\n",
        "    <td>All of the elements in both a and b</td>\n",
        "  </tr>\n",
        "  <tr>\n",
        "    <td>a.intersection_update(b) </td>\n",
        "    <td>a &= b</td>\n",
        "    <td>Set the contents of a to be the intersection of the elements in a and b</td>\n",
        "  </tr>\n",
        "  <tr>\n",
        "    <td>a.difference(b) </td>\n",
        "    <td>a - b </td>\n",
        "    <td>The elements in a that are not in b</td>\n",
        "  </tr>\n",
        "  <tr>\n",
        "    <td>a.difference_update(b)</td>\n",
        "    <td>a -= b</td>\n",
        "    <td>Set a to the elements in a that are not in b</td>\n",
        "  </tr>\n",
        "  <tr>\n",
        "    <td>a.symmetric_difference(b)</td>\n",
        "    <td>a ^ b </td>\n",
        "    <td>All of the elements in either a or b but not both</td>\n",
        "  </tr>\n",
        "  <tr>\n",
        "    <td>a.symmetric_difference_update(b)</td>\n",
        "    <td>a ^= b</td>\n",
        "    <td>Set a to contain the elements in either a or b but not both</td>\n",
        "  </tr>\n",
        "  <tr>\n",
        "    <td>a.issubset(b) </td>\n",
        "    <td><=</td>\n",
        "    <td>True if the elements of a are all contained in b</td>\n",
        "  </tr>\n",
        "  <tr>\n",
        "    <td>a.issuperset(b)</td>\n",
        "    <td>>=</td>\n",
        "    <td>True if the elements of b are all contained in a</td>\n",
        "  </tr>\n",
        "  <tr>\n",
        "    <td>a.isdisjoint(b)</td>\n",
        "    <td>N/A</td>\n",
        "    <td>True if a and b have no elements in common</td>\n",
        "  </tr>\n",
        "</table>"
      ],
      "metadata": {
        "id": "Ubwb6j1ez-VP"
      }
    },
    {
      "cell_type": "code",
      "source": [
        "a"
      ],
      "metadata": {
        "colab": {
          "base_uri": "https://localhost:8080/"
        },
        "id": "UKqz7KJy1lL9",
        "outputId": "ef6311b5-f036-4f86-c123-c46d040b3515"
      },
      "execution_count": 129,
      "outputs": [
        {
          "output_type": "execute_result",
          "data": {
            "text/plain": [
              "{1, 2, 3, 4, 5}"
            ]
          },
          "metadata": {},
          "execution_count": 129
        }
      ]
    },
    {
      "cell_type": "code",
      "source": [
        "b"
      ],
      "metadata": {
        "colab": {
          "base_uri": "https://localhost:8080/"
        },
        "id": "QhOSM11c1rN1",
        "outputId": "062aef64-5ccf-48da-f854-60854cb506fd"
      },
      "execution_count": 131,
      "outputs": [
        {
          "output_type": "execute_result",
          "data": {
            "text/plain": [
              "{3, 4, 5, 6, 7, 8}"
            ]
          },
          "metadata": {},
          "execution_count": 131
        }
      ]
    },
    {
      "cell_type": "code",
      "source": [
        "c = a.copy()\n",
        "\n",
        "c |= b\n",
        "c"
      ],
      "metadata": {
        "colab": {
          "base_uri": "https://localhost:8080/"
        },
        "id": "yiLyst4h1fLt",
        "outputId": "3d1acda8-1042-4f7b-93b4-3b2848be2b6f"
      },
      "execution_count": 132,
      "outputs": [
        {
          "output_type": "execute_result",
          "data": {
            "text/plain": [
              "{1, 2, 3, 4, 5, 6, 7, 8}"
            ]
          },
          "metadata": {},
          "execution_count": 132
        }
      ]
    },
    {
      "cell_type": "code",
      "source": [
        "d = a.copy()\n",
        "\n",
        "d &=b\n",
        "d"
      ],
      "metadata": {
        "colab": {
          "base_uri": "https://localhost:8080/"
        },
        "id": "QoVbCHFU1zvL",
        "outputId": "c57139eb-e2b5-446f-cdf3-704203ff0b03"
      },
      "execution_count": 133,
      "outputs": [
        {
          "output_type": "execute_result",
          "data": {
            "text/plain": [
              "{3, 4, 5}"
            ]
          },
          "metadata": {},
          "execution_count": 133
        }
      ]
    },
    {
      "cell_type": "code",
      "source": [
        "my_data = [1, 2, 3, 4]\n",
        "\n",
        "my_set = {tuple(my_data)}\n",
        "my_set"
      ],
      "metadata": {
        "colab": {
          "base_uri": "https://localhost:8080/"
        },
        "id": "P7UZHhgY18OH",
        "outputId": "5c7a1639-9627-44fd-912a-5a824413b094"
      },
      "execution_count": 134,
      "outputs": [
        {
          "output_type": "execute_result",
          "data": {
            "text/plain": [
              "{(1, 2, 3, 4)}"
            ]
          },
          "metadata": {},
          "execution_count": 134
        }
      ]
    },
    {
      "cell_type": "code",
      "source": [
        "a_set = {1, 2, 3, 4, 5}\n",
        "\n",
        "{1, 2, 3}.issubset(a_set)"
      ],
      "metadata": {
        "colab": {
          "base_uri": "https://localhost:8080/"
        },
        "id": "TGjEfUGC2GXW",
        "outputId": "ab1b1092-3158-4187-ef3f-7c918a70be49"
      },
      "execution_count": 135,
      "outputs": [
        {
          "output_type": "execute_result",
          "data": {
            "text/plain": [
              "True"
            ]
          },
          "metadata": {},
          "execution_count": 135
        }
      ]
    },
    {
      "cell_type": "code",
      "source": [
        "a_set.issuperset({1, 2, 3})"
      ],
      "metadata": {
        "colab": {
          "base_uri": "https://localhost:8080/"
        },
        "id": "4JKQJAis2PiN",
        "outputId": "3d8ff817-522f-4ac1-a548-082d2c30fd91"
      },
      "execution_count": 136,
      "outputs": [
        {
          "output_type": "execute_result",
          "data": {
            "text/plain": [
              "True"
            ]
          },
          "metadata": {},
          "execution_count": 136
        }
      ]
    },
    {
      "cell_type": "code",
      "source": [
        "{1, 2, 3} == {3, 2, 1}"
      ],
      "metadata": {
        "colab": {
          "base_uri": "https://localhost:8080/"
        },
        "id": "yHshIHR-2cyy",
        "outputId": "7a585dfb-ef8d-4c6a-dcbf-3f4696be47fd"
      },
      "execution_count": 137,
      "outputs": [
        {
          "output_type": "execute_result",
          "data": {
            "text/plain": [
              "True"
            ]
          },
          "metadata": {},
          "execution_count": 137
        }
      ]
    },
    {
      "cell_type": "markdown",
      "source": [
        "### **Built-In Sequence Functions**"
      ],
      "metadata": {
        "id": "2uvSY5zm2gbr"
      }
    },
    {
      "cell_type": "markdown",
      "source": [
        "**enumerate**"
      ],
      "metadata": {
        "id": "bT1c5WTP2ptU"
      }
    },
    {
      "cell_type": "markdown",
      "source": [
        "`enumerate` returns a sequence of `(i, value)` tuple:"
      ],
      "metadata": {
        "id": "NT4fFm3O3Zsc"
      }
    },
    {
      "cell_type": "code",
      "source": [
        "collection = ['apple', 'banana', 'cherry']\n",
        "index = 0\n",
        "\n",
        "for value in collection:\n",
        "  print(index, value)\n",
        "  index += 1"
      ],
      "metadata": {
        "colab": {
          "base_uri": "https://localhost:8080/"
        },
        "id": "iRfshB8r2rzT",
        "outputId": "e69e979d-cd5d-460f-81a7-2665869a0137"
      },
      "execution_count": 140,
      "outputs": [
        {
          "output_type": "stream",
          "name": "stdout",
          "text": [
            "0 apple\n",
            "1 banana\n",
            "2 cherry\n"
          ]
        }
      ]
    },
    {
      "cell_type": "code",
      "source": [
        "for index, value in enumerate(collection):\n",
        "  print(index, value)"
      ],
      "metadata": {
        "colab": {
          "base_uri": "https://localhost:8080/"
        },
        "id": "8lc9fbvq2_SE",
        "outputId": "e338f6d0-e7e8-4a6c-b643-73eb1e74a10c"
      },
      "execution_count": 141,
      "outputs": [
        {
          "output_type": "stream",
          "name": "stdout",
          "text": [
            "0 apple\n",
            "1 banana\n",
            "2 cherry\n"
          ]
        }
      ]
    },
    {
      "cell_type": "markdown",
      "source": [
        "**sorted**"
      ],
      "metadata": {
        "id": "FiYlVX3Z3VVF"
      }
    },
    {
      "cell_type": "markdown",
      "source": [
        "`sorted` function returns a new sorted list from the elements of any sequence:"
      ],
      "metadata": {
        "id": "hteg7ZQu3jfD"
      }
    },
    {
      "cell_type": "code",
      "source": [
        "sorted([7, 1, 2, 6, 0, 3, 2])"
      ],
      "metadata": {
        "colab": {
          "base_uri": "https://localhost:8080/"
        },
        "id": "vshlAtXP3XR8",
        "outputId": "3ff385cd-e0d7-4a2a-9776-073d433f0014"
      },
      "execution_count": 142,
      "outputs": [
        {
          "output_type": "execute_result",
          "data": {
            "text/plain": [
              "[0, 1, 2, 2, 3, 6, 7]"
            ]
          },
          "metadata": {},
          "execution_count": 142
        }
      ]
    },
    {
      "cell_type": "code",
      "source": [
        "sorted(\"horse race\")"
      ],
      "metadata": {
        "colab": {
          "base_uri": "https://localhost:8080/"
        },
        "id": "G-rR_YRc3y00",
        "outputId": "57c8535f-3001-4e9d-9ef5-ec28f50c1aeb"
      },
      "execution_count": 143,
      "outputs": [
        {
          "output_type": "execute_result",
          "data": {
            "text/plain": [
              "[' ', 'a', 'c', 'e', 'e', 'h', 'o', 'r', 'r', 's']"
            ]
          },
          "metadata": {},
          "execution_count": 143
        }
      ]
    },
    {
      "cell_type": "markdown",
      "source": [
        "**zip**"
      ],
      "metadata": {
        "id": "xAFWHcIY301j"
      }
    },
    {
      "cell_type": "markdown",
      "source": [
        "`zip` \"pairs\" up the elements of a number of lists, tuples, or other sequences to create a list of tuples:"
      ],
      "metadata": {
        "id": "aT4odTvn32Lr"
      }
    },
    {
      "cell_type": "code",
      "source": [
        "seq1 = [\"foo\", \"bar\", \"baz\"]\n",
        "seq2 = [\"one\", \"two\", \"three\"]\n",
        "\n",
        "zipped = zip(seq1, seq2)\n",
        "list(zipped)"
      ],
      "metadata": {
        "colab": {
          "base_uri": "https://localhost:8080/"
        },
        "id": "LkDBGWZq3-Vj",
        "outputId": "cafcc74f-40c4-4cd1-c37b-0a903df43436"
      },
      "execution_count": 144,
      "outputs": [
        {
          "output_type": "execute_result",
          "data": {
            "text/plain": [
              "[('foo', 'one'), ('bar', 'two'), ('baz', 'three')]"
            ]
          },
          "metadata": {},
          "execution_count": 144
        }
      ]
    },
    {
      "cell_type": "code",
      "source": [
        "seq3 = [False, True]\n",
        "\n",
        "list(zip(seq1, seq2, seq3))"
      ],
      "metadata": {
        "colab": {
          "base_uri": "https://localhost:8080/"
        },
        "id": "oLQ30wul4Lfi",
        "outputId": "100b8257-c728-487d-ffa1-f6198f9278db"
      },
      "execution_count": 145,
      "outputs": [
        {
          "output_type": "execute_result",
          "data": {
            "text/plain": [
              "[('foo', 'one', False), ('bar', 'two', True)]"
            ]
          },
          "metadata": {},
          "execution_count": 145
        }
      ]
    },
    {
      "cell_type": "code",
      "source": [
        "for index, (a, b) in enumerate(zip(seq1, seq2)):\n",
        "  print(f\"{index}: {a}, {b}\")"
      ],
      "metadata": {
        "colab": {
          "base_uri": "https://localhost:8080/"
        },
        "id": "E7nRaLzb4VcS",
        "outputId": "84dee11a-2c41-4ee2-cea8-ab246e582e7c"
      },
      "execution_count": 146,
      "outputs": [
        {
          "output_type": "stream",
          "name": "stdout",
          "text": [
            "0: foo, one\n",
            "1: bar, two\n",
            "2: baz, three\n"
          ]
        }
      ]
    },
    {
      "cell_type": "markdown",
      "source": [
        "**reversed**"
      ],
      "metadata": {
        "id": "vLZrl-IS4d_F"
      }
    },
    {
      "cell_type": "markdown",
      "source": [
        "`reversed` iterates over the elements of a sequence in revese order:"
      ],
      "metadata": {
        "id": "CIHTkGAQ4fdL"
      }
    },
    {
      "cell_type": "code",
      "source": [
        "list(reversed(range(10)))"
      ],
      "metadata": {
        "colab": {
          "base_uri": "https://localhost:8080/"
        },
        "id": "hFPInbbg4l8b",
        "outputId": "c71a0d0a-e249-4c3d-fb50-f4eb1986f275"
      },
      "execution_count": 147,
      "outputs": [
        {
          "output_type": "execute_result",
          "data": {
            "text/plain": [
              "[9, 8, 7, 6, 5, 4, 3, 2, 1, 0]"
            ]
          },
          "metadata": {},
          "execution_count": 147
        }
      ]
    },
    {
      "cell_type": "markdown",
      "source": [
        "### **List, Set, and Dictionary Comprehensions**"
      ],
      "metadata": {
        "id": "BHTghZai4rpM"
      }
    },
    {
      "cell_type": "markdown",
      "source": [
        "List comprehensions are a convenient and widely used Python language feature. They allow you to concisely form a new list by filtering the elements of a collection, transforming the elements passing the filter into one concise expression. They take thie basic form:\n",
        "\n",
        "    [expr for value in collection if condition]\n",
        "\n",
        "This is equivalent to the following `for` loop:\n",
        "\n",
        "\n",
        "    result = []\n",
        "    for value in collection:\n",
        "      if condition:\n",
        "        result.append(expr)"
      ],
      "metadata": {
        "id": "Mj16raXa46Kz"
      }
    },
    {
      "cell_type": "code",
      "source": [
        "strings = [\"a\", \"as\", \"bat\", \"car\", \"dove\", \"python\"]\n",
        "\n",
        "[x.upper() for x in strings if len(x) > 2]"
      ],
      "metadata": {
        "colab": {
          "base_uri": "https://localhost:8080/"
        },
        "id": "gGQGKAcy5dhL",
        "outputId": "58d4cd64-2a2f-4bd6-fea5-d1dc043068fd"
      },
      "execution_count": 149,
      "outputs": [
        {
          "output_type": "execute_result",
          "data": {
            "text/plain": [
              "['BAT', 'CAR', 'DOVE', 'PYTHON']"
            ]
          },
          "metadata": {},
          "execution_count": 149
        }
      ]
    },
    {
      "cell_type": "markdown",
      "source": [
        "A dictionary comprehension looks like this:\n",
        "\n",
        "    dict_comp = {key-expr: value-expr for value in collection if condition}\n",
        "\n",
        "\n",
        "A set comprehension looks like the equivalent list comprehension except with curly braces instead of square brackets:\n",
        "\n",
        "    set_comp = {expr for value in collection if condition}"
      ],
      "metadata": {
        "id": "j-5Eccm35qIa"
      }
    },
    {
      "cell_type": "code",
      "source": [
        "unique_lengths = {len(x) for x in strings}\n",
        "\n",
        "unique_lengths"
      ],
      "metadata": {
        "colab": {
          "base_uri": "https://localhost:8080/"
        },
        "id": "joONPbyM6Eqd",
        "outputId": "e8b555cf-63c0-4a19-844e-b21fb94a2a47"
      },
      "execution_count": 150,
      "outputs": [
        {
          "output_type": "execute_result",
          "data": {
            "text/plain": [
              "{1, 2, 3, 4, 6}"
            ]
          },
          "metadata": {},
          "execution_count": 150
        }
      ]
    },
    {
      "cell_type": "code",
      "source": [
        "set(map(len, strings))"
      ],
      "metadata": {
        "colab": {
          "base_uri": "https://localhost:8080/"
        },
        "id": "2CxyEBfv6M4b",
        "outputId": "a329b938-c439-4f3e-826b-b3aa0fa0c3a3"
      },
      "execution_count": 154,
      "outputs": [
        {
          "output_type": "execute_result",
          "data": {
            "text/plain": [
              "{1, 2, 3, 4, 6}"
            ]
          },
          "metadata": {},
          "execution_count": 154
        }
      ]
    },
    {
      "cell_type": "code",
      "source": [
        "loc_mapping = {value: index for index, value in enumerate(strings)}\n",
        "\n",
        "loc_mapping"
      ],
      "metadata": {
        "colab": {
          "base_uri": "https://localhost:8080/"
        },
        "id": "s7VSzaaj6YnE",
        "outputId": "35aab653-a4d3-4a3c-ce98-61a062f8cbaa"
      },
      "execution_count": 155,
      "outputs": [
        {
          "output_type": "execute_result",
          "data": {
            "text/plain": [
              "{'a': 0, 'as': 1, 'bat': 2, 'car': 3, 'dove': 4, 'python': 5}"
            ]
          },
          "metadata": {},
          "execution_count": 155
        }
      ]
    },
    {
      "cell_type": "markdown",
      "source": [
        "**Nested list comprehensions**"
      ],
      "metadata": {
        "id": "cklEvsc66mDj"
      }
    },
    {
      "cell_type": "code",
      "source": [
        "all_data = [[\"John\", \"Emily\", \"Michael\", \"Mary\", \"Steven\"],\n",
        "            [\"Maria\", \"Juan\", \"Javier\", \"Natalia\", \"Pilar\"]]"
      ],
      "metadata": {
        "id": "dky9AYHZ6hXq"
      },
      "execution_count": 156,
      "outputs": []
    },
    {
      "cell_type": "code",
      "source": [
        "names_of_interest = []\n",
        "\n",
        "for names in all_data:\n",
        "  enough_as = [name for name in names if name.count(\"a\") >= 2]  # name spelled with the letter \"a\" at least 2\n",
        "  names_of_interest.extend(enough_as)\n",
        "\n",
        "names_of_interest"
      ],
      "metadata": {
        "colab": {
          "base_uri": "https://localhost:8080/"
        },
        "id": "KkXIguRv6xq1",
        "outputId": "8a94db15-1aeb-4d17-c9e8-af0c915fff45"
      },
      "execution_count": 157,
      "outputs": [
        {
          "output_type": "execute_result",
          "data": {
            "text/plain": [
              "['Maria', 'Natalia']"
            ]
          },
          "metadata": {},
          "execution_count": 157
        }
      ]
    },
    {
      "cell_type": "code",
      "source": [
        "some_tuples = [(1, 2, 3), (4, 5, 6), (7, 8, 9)]\n",
        "\n",
        "flattened = [x for tup in some_tuples for x in tup]\n",
        "flattened"
      ],
      "metadata": {
        "colab": {
          "base_uri": "https://localhost:8080/"
        },
        "id": "Ovxs_gBn7elD",
        "outputId": "27d76645-5e91-4c9c-bae7-f80763e03e7c"
      },
      "execution_count": 158,
      "outputs": [
        {
          "output_type": "execute_result",
          "data": {
            "text/plain": [
              "[1, 2, 3, 4, 5, 6, 7, 8, 9]"
            ]
          },
          "metadata": {},
          "execution_count": 158
        }
      ]
    },
    {
      "cell_type": "code",
      "source": [
        "flattened = []\n",
        "\n",
        "for tup in some_tuples:\n",
        "  for x in tup:\n",
        "    flattened.append(x)\n",
        "\n",
        "flattened "
      ],
      "metadata": {
        "colab": {
          "base_uri": "https://localhost:8080/"
        },
        "id": "14cc6vfn70zs",
        "outputId": "55283b51-f4b3-4e28-8a5a-64d467af649e"
      },
      "execution_count": 159,
      "outputs": [
        {
          "output_type": "execute_result",
          "data": {
            "text/plain": [
              "[1, 2, 3, 4, 5, 6, 7, 8, 9]"
            ]
          },
          "metadata": {},
          "execution_count": 159
        }
      ]
    },
    {
      "cell_type": "code",
      "source": [
        "[[x for x in tup] for tup in some_tuples]"
      ],
      "metadata": {
        "colab": {
          "base_uri": "https://localhost:8080/"
        },
        "id": "ELySqd9q8BrK",
        "outputId": "a6f0389f-e8ec-4cf9-feaa-964ba02b377d"
      },
      "execution_count": 160,
      "outputs": [
        {
          "output_type": "execute_result",
          "data": {
            "text/plain": [
              "[[1, 2, 3], [4, 5, 6], [7, 8, 9]]"
            ]
          },
          "metadata": {},
          "execution_count": 160
        }
      ]
    },
    {
      "cell_type": "markdown",
      "source": [
        "## **3.2 Functions**"
      ],
      "metadata": {
        "id": "VUpv4GtF8M49"
      }
    },
    {
      "cell_type": "markdown",
      "source": [
        "Functions are the primary and most important method of code organization and reuse in Python. As a fule of thumb, if you anticipate needing to repeat the same or very similar code more than once, it may be worth writing a reusable function. Functions can also help make you code more readable by giving a name to a group of Python statements.\n",
        "\n",
        "Functions are declared with `def` keyword. A function contains a block of code with an optional use of the `return` keyword"
      ],
      "metadata": {
        "id": "XWU8ZZya8TY4"
      }
    },
    {
      "cell_type": "code",
      "source": [
        "def my_function(x, y):\n",
        "  return x + y"
      ],
      "metadata": {
        "id": "TiTcnEBI8swj"
      },
      "execution_count": 161,
      "outputs": []
    },
    {
      "cell_type": "code",
      "source": [
        "my_function(1, 2)"
      ],
      "metadata": {
        "colab": {
          "base_uri": "https://localhost:8080/"
        },
        "id": "hHjbk_6J8wVj",
        "outputId": "5130371d-6981-47df-eef0-af2e4c4b870a"
      },
      "execution_count": 162,
      "outputs": [
        {
          "output_type": "execute_result",
          "data": {
            "text/plain": [
              "3"
            ]
          },
          "metadata": {},
          "execution_count": 162
        }
      ]
    },
    {
      "cell_type": "code",
      "source": [
        "result = my_function(1, 2)\n",
        "result"
      ],
      "metadata": {
        "colab": {
          "base_uri": "https://localhost:8080/"
        },
        "id": "OfsPKTOe9CE6",
        "outputId": "55900f10-8f1e-4db4-bdf9-7e1363770482"
      },
      "execution_count": 163,
      "outputs": [
        {
          "output_type": "execute_result",
          "data": {
            "text/plain": [
              "3"
            ]
          },
          "metadata": {},
          "execution_count": 163
        }
      ]
    },
    {
      "cell_type": "code",
      "source": [
        "def function_without_return(x):\n",
        "  print(x)"
      ],
      "metadata": {
        "id": "lv8VUOZm9GLS"
      },
      "execution_count": 164,
      "outputs": []
    },
    {
      "cell_type": "code",
      "source": [
        "result = function_without_return(\"hello!\")"
      ],
      "metadata": {
        "colab": {
          "base_uri": "https://localhost:8080/"
        },
        "id": "exiqxsAJ9Klk",
        "outputId": "14aa7cce-766c-4459-cc0e-edc9c5a19c5f"
      },
      "execution_count": 165,
      "outputs": [
        {
          "output_type": "stream",
          "name": "stdout",
          "text": [
            "hello!\n"
          ]
        }
      ]
    },
    {
      "cell_type": "code",
      "source": [
        "print(result)"
      ],
      "metadata": {
        "colab": {
          "base_uri": "https://localhost:8080/"
        },
        "id": "BmWZyIaQ9QqT",
        "outputId": "3bde7653-375f-4d9e-e1b5-22a0d23429ca"
      },
      "execution_count": 166,
      "outputs": [
        {
          "output_type": "stream",
          "name": "stdout",
          "text": [
            "None\n"
          ]
        }
      ]
    },
    {
      "cell_type": "code",
      "source": [
        "def my_function2(x, y, z=1.5):\n",
        "  if z > 1:\n",
        "    return z * (x + y)\n",
        "  else:\n",
        "    return z / (x + y)"
      ],
      "metadata": {
        "id": "oblpOG5k9Z61"
      },
      "execution_count": 167,
      "outputs": []
    },
    {
      "cell_type": "code",
      "source": [
        "my_function2(5, 6, z=0.7)"
      ],
      "metadata": {
        "colab": {
          "base_uri": "https://localhost:8080/"
        },
        "id": "c-jdUrZA9kFj",
        "outputId": "1a672ef4-09d1-4ffb-9118-48c4abc57f5e"
      },
      "execution_count": 168,
      "outputs": [
        {
          "output_type": "execute_result",
          "data": {
            "text/plain": [
              "0.06363636363636363"
            ]
          },
          "metadata": {},
          "execution_count": 168
        }
      ]
    },
    {
      "cell_type": "code",
      "source": [
        "my_function2(3.14, 7, 3.5)"
      ],
      "metadata": {
        "colab": {
          "base_uri": "https://localhost:8080/"
        },
        "id": "mcOtWDmy9qmT",
        "outputId": "cb9862f4-1b56-490c-a146-c79fcc431160"
      },
      "execution_count": 169,
      "outputs": [
        {
          "output_type": "execute_result",
          "data": {
            "text/plain": [
              "35.49"
            ]
          },
          "metadata": {},
          "execution_count": 169
        }
      ]
    },
    {
      "cell_type": "code",
      "source": [
        "my_function2(10, 20)"
      ],
      "metadata": {
        "colab": {
          "base_uri": "https://localhost:8080/"
        },
        "id": "hMMAkWE59xfK",
        "outputId": "eb9c3fad-2202-4fe3-abf9-6c3dd7be2f48"
      },
      "execution_count": 170,
      "outputs": [
        {
          "output_type": "execute_result",
          "data": {
            "text/plain": [
              "45.0"
            ]
          },
          "metadata": {},
          "execution_count": 170
        }
      ]
    },
    {
      "cell_type": "markdown",
      "source": [
        "**Namespaces, Scope, and Local Functions**"
      ],
      "metadata": {
        "id": "i0VI_zWI90nz"
      }
    },
    {
      "cell_type": "markdown",
      "source": [
        "Functions can access variables created inside the function as well as those outside the function in higher (or even global) scopes. An alternative and more descriptive name describing a variable scope in Python is a namespace. Any variables that are assigned within a function by default are assigned to the local namespace. The local namespace is created when the function is called an is immediately populated by the function's arguments. After the function is finished, the local namespace is destroyed."
      ],
      "metadata": {
        "id": "cY3FZ0O2-G1s"
      }
    },
    {
      "cell_type": "code",
      "source": [
        "def func():\n",
        "  a = []                     # local variable\n",
        "  for i in range(5):\n",
        "    a.append(i)"
      ],
      "metadata": {
        "id": "XoymzbsM-vhC"
      },
      "execution_count": 191,
      "outputs": []
    },
    {
      "cell_type": "code",
      "source": [
        "func()\n",
        "try: \n",
        "  a\n",
        "except:\n",
        "  print(\"error\")"
      ],
      "metadata": {
        "colab": {
          "base_uri": "https://localhost:8080/"
        },
        "id": "IdfgpTFz_DDC",
        "outputId": "91d1090d-9364-4fd0-e48e-50966fcda389"
      },
      "execution_count": 193,
      "outputs": [
        {
          "output_type": "stream",
          "name": "stdout",
          "text": [
            "error\n"
          ]
        }
      ]
    },
    {
      "cell_type": "code",
      "source": [
        "a = []                       \n",
        "\n",
        "def func():\n",
        "  for i in range(5):\n",
        "    a.append(i)"
      ],
      "metadata": {
        "id": "nWIX3cq7_Mxh"
      },
      "execution_count": 195,
      "outputs": []
    },
    {
      "cell_type": "code",
      "source": [
        "func()\n",
        "a"
      ],
      "metadata": {
        "colab": {
          "base_uri": "https://localhost:8080/"
        },
        "id": "uSFsS97E_J_C",
        "outputId": "0806c30b-519c-4d31-f45e-e21d3e9212dd"
      },
      "execution_count": 196,
      "outputs": [
        {
          "output_type": "execute_result",
          "data": {
            "text/plain": [
              "[0, 1, 2, 3, 4]"
            ]
          },
          "metadata": {},
          "execution_count": 196
        }
      ]
    },
    {
      "cell_type": "code",
      "source": [
        "a = None\n",
        "\n",
        "def bind_a_variable():\n",
        "  global a \n",
        "  a = []\n",
        "\n",
        "bind_a_variable()"
      ],
      "metadata": {
        "id": "Q3AqcgzL_cJL"
      },
      "execution_count": 198,
      "outputs": []
    },
    {
      "cell_type": "code",
      "source": [
        "print(a)"
      ],
      "metadata": {
        "colab": {
          "base_uri": "https://localhost:8080/"
        },
        "id": "BgepsQQ5ATEE",
        "outputId": "26c98731-ea62-4754-c875-043a4c410c04"
      },
      "execution_count": 199,
      "outputs": [
        {
          "output_type": "stream",
          "name": "stdout",
          "text": [
            "[]\n"
          ]
        }
      ]
    },
    {
      "cell_type": "markdown",
      "source": [
        "**Returning Multiple Values**"
      ],
      "metadata": {
        "id": "zlM0SXYKAmwz"
      }
    },
    {
      "cell_type": "code",
      "source": [
        "def f():\n",
        "  a = 5\n",
        "  b = 6\n",
        "  c = 7\n",
        "  return a, b, c\n",
        "\n",
        "a, b, c = f()"
      ],
      "metadata": {
        "id": "d-n3-kU3Auk7"
      },
      "execution_count": 200,
      "outputs": []
    },
    {
      "cell_type": "code",
      "source": [
        "print(a, type(a))\n",
        "print(b, type(b))\n",
        "print(c, type(c))"
      ],
      "metadata": {
        "colab": {
          "base_uri": "https://localhost:8080/"
        },
        "id": "fo6-wAC9A05C",
        "outputId": "5894a055-d43c-45ee-c83c-e7c597a7ad80"
      },
      "execution_count": 201,
      "outputs": [
        {
          "output_type": "stream",
          "name": "stdout",
          "text": [
            "5 <class 'int'>\n",
            "6 <class 'int'>\n",
            "7 <class 'int'>\n"
          ]
        }
      ]
    },
    {
      "cell_type": "code",
      "source": [
        "return_value = f()\n",
        "print(return_value, type(return_value))"
      ],
      "metadata": {
        "colab": {
          "base_uri": "https://localhost:8080/"
        },
        "id": "aNMsdpJgBA5a",
        "outputId": "49b6a619-06f0-4848-e321-8317bd5cd2c2"
      },
      "execution_count": 203,
      "outputs": [
        {
          "output_type": "stream",
          "name": "stdout",
          "text": [
            "(5, 6, 7) <class 'tuple'>\n"
          ]
        }
      ]
    },
    {
      "cell_type": "code",
      "source": [
        "def f():\n",
        "  a = 5\n",
        "  b = 6\n",
        "  c = 7\n",
        "  return {\"a\": a, \"b\": b, \"c\": c}"
      ],
      "metadata": {
        "id": "LPaDf4coBK_C"
      },
      "execution_count": 204,
      "outputs": []
    },
    {
      "cell_type": "code",
      "source": [
        "print(f(), type(f()))"
      ],
      "metadata": {
        "colab": {
          "base_uri": "https://localhost:8080/"
        },
        "id": "hJR776GXBTMc",
        "outputId": "7ce7516b-fe3f-4c53-8c7f-0dcc3730939a"
      },
      "execution_count": 206,
      "outputs": [
        {
          "output_type": "stream",
          "name": "stdout",
          "text": [
            "{'a': 5, 'b': 6, 'c': 7} <class 'dict'>\n"
          ]
        }
      ]
    },
    {
      "cell_type": "markdown",
      "source": [
        "**Functtions Are Objects**"
      ],
      "metadata": {
        "id": "OCPESi-5BY-1"
      }
    },
    {
      "cell_type": "markdown",
      "source": [
        "Since Python functions are objects, many constructs can be easily expressed that are difficult to do in other languages. Suppose we were doing some **data cleaning** and neened to apply a bunch of transformations to the following list of strings: "
      ],
      "metadata": {
        "id": "blR-jKxJBk56"
      }
    },
    {
      "cell_type": "code",
      "source": [
        "states = [\" Alabama \", \"Georgia!\", \"Georgia\", \"georgia\", \"FlOrIda\",\n",
        "          \"south carolina##\", \"West virginia?\"]"
      ],
      "metadata": {
        "id": "73nJr_8IBjGF"
      },
      "execution_count": 209,
      "outputs": []
    },
    {
      "cell_type": "markdown",
      "source": [
        "Anyone who has ever worked with user-submitted survey data has seen messy results like these. Lots of things need to happen to make this list of strings uniform and ready for analysis: stripping whitespace, removing punctuation symbols, and standardizing proper capitalization. One way to do this is to use built-in string methods along with the `re` standard library module for regular expressions:"
      ],
      "metadata": {
        "id": "2uo0a9CoB-dV"
      }
    },
    {
      "cell_type": "code",
      "source": [
        "import re\n",
        " \n",
        "def clean_strings(strings):\n",
        "  result = []\n",
        "  for value in strings:\n",
        "    value = value.strip()                # remove white space\n",
        "    value = re.sub(\"[!#?]\", \"\", value)   # replace [!#?] with \"\"\n",
        "    value = value.title()                # make title\n",
        "    result.append(value)                 # append to a list\n",
        "  return result"
      ],
      "metadata": {
        "id": "uv_nrMavCdh6"
      },
      "execution_count": 216,
      "outputs": []
    },
    {
      "cell_type": "code",
      "source": [
        "clean_strings(states)"
      ],
      "metadata": {
        "colab": {
          "base_uri": "https://localhost:8080/"
        },
        "id": "eiGdzSBFC3Ub",
        "outputId": "0428663c-2ece-407e-ce87-d6d400795335"
      },
      "execution_count": 217,
      "outputs": [
        {
          "output_type": "execute_result",
          "data": {
            "text/plain": [
              "['Alabama',\n",
              " 'Georgia',\n",
              " 'Georgia',\n",
              " 'Georgia',\n",
              " 'Florida',\n",
              " 'South Carolina',\n",
              " 'West Virginia']"
            ]
          },
          "metadata": {},
          "execution_count": 217
        }
      ]
    },
    {
      "cell_type": "code",
      "source": [
        "def remove_punctuation(value):\n",
        "  return re.sub(\"[!#?]\", \"\", value)\n",
        "\n",
        "clean_ops = [str.strip, remove_punctuation, str.title]\n",
        "\n",
        "def clean_strings(strings, ops):\n",
        "  result = []\n",
        "  for value in strings:\n",
        "    for func in ops:\n",
        "      value = func(value)\n",
        "    result.append(value)\n",
        "  return result"
      ],
      "metadata": {
        "id": "k5jghiDSD2OK"
      },
      "execution_count": 220,
      "outputs": []
    },
    {
      "cell_type": "code",
      "source": [
        "clean_strings(states, clean_ops)"
      ],
      "metadata": {
        "colab": {
          "base_uri": "https://localhost:8080/"
        },
        "id": "VVSIIVakEgoK",
        "outputId": "3ed38bd1-c37d-427f-aa81-71fc68aa0fad"
      },
      "execution_count": 222,
      "outputs": [
        {
          "output_type": "execute_result",
          "data": {
            "text/plain": [
              "['Alabama',\n",
              " 'Georgia',\n",
              " 'Georgia',\n",
              " 'Georgia',\n",
              " 'Florida',\n",
              " 'South Carolina',\n",
              " 'West Virginia']"
            ]
          },
          "metadata": {},
          "execution_count": 222
        }
      ]
    },
    {
      "cell_type": "code",
      "source": [
        "for x in map(remove_punctuation, states):\n",
        "  print(x)"
      ],
      "metadata": {
        "colab": {
          "base_uri": "https://localhost:8080/"
        },
        "id": "fewgD_AxDtfA",
        "outputId": "409fe812-d09a-4a15-eb63-ee9578f5e5c4"
      },
      "execution_count": 221,
      "outputs": [
        {
          "output_type": "stream",
          "name": "stdout",
          "text": [
            " Alabama \n",
            "Georgia\n",
            "Georgia\n",
            "georgia\n",
            "FlOrIda\n",
            "south carolina\n",
            "West virginia\n"
          ]
        }
      ]
    },
    {
      "cell_type": "markdown",
      "source": [
        "**Anonymous (Lambda) Functions**"
      ],
      "metadata": {
        "id": "QVMuCHHhEtpn"
      }
    },
    {
      "cell_type": "code",
      "source": [
        "def short_function(x):\n",
        "  return x * 2"
      ],
      "metadata": {
        "id": "UehsTJJBEzyq"
      },
      "execution_count": 223,
      "outputs": []
    },
    {
      "cell_type": "code",
      "source": [
        "equiv_anon = lambda x: x *2"
      ],
      "metadata": {
        "id": "U5AQX7BFE4Ci"
      },
      "execution_count": 224,
      "outputs": []
    },
    {
      "cell_type": "code",
      "source": [
        "def apply_to_list(some_list, f):\n",
        "  return [f(x) for x in some_list]"
      ],
      "metadata": {
        "id": "siE_mIoWE71p"
      },
      "execution_count": 225,
      "outputs": []
    },
    {
      "cell_type": "code",
      "source": [
        "ints = [4, 0, 1, 5, 6]\n",
        "\n",
        "apply_to_list(ints, lambda x: x * 2)"
      ],
      "metadata": {
        "colab": {
          "base_uri": "https://localhost:8080/"
        },
        "id": "t-KqsEfhFCGk",
        "outputId": "ca0b0f8e-9454-4c71-89f5-6280bc242a26"
      },
      "execution_count": 226,
      "outputs": [
        {
          "output_type": "execute_result",
          "data": {
            "text/plain": [
              "[8, 0, 2, 10, 12]"
            ]
          },
          "metadata": {},
          "execution_count": 226
        }
      ]
    },
    {
      "cell_type": "code",
      "source": [
        "strings = [\"foo\", \"card\", \"bar\", \"aaa\", \"abab\"]\n",
        "\n",
        "strings.sort(key=lambda x: len(set(x)))\n",
        "strings"
      ],
      "metadata": {
        "colab": {
          "base_uri": "https://localhost:8080/"
        },
        "id": "esKNN8jMFUU7",
        "outputId": "5f057a94-d1f1-4cd6-a23f-0d869be1bc8c"
      },
      "execution_count": 227,
      "outputs": [
        {
          "output_type": "execute_result",
          "data": {
            "text/plain": [
              "['aaa', 'foo', 'abab', 'bar', 'card']"
            ]
          },
          "metadata": {},
          "execution_count": 227
        }
      ]
    },
    {
      "cell_type": "markdown",
      "source": [
        "**Generators**"
      ],
      "metadata": {
        "id": "y7J-4bbfFhjk"
      }
    },
    {
      "cell_type": "markdown",
      "source": [
        "Many objects in Python support iteration, such as over objects in a list or lines in a file. This is accomplished by means of the iterator protocal, a generic way to **make objects iterable**."
      ],
      "metadata": {
        "id": "Jd3t4iiXGDA6"
      }
    },
    {
      "cell_type": "code",
      "source": [
        "some_dict = {\"a\": 1, \"b\": 2, \"c\": 3}\n",
        "\n",
        "for key in some_dict:\n",
        "  print(key)"
      ],
      "metadata": {
        "colab": {
          "base_uri": "https://localhost:8080/"
        },
        "id": "6NA7frokFy6j",
        "outputId": "a4c08183-8e90-4c7d-e74e-663460ab1239"
      },
      "execution_count": 228,
      "outputs": [
        {
          "output_type": "stream",
          "name": "stdout",
          "text": [
            "a\n",
            "b\n",
            "c\n"
          ]
        }
      ]
    },
    {
      "cell_type": "code",
      "source": [
        "dict_iterator = iter(some_dict)\n",
        "dict_iterator"
      ],
      "metadata": {
        "colab": {
          "base_uri": "https://localhost:8080/"
        },
        "id": "FcqCgCb4F7iL",
        "outputId": "e64a935d-428a-4cec-c54a-c6dbc98a2578"
      },
      "execution_count": 229,
      "outputs": [
        {
          "output_type": "execute_result",
          "data": {
            "text/plain": [
              "<dict_keyiterator at 0x7f82d746ecc0>"
            ]
          },
          "metadata": {},
          "execution_count": 229
        }
      ]
    },
    {
      "cell_type": "code",
      "source": [
        "list(dict_iterator)"
      ],
      "metadata": {
        "colab": {
          "base_uri": "https://localhost:8080/"
        },
        "id": "I53Vir7fGTW6",
        "outputId": "5ce11836-8545-4c87-da10-b80e999ca804"
      },
      "execution_count": 230,
      "outputs": [
        {
          "output_type": "execute_result",
          "data": {
            "text/plain": [
              "['a', 'b', 'c']"
            ]
          },
          "metadata": {},
          "execution_count": 230
        }
      ]
    },
    {
      "cell_type": "code",
      "source": [
        "def squares(n=10):\n",
        "  print(f\"Generating squres from 1 to {n ** 2}\")\n",
        "  for i in range(1, n + 1):\n",
        "    yield i ** 2"
      ],
      "metadata": {
        "id": "3ffS5-_oGWek"
      },
      "execution_count": 231,
      "outputs": []
    },
    {
      "cell_type": "code",
      "source": [
        "gen = squares()\n",
        "gen"
      ],
      "metadata": {
        "colab": {
          "base_uri": "https://localhost:8080/"
        },
        "id": "vyePR-QfGhlL",
        "outputId": "aef12a3a-2db3-44d4-e93c-8fe2d4a55bfa"
      },
      "execution_count": 233,
      "outputs": [
        {
          "output_type": "execute_result",
          "data": {
            "text/plain": [
              "<generator object squares at 0x7f82d7474eb0>"
            ]
          },
          "metadata": {},
          "execution_count": 233
        }
      ]
    },
    {
      "cell_type": "code",
      "source": [
        "for x in gen:\n",
        "  print(x, end=\" \")"
      ],
      "metadata": {
        "colab": {
          "base_uri": "https://localhost:8080/"
        },
        "id": "CLubbPRfGl-q",
        "outputId": "4cd654b7-f168-4666-cab3-05315d89b8b2"
      },
      "execution_count": 234,
      "outputs": [
        {
          "output_type": "stream",
          "name": "stdout",
          "text": [
            "Generating squres from 1 to 100\n",
            "1 4 9 16 25 36 49 64 81 100 "
          ]
        }
      ]
    },
    {
      "cell_type": "markdown",
      "source": [
        "**Generator expressions**"
      ],
      "metadata": {
        "id": "TE0WII0NGs_2"
      }
    },
    {
      "cell_type": "code",
      "source": [
        "gen = (x ** 2 for x in range(100))\n",
        "gen"
      ],
      "metadata": {
        "id": "JRahxw6oGxDj",
        "colab": {
          "base_uri": "https://localhost:8080/"
        },
        "outputId": "a08bc515-8d45-4e44-f972-fdc559256847"
      },
      "execution_count": 235,
      "outputs": [
        {
          "output_type": "execute_result",
          "data": {
            "text/plain": [
              "<generator object <genexpr> at 0x7f82d7491040>"
            ]
          },
          "metadata": {},
          "execution_count": 235
        }
      ]
    },
    {
      "cell_type": "code",
      "source": [
        "def _make_gen():\n",
        "  for x in range(100):\n",
        "    yield x ** 2\n",
        "\n",
        "gen = _make_gen()"
      ],
      "metadata": {
        "id": "6gwjEfJLG2ba"
      },
      "execution_count": 236,
      "outputs": []
    },
    {
      "cell_type": "code",
      "source": [
        "sum(x ** 2 for x in range(100))"
      ],
      "metadata": {
        "colab": {
          "base_uri": "https://localhost:8080/"
        },
        "id": "7xcpk_oNG_4k",
        "outputId": "166d7176-5928-46c1-d65a-557cd016023c"
      },
      "execution_count": 237,
      "outputs": [
        {
          "output_type": "execute_result",
          "data": {
            "text/plain": [
              "328350"
            ]
          },
          "metadata": {},
          "execution_count": 237
        }
      ]
    },
    {
      "cell_type": "code",
      "source": [
        "dict((i, i ** 2) for i in range(5))"
      ],
      "metadata": {
        "colab": {
          "base_uri": "https://localhost:8080/"
        },
        "id": "NU6CRcn1HC76",
        "outputId": "45100db1-4f49-44dc-c04f-10d475a1ae88"
      },
      "execution_count": 238,
      "outputs": [
        {
          "output_type": "execute_result",
          "data": {
            "text/plain": [
              "{0: 0, 1: 1, 2: 4, 3: 9, 4: 16}"
            ]
          },
          "metadata": {},
          "execution_count": 238
        }
      ]
    },
    {
      "cell_type": "markdown",
      "source": [
        "**itertools module**"
      ],
      "metadata": {
        "id": "WSW7LVkWHNAj"
      }
    },
    {
      "cell_type": "markdown",
      "source": [
        "The standard library `itertools` module has a collection of generators for many common data algorithms. For example, `groupby` takes any sequence and a function, grouping consecutive elements in the sequence by return value of the function."
      ],
      "metadata": {
        "id": "GLxOrvuYHQMz"
      }
    },
    {
      "cell_type": "code",
      "source": [
        "import itertools \n",
        "\n",
        "def first_letter(x):\n",
        "  return x[0]\n",
        "\n",
        "names = [\"Alan\", \"Adam\", \"Wes\", \"Will\", \"Albert\", \"Steven\"]\n",
        "\n",
        "for letter, names in itertools.groupby(names, first_letter):\n",
        "  print(letter, list(names))"
      ],
      "metadata": {
        "colab": {
          "base_uri": "https://localhost:8080/"
        },
        "id": "MHuv9FIFHmqz",
        "outputId": "64df51ae-237a-49f3-e36e-421c77323de9"
      },
      "execution_count": 239,
      "outputs": [
        {
          "output_type": "stream",
          "name": "stdout",
          "text": [
            "A ['Alan', 'Adam']\n",
            "W ['Wes', 'Will']\n",
            "A ['Albert']\n",
            "S ['Steven']\n"
          ]
        }
      ]
    },
    {
      "cell_type": "markdown",
      "source": [
        "<table>\n",
        "  <tr>\n",
        "    <th colspan=\"2\"><h4><b>Some useful itertools functions</b></h4></th>\n",
        "  </tr>\n",
        "  <tr>\n",
        "    <th>Function</th>\n",
        "    <th>Description</th>\n",
        "  </tr>\n",
        "  <tr>\n",
        "    <td>chain(*iterables) </td>\n",
        "    <td>Generates a sequence by chaining iterators together. Once elements from<br /> the first iterator are exhausted, elements from the next iterator are returned,<br />and so on.</td>\n",
        "  </tr>\n",
        "  <tr>\n",
        "    <td>combinations(iterable, k)</td>\n",
        "    <td>Generates a sequence of all possible k-tuples of elements in the iterable,<br /> ignoring order and without replacement (see also thecompanion function<br />combinations_with_replacement).</td>\n",
        "  </tr>\n",
        "  <tr>\n",
        "    <td>permutations(iterable, k)</td>\n",
        "    <td>Generates a sequence of all possible k-tuples of elements in the iterable,<br />respecting order.</td>\n",
        "  </tr>\n",
        "  <tr>\n",
        "    <td>groupby(iterable[, keyfunc]) </td>\n",
        "    <td>Generates (key, sub-iterator) for each unique key.</td>\n",
        "  </tr>\n",
        "  <tr>\n",
        "    <td>product(*iterables, repeat=1)</td>\n",
        "    <td>Generates the Cartesian product of the input iterables as tuples, similar to<br />a nested for loop.</td>\n",
        "  </tr>\n",
        "</table>"
      ],
      "metadata": {
        "id": "VUzPmmAGITFz"
      }
    },
    {
      "cell_type": "markdown",
      "source": [
        "**Errors and Exception Handling**"
      ],
      "metadata": {
        "id": "KaWN5nw6JgJd"
      }
    },
    {
      "cell_type": "markdown",
      "source": [
        "Handling Python errors or exceptions gracefully is an important part of building robust programs. In data analysis applications, many functions work only on certain kinds of input"
      ],
      "metadata": {
        "id": "02Fpj-8gTkES"
      }
    },
    {
      "cell_type": "code",
      "source": [
        "float(\"1.2345\")"
      ],
      "metadata": {
        "colab": {
          "base_uri": "https://localhost:8080/"
        },
        "id": "u-KC6AxdTf-A",
        "outputId": "0d6fb388-bf3c-4f76-a1df-3d8a9991d1d9"
      },
      "execution_count": 240,
      "outputs": [
        {
          "output_type": "execute_result",
          "data": {
            "text/plain": [
              "1.2345"
            ]
          },
          "metadata": {},
          "execution_count": 240
        }
      ]
    },
    {
      "cell_type": "code",
      "source": [
        "# float(\"something\")"
      ],
      "metadata": {
        "id": "GB62mf1tTq36"
      },
      "execution_count": 305,
      "outputs": []
    },
    {
      "cell_type": "code",
      "source": [
        "def attempt_float(x):\n",
        "  try:\n",
        "    return float(x)\n",
        "  except:\n",
        "    return x"
      ],
      "metadata": {
        "id": "RvD5MojETwx5"
      },
      "execution_count": 242,
      "outputs": []
    },
    {
      "cell_type": "code",
      "source": [
        "attempt_float(\"1.2345\")"
      ],
      "metadata": {
        "colab": {
          "base_uri": "https://localhost:8080/"
        },
        "id": "T73ZwwL7T3C-",
        "outputId": "e21835e1-2dc7-4531-cf8b-bdb6b40c7eb0"
      },
      "execution_count": 243,
      "outputs": [
        {
          "output_type": "execute_result",
          "data": {
            "text/plain": [
              "1.2345"
            ]
          },
          "metadata": {},
          "execution_count": 243
        }
      ]
    },
    {
      "cell_type": "code",
      "source": [
        "attempt_float(\"something\")"
      ],
      "metadata": {
        "colab": {
          "base_uri": "https://localhost:8080/",
          "height": 35
        },
        "id": "9QvegsWvT6Vl",
        "outputId": "c3c610a2-f855-4095-a0bb-096bb652355d"
      },
      "execution_count": 244,
      "outputs": [
        {
          "output_type": "execute_result",
          "data": {
            "text/plain": [
              "'something'"
            ],
            "application/vnd.google.colaboratory.intrinsic+json": {
              "type": "string"
            }
          },
          "metadata": {},
          "execution_count": 244
        }
      ]
    },
    {
      "cell_type": "code",
      "source": [
        "# float((1, 2))"
      ],
      "metadata": {
        "id": "9duz3HkDdybR"
      },
      "execution_count": 306,
      "outputs": []
    },
    {
      "cell_type": "code",
      "source": [
        "def attempt_float(x):\n",
        "  try:\n",
        "    return float(x)\n",
        "  except ValueError:\n",
        "    return x"
      ],
      "metadata": {
        "id": "lWzs2sOqT9jc"
      },
      "execution_count": 245,
      "outputs": []
    },
    {
      "cell_type": "code",
      "source": [
        "def attempt_float(x):\n",
        "  try:\n",
        "    return float(x)\n",
        "  except (TypeError, ValueError):\n",
        "    return x"
      ],
      "metadata": {
        "id": "193At3MbUToB"
      },
      "execution_count": 248,
      "outputs": []
    },
    {
      "cell_type": "code",
      "source": [
        "attempt_float((1, 2))"
      ],
      "metadata": {
        "colab": {
          "base_uri": "https://localhost:8080/"
        },
        "id": "OIVBY0yVUKtR",
        "outputId": "2d90b86b-619d-4f40-8e56-1f898a41c630"
      },
      "execution_count": 249,
      "outputs": [
        {
          "output_type": "execute_result",
          "data": {
            "text/plain": [
              "(1, 2)"
            ]
          },
          "metadata": {},
          "execution_count": 249
        }
      ]
    },
    {
      "cell_type": "markdown",
      "source": [
        "## **3.3 Files and the Operating System**"
      ],
      "metadata": {
        "id": "2hmL7tJLVFQ5"
      }
    },
    {
      "cell_type": "code",
      "source": [
        "url = \"https://raw.githubusercontent.com/wesm/pydata-book/3rd-edition/examples/segismundo.txt\""
      ],
      "metadata": {
        "id": "8JDRCKRiXLiy"
      },
      "execution_count": 253,
      "outputs": []
    },
    {
      "cell_type": "code",
      "source": [
        "import requests\n",
        "\n",
        "response = requests.get(url)\n",
        "\n",
        "if response.status_code == 200:\n",
        "    # Write the contents of the text file to a local file\n",
        "    with open(\"segismundo.txt\", \"w\") as file:\n",
        "        file.write(response.text)\n",
        "else:\n",
        "    print(\"Error fetching file:\", response.status_code)"
      ],
      "metadata": {
        "id": "xLHgrqeCXO_J"
      },
      "execution_count": 254,
      "outputs": []
    },
    {
      "cell_type": "code",
      "source": [
        "path = \"./segismundo.txt\""
      ],
      "metadata": {
        "id": "y_XNDdaMYCNo"
      },
      "execution_count": 265,
      "outputs": []
    },
    {
      "cell_type": "code",
      "source": [
        "f = open(path, encoding=\"utf-8\")\n",
        "\n",
        "for line in f:\n",
        "  print(line)"
      ],
      "metadata": {
        "id": "8ygedUzYYGSQ"
      },
      "execution_count": null,
      "outputs": []
    },
    {
      "cell_type": "code",
      "source": [
        "lines = [x.rstrip() for x in open(path, encoding=\"utf-8\")]\n",
        "lines"
      ],
      "metadata": {
        "colab": {
          "base_uri": "https://localhost:8080/"
        },
        "id": "9iVZzvEyYOtX",
        "outputId": "1abc7029-e8c3-494c-84eb-d056acbdc2c4"
      },
      "execution_count": 269,
      "outputs": [
        {
          "output_type": "execute_result",
          "data": {
            "text/plain": [
              "['Sueña el rico en su riqueza,',\n",
              " 'que más cuidados le ofrece;',\n",
              " '',\n",
              " 'sueña el pobre que padece',\n",
              " 'su miseria y su pobreza;',\n",
              " '',\n",
              " 'sueña el que a medrar empieza,',\n",
              " 'sueña el que afana y pretende,',\n",
              " 'sueña el que agravia y ofende,',\n",
              " '',\n",
              " 'y en el mundo, en conclusión,',\n",
              " 'todos sueñan lo que son,',\n",
              " 'aunque ninguno lo entiende.',\n",
              " '']"
            ]
          },
          "metadata": {},
          "execution_count": 269
        }
      ]
    },
    {
      "cell_type": "code",
      "source": [
        "f.close()"
      ],
      "metadata": {
        "id": "X_BS8uUZZcPh"
      },
      "execution_count": 270,
      "outputs": []
    },
    {
      "cell_type": "code",
      "source": [
        "with open(path, encoding=\"utf-8\") as f:\n",
        "  lines = [x.rstrip() for x in f]\n",
        "  \n",
        "lines"
      ],
      "metadata": {
        "colab": {
          "base_uri": "https://localhost:8080/"
        },
        "id": "OEqvKv02YbPp",
        "outputId": "c1a24ba8-4c3d-429a-de78-dd9af9c5ecb5"
      },
      "execution_count": 268,
      "outputs": [
        {
          "output_type": "execute_result",
          "data": {
            "text/plain": [
              "['Sueña el rico en su riqueza,',\n",
              " 'que más cuidados le ofrece;',\n",
              " '',\n",
              " 'sueña el pobre que padece',\n",
              " 'su miseria y su pobreza;',\n",
              " '',\n",
              " 'sueña el que a medrar empieza,',\n",
              " 'sueña el que afana y pretende,',\n",
              " 'sueña el que agravia y ofende,',\n",
              " '',\n",
              " 'y en el mundo, en conclusión,',\n",
              " 'todos sueñan lo que son,',\n",
              " 'aunque ninguno lo entiende.',\n",
              " '']"
            ]
          },
          "metadata": {},
          "execution_count": 268
        }
      ]
    },
    {
      "cell_type": "markdown",
      "source": [
        "<table>\n",
        "  <tr>\n",
        "    <th colspan=\"2\"><h4><b>Python file modes\n",
        "</b></h4></th>\n",
        "  </tr>\n",
        "  <tr>\n",
        "    <th>Mode</th>\n",
        "    <th>Description</th>\n",
        "  </tr>\n",
        "  <tr>\n",
        "    <td>r</td>\n",
        "    <td>Read-only mode</td>\n",
        "  </tr>\n",
        "  <tr>\n",
        "    <td>w</td>\n",
        "    <td>Write-only mode; creates a new file (erasing the data for any file with the same name)</td>\n",
        "  </tr>\n",
        "  <tr>\n",
        "    <td>x</td>\n",
        "    <td>Write-only mode; creates a new file but fails if the file path already exists</td>\n",
        "  </tr>\n",
        "  <tr>\n",
        "    <td>a</td>\n",
        "    <td>Append to existing file (creates the file if it does not already exist)</td>\n",
        "  </tr>\n",
        "  <tr>\n",
        "    <td>r+</td>\n",
        "    <td>Read and write</td>\n",
        "  </tr>\n",
        "  <tr>\n",
        "    <td>b</td>\n",
        "    <td>Add to mode for binary files (i.e., \"rb\" or \"wb\")</td>\n",
        "  </tr>\n",
        "  <tr>\n",
        "    <td>t</td>\n",
        "    <td>Text mode for files (automatically decoding bytes to Unicode); this is the default if not specified</td>\n",
        "  </tr>\n",
        "</table>"
      ],
      "metadata": {
        "id": "KRbjTdgqYpE4"
      }
    },
    {
      "cell_type": "markdown",
      "source": [
        "`read` returns a certain number of characters from the file\n",
        "\n",
        "`tell` gives the current position\n",
        "\n",
        "`seek` changes the file position to the indicated byte in the file"
      ],
      "metadata": {
        "id": "RHqF1zrcZ9rR"
      }
    },
    {
      "cell_type": "code",
      "source": [
        "f1 = open(path)"
      ],
      "metadata": {
        "id": "JkVhyKd9ZK9o"
      },
      "execution_count": 271,
      "outputs": []
    },
    {
      "cell_type": "code",
      "source": [
        "f1.read(10)"
      ],
      "metadata": {
        "colab": {
          "base_uri": "https://localhost:8080/",
          "height": 35
        },
        "id": "Z5JDmc2OZgdx",
        "outputId": "82bd9b5b-2d3a-49d8-ef35-4f2aa8edfb7b"
      },
      "execution_count": 272,
      "outputs": [
        {
          "output_type": "execute_result",
          "data": {
            "text/plain": [
              "'Sueña el r'"
            ],
            "application/vnd.google.colaboratory.intrinsic+json": {
              "type": "string"
            }
          },
          "metadata": {},
          "execution_count": 272
        }
      ]
    },
    {
      "cell_type": "code",
      "source": [
        "f2 = open(path, mode=\"rb\")\n",
        "f2.read(10)"
      ],
      "metadata": {
        "colab": {
          "base_uri": "https://localhost:8080/"
        },
        "id": "_xquJ8oCZiUS",
        "outputId": "e3d1c7c3-ef6e-4624-ab81-88922241b9e7"
      },
      "execution_count": 273,
      "outputs": [
        {
          "output_type": "execute_result",
          "data": {
            "text/plain": [
              "b'Sue\\xc3\\xb1a el '"
            ]
          },
          "metadata": {},
          "execution_count": 273
        }
      ]
    },
    {
      "cell_type": "code",
      "source": [
        "f1.tell()"
      ],
      "metadata": {
        "colab": {
          "base_uri": "https://localhost:8080/"
        },
        "id": "J4U6xOv3Zn7r",
        "outputId": "1f975cd9-191a-4001-82d8-9cb6a902be52"
      },
      "execution_count": 274,
      "outputs": [
        {
          "output_type": "execute_result",
          "data": {
            "text/plain": [
              "11"
            ]
          },
          "metadata": {},
          "execution_count": 274
        }
      ]
    },
    {
      "cell_type": "code",
      "source": [
        "f2.tell()"
      ],
      "metadata": {
        "colab": {
          "base_uri": "https://localhost:8080/"
        },
        "id": "3vFSLRX4ZqF6",
        "outputId": "fd06b39c-802c-4c9c-b2df-5cd34a118a7c"
      },
      "execution_count": 275,
      "outputs": [
        {
          "output_type": "execute_result",
          "data": {
            "text/plain": [
              "10"
            ]
          },
          "metadata": {},
          "execution_count": 275
        }
      ]
    },
    {
      "cell_type": "code",
      "source": [
        "import sys\n",
        "\n",
        "sys.getdefaultencoding()"
      ],
      "metadata": {
        "colab": {
          "base_uri": "https://localhost:8080/",
          "height": 35
        },
        "id": "k6dRmRgOZsia",
        "outputId": "1dddb364-dc45-4bc2-9a55-b44a7f890c61"
      },
      "execution_count": 276,
      "outputs": [
        {
          "output_type": "execute_result",
          "data": {
            "text/plain": [
              "'utf-8'"
            ],
            "application/vnd.google.colaboratory.intrinsic+json": {
              "type": "string"
            }
          },
          "metadata": {},
          "execution_count": 276
        }
      ]
    },
    {
      "cell_type": "code",
      "source": [
        "f1.seek(3)"
      ],
      "metadata": {
        "colab": {
          "base_uri": "https://localhost:8080/"
        },
        "id": "3K2dwjiEZxMo",
        "outputId": "53c540a7-9f36-4987-fedb-2e86550430c8"
      },
      "execution_count": 277,
      "outputs": [
        {
          "output_type": "execute_result",
          "data": {
            "text/plain": [
              "3"
            ]
          },
          "metadata": {},
          "execution_count": 277
        }
      ]
    },
    {
      "cell_type": "code",
      "source": [
        "f1.read(1)"
      ],
      "metadata": {
        "colab": {
          "base_uri": "https://localhost:8080/",
          "height": 35
        },
        "id": "-grN6ER4ZzQa",
        "outputId": "2bccd8c1-3249-4f2c-a9ca-e3629c5ece1f"
      },
      "execution_count": 278,
      "outputs": [
        {
          "output_type": "execute_result",
          "data": {
            "text/plain": [
              "'ñ'"
            ],
            "application/vnd.google.colaboratory.intrinsic+json": {
              "type": "string"
            }
          },
          "metadata": {},
          "execution_count": 278
        }
      ]
    },
    {
      "cell_type": "code",
      "source": [
        "f1.tell()"
      ],
      "metadata": {
        "colab": {
          "base_uri": "https://localhost:8080/"
        },
        "id": "MzAXJUqTZ1qh",
        "outputId": "5ce2ddd7-f39e-44b3-bc81-a70d5f22ee9c"
      },
      "execution_count": 279,
      "outputs": [
        {
          "output_type": "execute_result",
          "data": {
            "text/plain": [
              "5"
            ]
          },
          "metadata": {},
          "execution_count": 279
        }
      ]
    },
    {
      "cell_type": "code",
      "source": [
        "f1.close()\n",
        "f2.close()"
      ],
      "metadata": {
        "id": "OecUWij0aKoJ"
      },
      "execution_count": 280,
      "outputs": []
    },
    {
      "cell_type": "code",
      "source": [
        "path"
      ],
      "metadata": {
        "colab": {
          "base_uri": "https://localhost:8080/",
          "height": 35
        },
        "id": "teSpNs7QaNca",
        "outputId": "e883fc62-643b-4c3f-a66a-35dad39db072"
      },
      "execution_count": 281,
      "outputs": [
        {
          "output_type": "execute_result",
          "data": {
            "text/plain": [
              "'./segismundo.txt'"
            ],
            "application/vnd.google.colaboratory.intrinsic+json": {
              "type": "string"
            }
          },
          "metadata": {},
          "execution_count": 281
        }
      ]
    },
    {
      "cell_type": "code",
      "source": [
        "with open(\"tmp.txt\", mode=\"w\") as handle:\n",
        "  handle.writelines(x for x in open(path) if len(x) > 1)"
      ],
      "metadata": {
        "id": "s5UVRuqIaPkx"
      },
      "execution_count": 282,
      "outputs": []
    },
    {
      "cell_type": "code",
      "source": [
        "with open(\"tmp.txt\") as f:\n",
        "  lines = f.readlines()\n",
        "\n",
        "lines"
      ],
      "metadata": {
        "colab": {
          "base_uri": "https://localhost:8080/"
        },
        "id": "FAUux7yzaY3g",
        "outputId": "ee5f70a1-9203-4054-f4d6-d8994b7f63b8"
      },
      "execution_count": 307,
      "outputs": [
        {
          "output_type": "execute_result",
          "data": {
            "text/plain": [
              "['Sueña el rico en su riqueza,\\n',\n",
              " 'que más cuidados le ofrece;\\n',\n",
              " 'sueña el pobre que padece\\n',\n",
              " 'su miseria y su pobreza;\\n',\n",
              " 'sueña el que a medrar empieza,\\n',\n",
              " 'sueña el que afana y pretende,\\n',\n",
              " 'sueña el que agravia y ofende,\\n',\n",
              " 'y en el mundo, en conclusión,\\n',\n",
              " 'todos sueñan lo que son,\\n',\n",
              " 'aunque ninguno lo entiende.\\n']"
            ]
          },
          "metadata": {},
          "execution_count": 307
        }
      ]
    },
    {
      "cell_type": "markdown",
      "source": [
        "<table>\n",
        "  <tr>\n",
        "    <th colspan=\"2\"><h4><b>Important Python file methods or attributes</b></h4></th>\n",
        "  </tr>\n",
        "  <tr>\n",
        "    <th>Method/attribute</th>\n",
        "    <th>Description</th>\n",
        "  </tr>\n",
        "  <tr>\n",
        "    <td>read([size])</td>\n",
        "    <td>Return data from file as bytes or string depending on the file mode, with optional size<br />argument indicating the number of bytes or string characters to read</td>\n",
        "  </tr>\n",
        "  <tr>\n",
        "    <td>readable()</td>\n",
        "    <td>Return True if the file supports read operations</td>\n",
        "  </tr>\n",
        "  <tr>\n",
        "    <td>readlines([size])</td>\n",
        "    <td>Return list of lines in the file, with optional size argument</td>\n",
        "  </tr>\n",
        "  <tr>\n",
        "    <td>write(string)</td>\n",
        "    <td>Write passed string to file</td>\n",
        "  </tr>\n",
        "  <tr>\n",
        "    <td>writable()</td>\n",
        "    <td>Return True if the file supports write operations</td>\n",
        "  </tr>\n",
        "  <tr>\n",
        "    <td>writelines(strings)</td>\n",
        "    <td>Write passed sequence of strings to the file\n",
        "</td>\n",
        "  </tr>\n",
        "  <tr>\n",
        "    <td>close()</td>\n",
        "    <td>Close the file object</td>\n",
        "  </tr>\n",
        "  <tr>\n",
        "    <td>flush()</td>\n",
        "    <td>Flush the internal I/O buffer to disk</td>\n",
        "  </tr>\n",
        "  <tr>\n",
        "    <td>seek(pos)</td>\n",
        "    <td>Move to indicated file position (integer)</td>\n",
        "  </tr>\n",
        "  <tr>\n",
        "    <td>seekable()</td>\n",
        "    <td>Return True if the file object supports seeking and thus random access (some file-like objects do not)</td>\n",
        "  </tr>\n",
        "  <tr>\n",
        "    <td>tell()</td>\n",
        "    <td>Return current file position as integer</td>\n",
        "  </tr>\n",
        "  <tr>\n",
        "    <td>closed</td>\n",
        "    <td>True if the file is closed</td>\n",
        "  </tr>\n",
        "  <tr>\n",
        "    <td>encoding</td>\n",
        "    <td>The encoding used to interpret bytes in the file as Unicode (typically UTF-8)</td>\n",
        "  </tr>\n",
        "</table>"
      ],
      "metadata": {
        "id": "gjValeJralVB"
      }
    },
    {
      "cell_type": "markdown",
      "source": [
        "**Bytes and Unicode with Files**"
      ],
      "metadata": {
        "id": "HKcLP3g6b4r8"
      }
    },
    {
      "cell_type": "code",
      "source": [
        "with open(path) as f:\n",
        "  chars = f.read(10)\n",
        "\n",
        "chars"
      ],
      "metadata": {
        "colab": {
          "base_uri": "https://localhost:8080/",
          "height": 35
        },
        "id": "Ao_yAT3Ab9aA",
        "outputId": "f5a1c7b8-853d-4ae0-83dc-bd4d41a6eda4"
      },
      "execution_count": 289,
      "outputs": [
        {
          "output_type": "execute_result",
          "data": {
            "text/plain": [
              "'Sueña el r'"
            ],
            "application/vnd.google.colaboratory.intrinsic+json": {
              "type": "string"
            }
          },
          "metadata": {},
          "execution_count": 289
        }
      ]
    },
    {
      "cell_type": "code",
      "source": [
        "len(chars)"
      ],
      "metadata": {
        "colab": {
          "base_uri": "https://localhost:8080/"
        },
        "id": "ZIo1EAAocCQg",
        "outputId": "e9af80c7-0bc2-4070-f9cc-9ef7c5ce36e0"
      },
      "execution_count": 287,
      "outputs": [
        {
          "output_type": "execute_result",
          "data": {
            "text/plain": [
              "10"
            ]
          },
          "metadata": {},
          "execution_count": 287
        }
      ]
    },
    {
      "cell_type": "code",
      "source": [
        "with open(path, mode=\"rb\") as f:\n",
        "  data = f.read(10)\n",
        "\n",
        "data"
      ],
      "metadata": {
        "colab": {
          "base_uri": "https://localhost:8080/"
        },
        "id": "b-gvHyDacD8x",
        "outputId": "bde1101f-f22e-4db6-84b2-3c335e113a7e"
      },
      "execution_count": 290,
      "outputs": [
        {
          "output_type": "execute_result",
          "data": {
            "text/plain": [
              "b'Sue\\xc3\\xb1a el '"
            ]
          },
          "metadata": {},
          "execution_count": 290
        }
      ]
    },
    {
      "cell_type": "code",
      "source": [
        "data.decode(\"utf-8\")"
      ],
      "metadata": {
        "colab": {
          "base_uri": "https://localhost:8080/",
          "height": 35
        },
        "id": "Ygh9Q_VGcSs4",
        "outputId": "97a2ca2a-0082-42b4-9b70-bffb7b8b7cc0"
      },
      "execution_count": 291,
      "outputs": [
        {
          "output_type": "execute_result",
          "data": {
            "text/plain": [
              "'Sueña el '"
            ],
            "application/vnd.google.colaboratory.intrinsic+json": {
              "type": "string"
            }
          },
          "metadata": {},
          "execution_count": 291
        }
      ]
    },
    {
      "cell_type": "code",
      "source": [
        "# data[:4].decode(\"utf-8\")"
      ],
      "metadata": {
        "id": "CxrkwXgvcVOy"
      },
      "execution_count": 304,
      "outputs": []
    },
    {
      "cell_type": "code",
      "source": [
        "sink_path = 'sink.text'\n",
        "\n",
        "with open(path) as source:\n",
        "  with open(sink_path, \"x\", encoding=\"iso-8859-1\") as sink:\n",
        "    sink.write(source.read())"
      ],
      "metadata": {
        "id": "GObNmlWycvfw"
      },
      "execution_count": 296,
      "outputs": []
    },
    {
      "cell_type": "code",
      "source": [
        "with open(sink_path, encoding=\"iso-8859-1\") as f:\n",
        "  print(f.read(10))"
      ],
      "metadata": {
        "colab": {
          "base_uri": "https://localhost:8080/"
        },
        "id": "PclaslvfdAKK",
        "outputId": "c2280fa3-85e4-4d1a-fda9-6fc0e47a0287"
      },
      "execution_count": 297,
      "outputs": [
        {
          "output_type": "stream",
          "name": "stdout",
          "text": [
            "Sueña el r\n"
          ]
        }
      ]
    },
    {
      "cell_type": "code",
      "source": [
        "f = open(path, encoding='utf-8')"
      ],
      "metadata": {
        "id": "F93-9TCPdKjw"
      },
      "execution_count": 298,
      "outputs": []
    },
    {
      "cell_type": "code",
      "source": [
        "f.read(5)"
      ],
      "metadata": {
        "colab": {
          "base_uri": "https://localhost:8080/",
          "height": 35
        },
        "id": "MiMbQpuadP1R",
        "outputId": "2eb983a9-b521-4693-ec6d-91513055c40b"
      },
      "execution_count": 299,
      "outputs": [
        {
          "output_type": "execute_result",
          "data": {
            "text/plain": [
              "'Sueña'"
            ],
            "application/vnd.google.colaboratory.intrinsic+json": {
              "type": "string"
            }
          },
          "metadata": {},
          "execution_count": 299
        }
      ]
    },
    {
      "cell_type": "code",
      "source": [
        "f.seek(4)"
      ],
      "metadata": {
        "colab": {
          "base_uri": "https://localhost:8080/"
        },
        "id": "gFWPpLULdRxR",
        "outputId": "0b85abb1-9168-4b9f-ce3a-1efc2a069e26"
      },
      "execution_count": 300,
      "outputs": [
        {
          "output_type": "execute_result",
          "data": {
            "text/plain": [
              "4"
            ]
          },
          "metadata": {},
          "execution_count": 300
        }
      ]
    },
    {
      "cell_type": "code",
      "source": [
        "# f.read(1)"
      ],
      "metadata": {
        "id": "JqS6NpqidTyh"
      },
      "execution_count": 302,
      "outputs": []
    },
    {
      "cell_type": "code",
      "source": [
        "f.close()"
      ],
      "metadata": {
        "id": "7mDeYUfvdaRR"
      },
      "execution_count": 303,
      "outputs": []
    }
  ]
}